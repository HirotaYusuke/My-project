{
 "cells": [
  {
   "cell_type": "markdown",
   "metadata": {},
   "source": [
    "# EDA1\n",
    "- データの概要の確認\n",
    "- 欠損値の確認\n",
    "- 重複データの削除\n",
    "- データの型変換"
   ]
  },
  {
   "cell_type": "code",
   "execution_count": 33,
   "metadata": {},
   "outputs": [],
   "source": [
    "import pandas as pd\n",
    "import pandas_profiling as pdp\n",
    "\n",
    "import numpy as np"
   ]
  },
  {
   "cell_type": "code",
   "execution_count": 34,
   "metadata": {},
   "outputs": [
    {
     "data": {
      "text/html": [
       "<div>\n",
       "<style scoped>\n",
       "    .dataframe tbody tr th:only-of-type {\n",
       "        vertical-align: middle;\n",
       "    }\n",
       "\n",
       "    .dataframe tbody tr th {\n",
       "        vertical-align: top;\n",
       "    }\n",
       "\n",
       "    .dataframe thead th {\n",
       "        text-align: right;\n",
       "    }\n",
       "</style>\n",
       "<table border=\"1\" class=\"dataframe\">\n",
       "  <thead>\n",
       "    <tr style=\"text-align: right;\">\n",
       "      <th></th>\n",
       "      <th>title</th>\n",
       "      <th>address</th>\n",
       "      <th>access</th>\n",
       "      <th>age</th>\n",
       "      <th>floor</th>\n",
       "      <th>fee</th>\n",
       "      <th>management_fee</th>\n",
       "      <th>deposit</th>\n",
       "      <th>gratuity</th>\n",
       "      <th>madori</th>\n",
       "      <th>menseki</th>\n",
       "    </tr>\n",
       "  </thead>\n",
       "  <tbody>\n",
       "    <tr>\n",
       "      <th>0</th>\n",
       "      <td>東京メトロ丸ノ内線 西新宿駅 地下1地上14階建 築3年</td>\n",
       "      <td>東京都新宿区西新宿８</td>\n",
       "      <td>\\n東京メトロ丸ノ内線/西新宿駅 歩5分\\nＪＲ山手線/新宿駅 歩13分\\n都営大江戸線/新...</td>\n",
       "      <td>\\n築3年\\n地下1地上14階建\\n</td>\n",
       "      <td>\\r\\n\\t\\t\\t\\t\\t\\t\\t\\t\\t\\t\\t2階</td>\n",
       "      <td>11.4万円</td>\n",
       "      <td>10000円</td>\n",
       "      <td>11.4万円</td>\n",
       "      <td>17.1万円</td>\n",
       "      <td>1K</td>\n",
       "      <td>25.37m2</td>\n",
       "    </tr>\n",
       "    <tr>\n",
       "      <th>1</th>\n",
       "      <td>東京メトロ丸ノ内線 西新宿駅 地下1地上14階建 築3年</td>\n",
       "      <td>東京都新宿区西新宿８</td>\n",
       "      <td>\\n東京メトロ丸ノ内線/西新宿駅 歩5分\\nＪＲ山手線/新宿駅 歩13分\\n都営大江戸線/新...</td>\n",
       "      <td>\\n築3年\\n地下1地上14階建\\n</td>\n",
       "      <td>\\r\\n\\t\\t\\t\\t\\t\\t\\t\\t\\t\\t\\t3階</td>\n",
       "      <td>11.4万円</td>\n",
       "      <td>10000円</td>\n",
       "      <td>11.4万円</td>\n",
       "      <td>17.1万円</td>\n",
       "      <td>1K</td>\n",
       "      <td>25.37m2</td>\n",
       "    </tr>\n",
       "    <tr>\n",
       "      <th>2</th>\n",
       "      <td>東京メトロ丸ノ内線 西新宿駅 地下1地上14階建 築3年</td>\n",
       "      <td>東京都新宿区西新宿８</td>\n",
       "      <td>\\n東京メトロ丸ノ内線/西新宿駅 歩5分\\nＪＲ山手線/新宿駅 歩13分\\n都営大江戸線/新...</td>\n",
       "      <td>\\n築3年\\n地下1地上14階建\\n</td>\n",
       "      <td>\\r\\n\\t\\t\\t\\t\\t\\t\\t\\t\\t\\t\\t6階</td>\n",
       "      <td>11.4万円</td>\n",
       "      <td>10000円</td>\n",
       "      <td>11.4万円</td>\n",
       "      <td>17.1万円</td>\n",
       "      <td>1K</td>\n",
       "      <td>25.37m2</td>\n",
       "    </tr>\n",
       "    <tr>\n",
       "      <th>3</th>\n",
       "      <td>東京メトロ丸ノ内線 西新宿駅 地下1地上14階建 築3年</td>\n",
       "      <td>東京都新宿区西新宿８</td>\n",
       "      <td>\\n東京メトロ丸ノ内線/西新宿駅 歩5分\\nＪＲ山手線/新宿駅 歩13分\\n都営大江戸線/新...</td>\n",
       "      <td>\\n築3年\\n地下1地上14階建\\n</td>\n",
       "      <td>\\r\\n\\t\\t\\t\\t\\t\\t\\t\\t\\t\\t\\t6階</td>\n",
       "      <td>11.5万円</td>\n",
       "      <td>10000円</td>\n",
       "      <td>11.5万円</td>\n",
       "      <td>17.25万円</td>\n",
       "      <td>1K</td>\n",
       "      <td>25.37m2</td>\n",
       "    </tr>\n",
       "    <tr>\n",
       "      <th>4</th>\n",
       "      <td>東京メトロ丸ノ内線 西新宿駅 地下1地上14階建 築3年</td>\n",
       "      <td>東京都新宿区西新宿８</td>\n",
       "      <td>\\n東京メトロ丸ノ内線/西新宿駅 歩5分\\nＪＲ山手線/新宿駅 歩13分\\n都営大江戸線/新...</td>\n",
       "      <td>\\n築3年\\n地下1地上14階建\\n</td>\n",
       "      <td>\\r\\n\\t\\t\\t\\t\\t\\t\\t\\t\\t\\t\\t8階</td>\n",
       "      <td>11.9万円</td>\n",
       "      <td>10000円</td>\n",
       "      <td>11.9万円</td>\n",
       "      <td>17.85万円</td>\n",
       "      <td>1K</td>\n",
       "      <td>25.37m2</td>\n",
       "    </tr>\n",
       "  </tbody>\n",
       "</table>\n",
       "</div>"
      ],
      "text/plain": [
       "                          title     address  \\\n",
       "0  東京メトロ丸ノ内線 西新宿駅 地下1地上14階建 築3年  東京都新宿区西新宿８   \n",
       "1  東京メトロ丸ノ内線 西新宿駅 地下1地上14階建 築3年  東京都新宿区西新宿８   \n",
       "2  東京メトロ丸ノ内線 西新宿駅 地下1地上14階建 築3年  東京都新宿区西新宿８   \n",
       "3  東京メトロ丸ノ内線 西新宿駅 地下1地上14階建 築3年  東京都新宿区西新宿８   \n",
       "4  東京メトロ丸ノ内線 西新宿駅 地下1地上14階建 築3年  東京都新宿区西新宿８   \n",
       "\n",
       "                                              access                 age  \\\n",
       "0  \\n東京メトロ丸ノ内線/西新宿駅 歩5分\\nＪＲ山手線/新宿駅 歩13分\\n都営大江戸線/新...  \\n築3年\\n地下1地上14階建\\n   \n",
       "1  \\n東京メトロ丸ノ内線/西新宿駅 歩5分\\nＪＲ山手線/新宿駅 歩13分\\n都営大江戸線/新...  \\n築3年\\n地下1地上14階建\\n   \n",
       "2  \\n東京メトロ丸ノ内線/西新宿駅 歩5分\\nＪＲ山手線/新宿駅 歩13分\\n都営大江戸線/新...  \\n築3年\\n地下1地上14階建\\n   \n",
       "3  \\n東京メトロ丸ノ内線/西新宿駅 歩5分\\nＪＲ山手線/新宿駅 歩13分\\n都営大江戸線/新...  \\n築3年\\n地下1地上14階建\\n   \n",
       "4  \\n東京メトロ丸ノ内線/西新宿駅 歩5分\\nＪＲ山手線/新宿駅 歩13分\\n都営大江戸線/新...  \\n築3年\\n地下1地上14階建\\n   \n",
       "\n",
       "                          floor     fee management_fee deposit gratuity  \\\n",
       "0  \\r\\n\\t\\t\\t\\t\\t\\t\\t\\t\\t\\t\\t2階  11.4万円         10000円  11.4万円   17.1万円   \n",
       "1  \\r\\n\\t\\t\\t\\t\\t\\t\\t\\t\\t\\t\\t3階  11.4万円         10000円  11.4万円   17.1万円   \n",
       "2  \\r\\n\\t\\t\\t\\t\\t\\t\\t\\t\\t\\t\\t6階  11.4万円         10000円  11.4万円   17.1万円   \n",
       "3  \\r\\n\\t\\t\\t\\t\\t\\t\\t\\t\\t\\t\\t6階  11.5万円         10000円  11.5万円  17.25万円   \n",
       "4  \\r\\n\\t\\t\\t\\t\\t\\t\\t\\t\\t\\t\\t8階  11.9万円         10000円  11.9万円  17.85万円   \n",
       "\n",
       "  madori  menseki  \n",
       "0     1K  25.37m2  \n",
       "1     1K  25.37m2  \n",
       "2     1K  25.37m2  \n",
       "3     1K  25.37m2  \n",
       "4     1K  25.37m2  "
      ]
     },
     "execution_count": 34,
     "metadata": {},
     "output_type": "execute_result"
    }
   ],
   "source": [
    "df = pd.read_csv('..//Data-science//data//sumo.csv')\n",
    "df.head()"
   ]
  },
  {
   "cell_type": "code",
   "execution_count": 35,
   "metadata": {},
   "outputs": [],
   "source": [
    "#df.dtypes"
   ]
  },
  {
   "cell_type": "markdown",
   "metadata": {},
   "source": [
    "## データ概要\n",
    "8381件\n",
    "\n",
    "- title：物件名\n",
    "- adress：住所\n",
    "- access：最寄り駅からの距離\n",
    "- age：築年数，地下階数，地上階数\n",
    "- flooar：階数\n",
    "- fee：賃料\n",
    "- management fee：管理費\n",
    "- deposit：敷金（不動産の賃貸契約を新規で行う際に，不動産業者を通して契約者が支払う費用．債務を担保するため借主が貸主に支払う）\n",
    "- gratuity：礼金（契約時に初期費用に合わせて契約者から貸主に支払う費用．）\n",
    "- madori：間取り\n",
    "- menseki：専有面積"
   ]
  },
  {
   "cell_type": "markdown",
   "metadata": {},
   "source": [
    "## 1.クリーニング"
   ]
  },
  {
   "cell_type": "code",
   "execution_count": 36,
   "metadata": {},
   "outputs": [
    {
     "data": {
      "text/plain": [
       "title             0\n",
       "address           0\n",
       "access            0\n",
       "age               0\n",
       "floor             0\n",
       "fee               0\n",
       "management_fee    0\n",
       "deposit           0\n",
       "gratuity          0\n",
       "madori            0\n",
       "menseki           0\n",
       "dtype: int64"
      ]
     },
     "execution_count": 36,
     "metadata": {},
     "output_type": "execute_result"
    }
   ],
   "source": [
    "# 欠損値\n",
    "df.isna().sum()"
   ]
  },
  {
   "cell_type": "markdown",
   "metadata": {},
   "source": [
    "### 1.1 重複データの処理"
   ]
  },
  {
   "cell_type": "code",
   "execution_count": 37,
   "metadata": {},
   "outputs": [],
   "source": [
    "# 重複データの確認\n",
    "#df[df.duplicated()]"
   ]
  },
  {
   "cell_type": "code",
   "execution_count": 38,
   "metadata": {},
   "outputs": [
    {
     "data": {
      "text/plain": [
       "0"
      ]
     },
     "execution_count": 38,
     "metadata": {},
     "output_type": "execute_result"
    }
   ],
   "source": [
    "# 重複データの削除\n",
    "df_1_1 = df.drop_duplicates()\n",
    "df_1_1.reset_index(drop=True, inplace=True)\n",
    "df_1_1.duplicated().sum()"
   ]
  },
  {
   "cell_type": "code",
   "execution_count": 39,
   "metadata": {},
   "outputs": [],
   "source": [
    "df_1_2 = df_1_1"
   ]
  },
  {
   "cell_type": "markdown",
   "metadata": {},
   "source": [
    "### 1.2 データ型変換\n",
    "\n",
    "- 'access' は複数の駅からの距離平均を表す変数を作る．int型．\n",
    "- 'age' は築年数を抽出．int型．'新築'は '0'を代入．\n",
    "- 'floor' はint型に変換．数値ではないインデックスをSUMOにて確認したところ，一軒家あるいは平屋であったため，'1'を代入．\n",
    "- 'fee' はint型に変換．\n",
    "- 'management_fee' はint型に変換．管理費がない物件は'0'を代入．他の金額を表す変数とスケールを揃えるため，'10000'で割る．\n",
    "- 'deposit' はint型に変換．敷金がない物件は'0'を代入．\n",
    "- 'gratuity' はint型に変換．礼金ない物件は'0'を代入．\n",
    "- 'madori' は部屋数をint型に変換．LDKの区分をカテゴリカル変数にする．この際，'ワンルーム'は部屋数を'1'，LDK区分を'R'とした．\n",
    "- 'mennseki' はfloat型に変換． \n"
   ]
  },
  {
   "cell_type": "markdown",
   "metadata": {},
   "source": [
    "####  'access'の処理"
   ]
  },
  {
   "cell_type": "code",
   "execution_count": 40,
   "metadata": {},
   "outputs": [],
   "source": [
    "import re"
   ]
  },
  {
   "cell_type": "code",
   "execution_count": 41,
   "metadata": {},
   "outputs": [],
   "source": [
    "access_mean = []\n",
    "for i in range(0, len(df_1_2)):\n",
    "    s = df_1_2['access'].iloc[i]\n",
    "    result = re.findall(r\"\\d+\", s)\n",
    "    result = list(map(int, result))\n",
    "    result_mean = np.mean(result)\n",
    "    access_mean.append(result_mean)"
   ]
  },
  {
   "cell_type": "code",
   "execution_count": 42,
   "metadata": {},
   "outputs": [
    {
     "name": "stderr",
     "output_type": "stream",
     "text": [
      "C:\\Users\\bi18056\\AppData\\Local\\Temp/ipykernel_29412/167027773.py:1: SettingWithCopyWarning: \n",
      "A value is trying to be set on a copy of a slice from a DataFrame.\n",
      "Try using .loc[row_indexer,col_indexer] = value instead\n",
      "\n",
      "See the caveats in the documentation: https://pandas.pydata.org/pandas-docs/stable/user_guide/indexing.html#returning-a-view-versus-a-copy\n",
      "  df_1_2['access_mean'] = access_mean\n"
     ]
    }
   ],
   "source": [
    "df_1_2['access_mean'] = access_mean"
   ]
  },
  {
   "cell_type": "markdown",
   "metadata": {},
   "source": [
    "#### 'age'の処理"
   ]
  },
  {
   "cell_type": "code",
   "execution_count": 43,
   "metadata": {},
   "outputs": [],
   "source": [
    "age = []\n",
    "for i in range(0, len(df_1_2)):\n",
    "    s = df_1_2['age'].iloc[i]\n",
    "    if re.search('新築', s):\n",
    "        age.append('0')\n",
    "    else:\n",
    "        result = re.findall(r\"\\d+\", s)\n",
    "        age.append(result[0])\n",
    "\n",
    "age = list(map(int, age))"
   ]
  },
  {
   "cell_type": "code",
   "execution_count": 44,
   "metadata": {},
   "outputs": [
    {
     "name": "stderr",
     "output_type": "stream",
     "text": [
      "C:\\Users\\bi18056\\AppData\\Local\\Temp/ipykernel_29412/3636701454.py:1: SettingWithCopyWarning: \n",
      "A value is trying to be set on a copy of a slice from a DataFrame.\n",
      "Try using .loc[row_indexer,col_indexer] = value instead\n",
      "\n",
      "See the caveats in the documentation: https://pandas.pydata.org/pandas-docs/stable/user_guide/indexing.html#returning-a-view-versus-a-copy\n",
      "  df_1_2['age'] = age\n"
     ]
    }
   ],
   "source": [
    "df_1_2['age'] = age\n",
    "#df_1_2.head()"
   ]
  },
  {
   "cell_type": "markdown",
   "metadata": {},
   "source": [
    "#### 'floor', 'deposit', 'gratuity'の処理"
   ]
  },
  {
   "cell_type": "code",
   "execution_count": 45,
   "metadata": {},
   "outputs": [],
   "source": [
    "floor = []\n",
    "\n",
    "a=0\n",
    "for i in range(0, len(df_1_2)):\n",
    "    s = df_1_2['floor'].iloc[i]\n",
    "    result = re.findall(r\"\\d+\", s)\n",
    "    if len(result) < 1:\n",
    "        floor.append(\"1\")\n",
    "    else:\n",
    "        floor.append(result[0])\n",
    "\n",
    "floor = list(map(int, floor))\n"
   ]
  },
  {
   "cell_type": "code",
   "execution_count": 46,
   "metadata": {},
   "outputs": [
    {
     "name": "stderr",
     "output_type": "stream",
     "text": [
      "C:\\Users\\bi18056\\AppData\\Local\\Temp/ipykernel_29412/4059042180.py:1: SettingWithCopyWarning: \n",
      "A value is trying to be set on a copy of a slice from a DataFrame.\n",
      "Try using .loc[row_indexer,col_indexer] = value instead\n",
      "\n",
      "See the caveats in the documentation: https://pandas.pydata.org/pandas-docs/stable/user_guide/indexing.html#returning-a-view-versus-a-copy\n",
      "  df_1_2['floor'] = floor\n"
     ]
    }
   ],
   "source": [
    "df_1_2['floor'] = floor\n",
    "#df_1_2.head()"
   ]
  },
  {
   "cell_type": "markdown",
   "metadata": {},
   "source": [
    "#### 'management_fee'の処理"
   ]
  },
  {
   "cell_type": "code",
   "execution_count": 47,
   "metadata": {},
   "outputs": [
    {
     "data": {
      "text/plain": [
       "array(['10000円', '15000円', '20000円', '12000円', '12050円', '7000円',\n",
       "       '20240円', '25000円', '8000円', '10500円', '5000円', '-', '18000円',\n",
       "       '6000円', '3000円', '20200円', '2000円', '9000円', '4000円', '7500円',\n",
       "       '17000円', '3500円', '8500円', '9500円', '80000円', '5500円', '9600円',\n",
       "       '11000円', '21000円', '30000円', '5200円', '22000円', '16000円',\n",
       "       '14500円', '11900円', '8300円', '8200円', '9300円', '14000円', '2500円',\n",
       "       '13000円', '7300円', '1000円', '4500円', '6400円', '6450円', '7200円',\n",
       "       '6900円', '12500円', '6500円', '96000円', '5600円', '18600円', '11200円',\n",
       "       '19000円', '10800円', '2200円', '16500円', '11500円', '18300円', '7800円',\n",
       "       '15500円', '9800円', '35000円', '36000円'], dtype=object)"
      ]
     },
     "execution_count": 47,
     "metadata": {},
     "output_type": "execute_result"
    }
   ],
   "source": [
    "df_1_2['management_fee'].unique()"
   ]
  },
  {
   "cell_type": "code",
   "execution_count": 48,
   "metadata": {},
   "outputs": [],
   "source": [
    "management_fee = []\n",
    "\n",
    "for i in range(0, len(df_1_2)):\n",
    "    r = df_1_2['management_fee'].iloc[i]\n",
    "    result = re.findall(r\"\\d+\\.+[0-9]{1,3}|\\d+\", r)\n",
    "\n",
    "    if len(result) < 1:\n",
    "        management_fee.append(\"0\")\n",
    "    else:\n",
    "        management_fee.append(result[0])\n",
    "\n",
    "    \n",
    "management_fee = list(map(float, management_fee))"
   ]
  },
  {
   "cell_type": "code",
   "execution_count": 49,
   "metadata": {},
   "outputs": [],
   "source": [
    "management_fee = [n/10000 for n in management_fee]"
   ]
  },
  {
   "cell_type": "code",
   "execution_count": 50,
   "metadata": {},
   "outputs": [
    {
     "name": "stderr",
     "output_type": "stream",
     "text": [
      "C:\\Users\\bi18056\\AppData\\Local\\Temp/ipykernel_29412/1223691303.py:1: SettingWithCopyWarning: \n",
      "A value is trying to be set on a copy of a slice from a DataFrame.\n",
      "Try using .loc[row_indexer,col_indexer] = value instead\n",
      "\n",
      "See the caveats in the documentation: https://pandas.pydata.org/pandas-docs/stable/user_guide/indexing.html#returning-a-view-versus-a-copy\n",
      "  df_1_2['management_fee'] = management_fee\n"
     ]
    }
   ],
   "source": [
    "df_1_2['management_fee'] = management_fee"
   ]
  },
  {
   "cell_type": "markdown",
   "metadata": {},
   "source": [
    "#### 'fee'の処理"
   ]
  },
  {
   "cell_type": "code",
   "execution_count": 51,
   "metadata": {},
   "outputs": [],
   "source": [
    "fee = []\n",
    "deposit = []\n",
    "gratuity = []\n",
    "\n",
    "for i in range(0, len(df_1_2)):\n",
    "    f, d, g = df_1_2[['fee', 'deposit', 'gratuity']].iloc[i]\n",
    "    result_f = re.findall(r\"\\d+\\.+[0-9]{1,3}|\\d+\", f)\n",
    "    result_d = re.findall(r\"\\d+\\.+[0-9]{1,3}|\\d+\", d)\n",
    "    result_g = re.findall(r\"\\d+\\.+[0-9]{1,3}|\\d+\", g)\n",
    "\n",
    "    fee.append(result_f[0])\n",
    "\n",
    "    if len(result_d) < 1:\n",
    "        deposit.append(\"0.0\")\n",
    "    else:\n",
    "        deposit.append(result_d[0])\n",
    "\n",
    "    if len(result_g) < 1:\n",
    "        gratuity.append(\"0.0\")\n",
    "    else:\n",
    "        gratuity.append(result_g[0])\n",
    "\n",
    "fee = list(map(float, fee))\n",
    "deposit = list(map(float, deposit))\n",
    "gratuity = list(map(float, gratuity))"
   ]
  },
  {
   "cell_type": "code",
   "execution_count": 52,
   "metadata": {},
   "outputs": [
    {
     "name": "stderr",
     "output_type": "stream",
     "text": [
      "C:\\Users\\bi18056\\AppData\\Local\\Temp/ipykernel_29412/3764121793.py:1: SettingWithCopyWarning: \n",
      "A value is trying to be set on a copy of a slice from a DataFrame.\n",
      "Try using .loc[row_indexer,col_indexer] = value instead\n",
      "\n",
      "See the caveats in the documentation: https://pandas.pydata.org/pandas-docs/stable/user_guide/indexing.html#returning-a-view-versus-a-copy\n",
      "  df_1_2['fee'] = fee\n",
      "C:\\Users\\bi18056\\AppData\\Local\\Temp/ipykernel_29412/3764121793.py:2: SettingWithCopyWarning: \n",
      "A value is trying to be set on a copy of a slice from a DataFrame.\n",
      "Try using .loc[row_indexer,col_indexer] = value instead\n",
      "\n",
      "See the caveats in the documentation: https://pandas.pydata.org/pandas-docs/stable/user_guide/indexing.html#returning-a-view-versus-a-copy\n",
      "  df_1_2['deposit'] = deposit\n",
      "C:\\Users\\bi18056\\AppData\\Local\\Temp/ipykernel_29412/3764121793.py:3: SettingWithCopyWarning: \n",
      "A value is trying to be set on a copy of a slice from a DataFrame.\n",
      "Try using .loc[row_indexer,col_indexer] = value instead\n",
      "\n",
      "See the caveats in the documentation: https://pandas.pydata.org/pandas-docs/stable/user_guide/indexing.html#returning-a-view-versus-a-copy\n",
      "  df_1_2['gratuity'] = gratuity\n"
     ]
    }
   ],
   "source": [
    "df_1_2['fee'] = fee\n",
    "df_1_2['deposit'] = deposit\n",
    "df_1_2['gratuity'] = gratuity"
   ]
  },
  {
   "cell_type": "markdown",
   "metadata": {},
   "source": [
    "#### 'madori'の処理"
   ]
  },
  {
   "cell_type": "code",
   "execution_count": 53,
   "metadata": {},
   "outputs": [
    {
     "data": {
      "text/plain": [
       "array(['1K', '1LDK', '2LDK', '1DK', '2K', 'ワンルーム', '2SLDK', '1SLDK',\n",
       "       '3LDK', '1SDK', '2DK', '6LDK', '1SK', '4LDK', '3SLDK', '4DK',\n",
       "       '4SLDK', '3K', '3DK', '8K', '2LK', '7LDK', '1LK', '1SLK', '5LDK',\n",
       "       '2SDK'], dtype=object)"
      ]
     },
     "execution_count": 53,
     "metadata": {},
     "output_type": "execute_result"
    }
   ],
   "source": [
    "df_1_2['madori'].unique()"
   ]
  },
  {
   "cell_type": "code",
   "execution_count": 54,
   "metadata": {},
   "outputs": [],
   "source": [
    "room = []\n",
    "layout = []\n",
    "\n",
    "for i in range(0, len(df_1_2)):\n",
    "    s = df_1_2['madori'].iloc[i]\n",
    "\n",
    "    if re.search('ワンルーム', s):\n",
    "        room.append('1')\n",
    "        layout.append('R')\n",
    "    else:\n",
    "        result_rm = re.findall(r\"\\d+\", s)\n",
    "        room.append(result_rm[0])\n",
    "        \n",
    "        result_lo = re.findall(r\"\\D+\", s)\n",
    "        layout.append(result_lo[0])\n",
    "\n",
    "room = list(map(int, room))"
   ]
  },
  {
   "cell_type": "code",
   "execution_count": 55,
   "metadata": {},
   "outputs": [
    {
     "name": "stderr",
     "output_type": "stream",
     "text": [
      "C:\\Users\\bi18056\\AppData\\Local\\Temp/ipykernel_29412/3700825610.py:1: SettingWithCopyWarning: \n",
      "A value is trying to be set on a copy of a slice from a DataFrame.\n",
      "Try using .loc[row_indexer,col_indexer] = value instead\n",
      "\n",
      "See the caveats in the documentation: https://pandas.pydata.org/pandas-docs/stable/user_guide/indexing.html#returning-a-view-versus-a-copy\n",
      "  df_1_2['room'] = room\n",
      "C:\\Users\\bi18056\\AppData\\Local\\Temp/ipykernel_29412/3700825610.py:2: SettingWithCopyWarning: \n",
      "A value is trying to be set on a copy of a slice from a DataFrame.\n",
      "Try using .loc[row_indexer,col_indexer] = value instead\n",
      "\n",
      "See the caveats in the documentation: https://pandas.pydata.org/pandas-docs/stable/user_guide/indexing.html#returning-a-view-versus-a-copy\n",
      "  df_1_2['layout'] = layout\n"
     ]
    }
   ],
   "source": [
    "df_1_2['room'] = room\n",
    "df_1_2['layout'] = layout"
   ]
  },
  {
   "cell_type": "markdown",
   "metadata": {},
   "source": [
    "#### 'menseki'の処理"
   ]
  },
  {
   "cell_type": "code",
   "execution_count": 56,
   "metadata": {},
   "outputs": [
    {
     "data": {
      "text/plain": [
       "array(['25.37m2', '40.17m2', '54m2', ..., '26.57m2', '27.02m2', '19.52m2'],\n",
       "      dtype=object)"
      ]
     },
     "execution_count": 56,
     "metadata": {},
     "output_type": "execute_result"
    }
   ],
   "source": [
    "df_1_2['menseki'].unique()"
   ]
  },
  {
   "cell_type": "code",
   "execution_count": 57,
   "metadata": {},
   "outputs": [],
   "source": [
    "area = []\n",
    "\n",
    "for i in range(0, len(df_1_2)):\n",
    "    r = df_1_2['menseki'].iloc[i]\n",
    "    result = re.findall(r\"\\d+\\.+[0-9]{1,2}|\\d+\", r)\n",
    "    area.append(result[0])\n",
    "\n",
    "    \n",
    "area = list(map(float, area))"
   ]
  },
  {
   "cell_type": "code",
   "execution_count": 58,
   "metadata": {},
   "outputs": [
    {
     "name": "stderr",
     "output_type": "stream",
     "text": [
      "C:\\Users\\bi18056\\AppData\\Local\\Temp/ipykernel_29412/2334891934.py:1: SettingWithCopyWarning: \n",
      "A value is trying to be set on a copy of a slice from a DataFrame.\n",
      "Try using .loc[row_indexer,col_indexer] = value instead\n",
      "\n",
      "See the caveats in the documentation: https://pandas.pydata.org/pandas-docs/stable/user_guide/indexing.html#returning-a-view-versus-a-copy\n",
      "  df_1_2['area'] = area\n"
     ]
    }
   ],
   "source": [
    "df_1_2['area'] = area"
   ]
  },
  {
   "cell_type": "code",
   "execution_count": 59,
   "metadata": {},
   "outputs": [],
   "source": [
    "df_1_2 = df_1_2.drop_duplicates()\n",
    "df_1_2.reset_index(drop=True, inplace=True)"
   ]
  },
  {
   "cell_type": "code",
   "execution_count": 60,
   "metadata": {},
   "outputs": [],
   "source": [
    "cleande_df = df_1_2.copy()"
   ]
  },
  {
   "cell_type": "code",
   "execution_count": 61,
   "metadata": {},
   "outputs": [
    {
     "data": {
      "text/html": [
       "<div>\n",
       "<style scoped>\n",
       "    .dataframe tbody tr th:only-of-type {\n",
       "        vertical-align: middle;\n",
       "    }\n",
       "\n",
       "    .dataframe tbody tr th {\n",
       "        vertical-align: top;\n",
       "    }\n",
       "\n",
       "    .dataframe thead th {\n",
       "        text-align: right;\n",
       "    }\n",
       "</style>\n",
       "<table border=\"1\" class=\"dataframe\">\n",
       "  <thead>\n",
       "    <tr style=\"text-align: right;\">\n",
       "      <th></th>\n",
       "      <th>title</th>\n",
       "      <th>address</th>\n",
       "      <th>access</th>\n",
       "      <th>age</th>\n",
       "      <th>floor</th>\n",
       "      <th>fee</th>\n",
       "      <th>management_fee</th>\n",
       "      <th>deposit</th>\n",
       "      <th>gratuity</th>\n",
       "      <th>madori</th>\n",
       "      <th>menseki</th>\n",
       "      <th>access_mean</th>\n",
       "      <th>room</th>\n",
       "      <th>layout</th>\n",
       "      <th>area</th>\n",
       "    </tr>\n",
       "  </thead>\n",
       "  <tbody>\n",
       "    <tr>\n",
       "      <th>0</th>\n",
       "      <td>東京メトロ丸ノ内線 西新宿駅 地下1地上14階建 築3年</td>\n",
       "      <td>東京都新宿区西新宿８</td>\n",
       "      <td>\\n東京メトロ丸ノ内線/西新宿駅 歩5分\\nＪＲ山手線/新宿駅 歩13分\\n都営大江戸線/新...</td>\n",
       "      <td>3</td>\n",
       "      <td>2</td>\n",
       "      <td>11.4</td>\n",
       "      <td>1.00</td>\n",
       "      <td>11.4</td>\n",
       "      <td>17.10</td>\n",
       "      <td>1K</td>\n",
       "      <td>25.37m2</td>\n",
       "      <td>9.000000</td>\n",
       "      <td>1</td>\n",
       "      <td>K</td>\n",
       "      <td>25.37</td>\n",
       "    </tr>\n",
       "    <tr>\n",
       "      <th>1</th>\n",
       "      <td>東京メトロ丸ノ内線 西新宿駅 地下1地上14階建 築3年</td>\n",
       "      <td>東京都新宿区西新宿８</td>\n",
       "      <td>\\n東京メトロ丸ノ内線/西新宿駅 歩5分\\nＪＲ山手線/新宿駅 歩13分\\n都営大江戸線/新...</td>\n",
       "      <td>3</td>\n",
       "      <td>3</td>\n",
       "      <td>11.4</td>\n",
       "      <td>1.00</td>\n",
       "      <td>11.4</td>\n",
       "      <td>17.10</td>\n",
       "      <td>1K</td>\n",
       "      <td>25.37m2</td>\n",
       "      <td>9.000000</td>\n",
       "      <td>1</td>\n",
       "      <td>K</td>\n",
       "      <td>25.37</td>\n",
       "    </tr>\n",
       "    <tr>\n",
       "      <th>2</th>\n",
       "      <td>東京メトロ丸ノ内線 西新宿駅 地下1地上14階建 築3年</td>\n",
       "      <td>東京都新宿区西新宿８</td>\n",
       "      <td>\\n東京メトロ丸ノ内線/西新宿駅 歩5分\\nＪＲ山手線/新宿駅 歩13分\\n都営大江戸線/新...</td>\n",
       "      <td>3</td>\n",
       "      <td>6</td>\n",
       "      <td>11.4</td>\n",
       "      <td>1.00</td>\n",
       "      <td>11.4</td>\n",
       "      <td>17.10</td>\n",
       "      <td>1K</td>\n",
       "      <td>25.37m2</td>\n",
       "      <td>9.000000</td>\n",
       "      <td>1</td>\n",
       "      <td>K</td>\n",
       "      <td>25.37</td>\n",
       "    </tr>\n",
       "    <tr>\n",
       "      <th>3</th>\n",
       "      <td>東京メトロ丸ノ内線 西新宿駅 地下1地上14階建 築3年</td>\n",
       "      <td>東京都新宿区西新宿８</td>\n",
       "      <td>\\n東京メトロ丸ノ内線/西新宿駅 歩5分\\nＪＲ山手線/新宿駅 歩13分\\n都営大江戸線/新...</td>\n",
       "      <td>3</td>\n",
       "      <td>6</td>\n",
       "      <td>11.5</td>\n",
       "      <td>1.00</td>\n",
       "      <td>11.5</td>\n",
       "      <td>17.25</td>\n",
       "      <td>1K</td>\n",
       "      <td>25.37m2</td>\n",
       "      <td>9.000000</td>\n",
       "      <td>1</td>\n",
       "      <td>K</td>\n",
       "      <td>25.37</td>\n",
       "    </tr>\n",
       "    <tr>\n",
       "      <th>4</th>\n",
       "      <td>東京メトロ丸ノ内線 西新宿駅 地下1地上14階建 築3年</td>\n",
       "      <td>東京都新宿区西新宿８</td>\n",
       "      <td>\\n東京メトロ丸ノ内線/西新宿駅 歩5分\\nＪＲ山手線/新宿駅 歩13分\\n都営大江戸線/新...</td>\n",
       "      <td>3</td>\n",
       "      <td>8</td>\n",
       "      <td>11.9</td>\n",
       "      <td>1.00</td>\n",
       "      <td>11.9</td>\n",
       "      <td>17.85</td>\n",
       "      <td>1K</td>\n",
       "      <td>25.37m2</td>\n",
       "      <td>9.000000</td>\n",
       "      <td>1</td>\n",
       "      <td>K</td>\n",
       "      <td>25.37</td>\n",
       "    </tr>\n",
       "    <tr>\n",
       "      <th>...</th>\n",
       "      <td>...</td>\n",
       "      <td>...</td>\n",
       "      <td>...</td>\n",
       "      <td>...</td>\n",
       "      <td>...</td>\n",
       "      <td>...</td>\n",
       "      <td>...</td>\n",
       "      <td>...</td>\n",
       "      <td>...</td>\n",
       "      <td>...</td>\n",
       "      <td>...</td>\n",
       "      <td>...</td>\n",
       "      <td>...</td>\n",
       "      <td>...</td>\n",
       "      <td>...</td>\n",
       "    </tr>\n",
       "    <tr>\n",
       "      <th>7352</th>\n",
       "      <td>東京メトロ丸ノ内線 新宿御苑前駅 5階建 築5年</td>\n",
       "      <td>東京都新宿区新宿５</td>\n",
       "      <td>\\n東京メトロ丸ノ内線/新宿御苑前駅 歩8分\\n都営新宿線/新宿三丁目駅 歩8分\\n東京メト...</td>\n",
       "      <td>5</td>\n",
       "      <td>2</td>\n",
       "      <td>13.3</td>\n",
       "      <td>1.00</td>\n",
       "      <td>13.3</td>\n",
       "      <td>13.30</td>\n",
       "      <td>1DK</td>\n",
       "      <td>31.25m2</td>\n",
       "      <td>8.000000</td>\n",
       "      <td>1</td>\n",
       "      <td>DK</td>\n",
       "      <td>31.25</td>\n",
       "    </tr>\n",
       "    <tr>\n",
       "      <th>7353</th>\n",
       "      <td>トーシンフェニックス牛込神楽坂</td>\n",
       "      <td>東京都新宿区中町</td>\n",
       "      <td>\\n都営大江戸線/牛込神楽坂駅 歩3分\\nＪＲ総武線/飯田橋駅 歩7分\\n東京メトロ東西線/...</td>\n",
       "      <td>16</td>\n",
       "      <td>2</td>\n",
       "      <td>7.9</td>\n",
       "      <td>1.05</td>\n",
       "      <td>0.0</td>\n",
       "      <td>7.90</td>\n",
       "      <td>1K</td>\n",
       "      <td>19.5m2</td>\n",
       "      <td>6.333333</td>\n",
       "      <td>1</td>\n",
       "      <td>K</td>\n",
       "      <td>19.50</td>\n",
       "    </tr>\n",
       "    <tr>\n",
       "      <th>7354</th>\n",
       "      <td>トーシンフェニックス牛込神楽坂</td>\n",
       "      <td>東京都新宿区中町</td>\n",
       "      <td>\\n都営大江戸線/牛込神楽坂駅 歩3分\\nＪＲ総武線/飯田橋駅 歩7分\\n東京メトロ東西線/...</td>\n",
       "      <td>16</td>\n",
       "      <td>4</td>\n",
       "      <td>8.3</td>\n",
       "      <td>1.05</td>\n",
       "      <td>0.0</td>\n",
       "      <td>8.30</td>\n",
       "      <td>1K</td>\n",
       "      <td>19.8m2</td>\n",
       "      <td>6.333333</td>\n",
       "      <td>1</td>\n",
       "      <td>K</td>\n",
       "      <td>19.80</td>\n",
       "    </tr>\n",
       "    <tr>\n",
       "      <th>7355</th>\n",
       "      <td>トーシンフェニックス牛込神楽坂</td>\n",
       "      <td>東京都新宿区中町</td>\n",
       "      <td>\\n都営大江戸線/牛込神楽坂駅 歩3分\\nＪＲ総武線/飯田橋駅 歩7分\\n東京メトロ東西線/...</td>\n",
       "      <td>16</td>\n",
       "      <td>1</td>\n",
       "      <td>8.3</td>\n",
       "      <td>1.05</td>\n",
       "      <td>0.0</td>\n",
       "      <td>8.30</td>\n",
       "      <td>1K</td>\n",
       "      <td>19.52m2</td>\n",
       "      <td>6.333333</td>\n",
       "      <td>1</td>\n",
       "      <td>K</td>\n",
       "      <td>19.52</td>\n",
       "    </tr>\n",
       "    <tr>\n",
       "      <th>7356</th>\n",
       "      <td>トーシンフェニックス牛込神楽坂</td>\n",
       "      <td>東京都新宿区中町</td>\n",
       "      <td>\\n都営大江戸線/牛込神楽坂駅 歩3分\\nＪＲ総武線/飯田橋駅 歩7分\\n東京メトロ東西線/...</td>\n",
       "      <td>16</td>\n",
       "      <td>4</td>\n",
       "      <td>8.8</td>\n",
       "      <td>1.05</td>\n",
       "      <td>0.0</td>\n",
       "      <td>8.80</td>\n",
       "      <td>1K</td>\n",
       "      <td>19.5m2</td>\n",
       "      <td>6.333333</td>\n",
       "      <td>1</td>\n",
       "      <td>K</td>\n",
       "      <td>19.50</td>\n",
       "    </tr>\n",
       "  </tbody>\n",
       "</table>\n",
       "<p>7357 rows × 15 columns</p>\n",
       "</div>"
      ],
      "text/plain": [
       "                             title     address  \\\n",
       "0     東京メトロ丸ノ内線 西新宿駅 地下1地上14階建 築3年  東京都新宿区西新宿８   \n",
       "1     東京メトロ丸ノ内線 西新宿駅 地下1地上14階建 築3年  東京都新宿区西新宿８   \n",
       "2     東京メトロ丸ノ内線 西新宿駅 地下1地上14階建 築3年  東京都新宿区西新宿８   \n",
       "3     東京メトロ丸ノ内線 西新宿駅 地下1地上14階建 築3年  東京都新宿区西新宿８   \n",
       "4     東京メトロ丸ノ内線 西新宿駅 地下1地上14階建 築3年  東京都新宿区西新宿８   \n",
       "...                            ...         ...   \n",
       "7352      東京メトロ丸ノ内線 新宿御苑前駅 5階建 築5年   東京都新宿区新宿５   \n",
       "7353               トーシンフェニックス牛込神楽坂    東京都新宿区中町   \n",
       "7354               トーシンフェニックス牛込神楽坂    東京都新宿区中町   \n",
       "7355               トーシンフェニックス牛込神楽坂    東京都新宿区中町   \n",
       "7356               トーシンフェニックス牛込神楽坂    東京都新宿区中町   \n",
       "\n",
       "                                                 access  age  floor   fee  \\\n",
       "0     \\n東京メトロ丸ノ内線/西新宿駅 歩5分\\nＪＲ山手線/新宿駅 歩13分\\n都営大江戸線/新...    3      2  11.4   \n",
       "1     \\n東京メトロ丸ノ内線/西新宿駅 歩5分\\nＪＲ山手線/新宿駅 歩13分\\n都営大江戸線/新...    3      3  11.4   \n",
       "2     \\n東京メトロ丸ノ内線/西新宿駅 歩5分\\nＪＲ山手線/新宿駅 歩13分\\n都営大江戸線/新...    3      6  11.4   \n",
       "3     \\n東京メトロ丸ノ内線/西新宿駅 歩5分\\nＪＲ山手線/新宿駅 歩13分\\n都営大江戸線/新...    3      6  11.5   \n",
       "4     \\n東京メトロ丸ノ内線/西新宿駅 歩5分\\nＪＲ山手線/新宿駅 歩13分\\n都営大江戸線/新...    3      8  11.9   \n",
       "...                                                 ...  ...    ...   ...   \n",
       "7352  \\n東京メトロ丸ノ内線/新宿御苑前駅 歩8分\\n都営新宿線/新宿三丁目駅 歩8分\\n東京メト...    5      2  13.3   \n",
       "7353  \\n都営大江戸線/牛込神楽坂駅 歩3分\\nＪＲ総武線/飯田橋駅 歩7分\\n東京メトロ東西線/...   16      2   7.9   \n",
       "7354  \\n都営大江戸線/牛込神楽坂駅 歩3分\\nＪＲ総武線/飯田橋駅 歩7分\\n東京メトロ東西線/...   16      4   8.3   \n",
       "7355  \\n都営大江戸線/牛込神楽坂駅 歩3分\\nＪＲ総武線/飯田橋駅 歩7分\\n東京メトロ東西線/...   16      1   8.3   \n",
       "7356  \\n都営大江戸線/牛込神楽坂駅 歩3分\\nＪＲ総武線/飯田橋駅 歩7分\\n東京メトロ東西線/...   16      4   8.8   \n",
       "\n",
       "      management_fee  deposit  gratuity madori  menseki  access_mean  room  \\\n",
       "0               1.00     11.4     17.10     1K  25.37m2     9.000000     1   \n",
       "1               1.00     11.4     17.10     1K  25.37m2     9.000000     1   \n",
       "2               1.00     11.4     17.10     1K  25.37m2     9.000000     1   \n",
       "3               1.00     11.5     17.25     1K  25.37m2     9.000000     1   \n",
       "4               1.00     11.9     17.85     1K  25.37m2     9.000000     1   \n",
       "...              ...      ...       ...    ...      ...          ...   ...   \n",
       "7352            1.00     13.3     13.30    1DK  31.25m2     8.000000     1   \n",
       "7353            1.05      0.0      7.90     1K   19.5m2     6.333333     1   \n",
       "7354            1.05      0.0      8.30     1K   19.8m2     6.333333     1   \n",
       "7355            1.05      0.0      8.30     1K  19.52m2     6.333333     1   \n",
       "7356            1.05      0.0      8.80     1K   19.5m2     6.333333     1   \n",
       "\n",
       "     layout   area  \n",
       "0         K  25.37  \n",
       "1         K  25.37  \n",
       "2         K  25.37  \n",
       "3         K  25.37  \n",
       "4         K  25.37  \n",
       "...     ...    ...  \n",
       "7352     DK  31.25  \n",
       "7353      K  19.50  \n",
       "7354      K  19.80  \n",
       "7355      K  19.52  \n",
       "7356      K  19.50  \n",
       "\n",
       "[7357 rows x 15 columns]"
      ]
     },
     "execution_count": 61,
     "metadata": {},
     "output_type": "execute_result"
    }
   ],
   "source": [
    "cleande_df"
   ]
  },
  {
   "cell_type": "code",
   "execution_count": 62,
   "metadata": {},
   "outputs": [],
   "source": [
    "cleande_df.drop(['access','menseki'], axis=1, inplace=True)"
   ]
  },
  {
   "cell_type": "code",
   "execution_count": 63,
   "metadata": {},
   "outputs": [],
   "source": [
    "cleande_df.to_csv('..//SUMO_predict//data//data.csv')"
   ]
  },
  {
   "cell_type": "code",
   "execution_count": 64,
   "metadata": {},
   "outputs": [],
   "source": [
    "#eda = pdp.ProfileReport(df, title='SUMO data', explorative=True)\n",
    "#eda.to_widgets()"
   ]
  }
 ],
 "metadata": {
  "interpreter": {
   "hash": "68e9ebc6b88ddf87dd405ccea639347774d5cc408d9420191dbba65e02143fab"
  },
  "kernelspec": {
   "display_name": "Python 3.9.7 ('venv': venv)",
   "language": "python",
   "name": "python3"
  },
  "language_info": {
   "codemirror_mode": {
    "name": "ipython",
    "version": 3
   },
   "file_extension": ".py",
   "mimetype": "text/x-python",
   "name": "python",
   "nbconvert_exporter": "python",
   "pygments_lexer": "ipython3",
   "version": "3.8.10"
  },
  "orig_nbformat": 4
 },
 "nbformat": 4,
 "nbformat_minor": 2
}
