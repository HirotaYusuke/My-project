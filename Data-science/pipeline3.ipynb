{
 "cells": [
  {
   "cell_type": "markdown",
   "metadata": {},
   "source": [
    "## パイプライン\n",
    "\n",
    "### パイプラインとは\n",
    "#### 変換器(特徴量の生成と選択)と予測気を直列に繋げ，一連の処理をまとめて実行できるようにする仕組みのことをパイプラインと言う．\n",
    "### メリット\n",
    "1. いくつかの前処理を実行している場合でも，fit や predict をパイプラインに対して1度だけ呼ぶだけで良い\n",
    "2. パイプラインに対して，グリッドサーチを行う際，パラメータを1度に指定できる．fit を読んだ後の変換器をキャッシュでき，性能向上が期待できる．\n",
    "3. transformer と estimatorに同じデータが使われるため，交差検証の際にデータがリークされることを防げる"
   ]
  },
  {
   "cell_type": "code",
   "execution_count": 1,
   "metadata": {},
   "outputs": [],
   "source": [
    "import numpy as np\n",
    "import matplotlib.pyplot as plt\n",
    "import pandas as pd\n",
    "import scipy\n",
    "import pickle\n",
    "\n",
    "from sklearn.model_selection import train_test_split, KFold\n",
    "from sklearn.feature_selection import SelectFromModel\n",
    "\n",
    "# 変換器\n",
    "from sklearn.preprocessing import StandardScaler\n",
    "\n",
    "# 予測器\n",
    "import lightgbm as lgb\n",
    "\n",
    "# パイプライン\n",
    "from sklearn.pipeline import Pipeline\n",
    "\n",
    "# パラメーター調整\n",
    "import optuna\n",
    "import optuna.integration.lightgbm as lgb_tune\n",
    "from lightgbm import early_stopping\n",
    "\n",
    "# 評価関数\n",
    "from sklearn.metrics import mean_squared_error, r2_score\n",
    "\n",
    "# ベイズ最適化\n",
    "import optuna.integration.lightgbm as ilgbm"
   ]
  },
  {
   "cell_type": "code",
   "execution_count": 2,
   "metadata": {},
   "outputs": [],
   "source": [
    "df = pd.read_csv('..//Data-science//data//boston.csv')\n",
    "\n",
    "X = df[['INDUS', 'RM', 'TAX', 'PTRATIO', 'LSTAT']]\n",
    "y = df['house prices']\n",
    "\n",
    "X_train_val, X_test, y_train_val, y_test = train_test_split(X,y, test_size=0.2, random_state=42)\n",
    "X_train, X_val, y_train, y_val = train_test_split(X_train_val, y_train_val, random_state=53)\n",
    "\n",
    "X_train_val = X_train_val.values\n",
    "X_train = X_train.values\n",
    "X_val = X_val.values\n",
    "X_test = X_test.values\n",
    "\n",
    "y_train_val = y_train_val.values\n",
    "y_train = y_train.values\n",
    "y_val = y_val.values\n",
    "y_test = y_test.values"
   ]
  },
  {
   "cell_type": "markdown",
   "metadata": {},
   "source": [
    "### ベイズ最適化"
   ]
  },
  {
   "cell_type": "code",
   "execution_count": 3,
   "metadata": {},
   "outputs": [
    {
     "name": "stderr",
     "output_type": "stream",
     "text": [
      "/home/bi18056/ml/venv/lib/python3.8/site-packages/optuna/distributions.py:359: FutureWarning: Samplers and other components in Optuna will assume that `step` is 1. `step` argument is deprecated and will be removed in the future. The removal of this feature is currently scheduled for v4.0.0, but this schedule is subject to change.\n",
      "  warnings.warn(\n",
      "/home/bi18056/ml/venv/lib/python3.8/site-packages/optuna/distributions.py:560: UserWarning: The distribution is specified by [1, 100] and step=5, but the range is not divisible by `step`. It will be replaced by [1, 96].\n",
      "  warnings.warn(\n",
      "/tmp/ipykernel_615/2231819116.py:15: ExperimentalWarning: OptunaSearchCV is experimental (supported from v0.17.0). The interface can change in the future.\n",
      "  optuna_search = optuna.integration.OptunaSearchCV(model,param_distributions,cv=5, n_jobs=3,n_trials=25,random_state=42,scoring='neg_root_mean_squared_error')\n",
      "\u001b[32m[I 2022-01-09 15:39:29,894]\u001b[0m A new study created in memory with name: no-name-fcfda2da-9ffe-4bbd-880e-a980970dca5c\u001b[0m\n",
      "/home/bi18056/ml/venv/lib/python3.8/site-packages/optuna/study/study.py:393: FutureWarning: `n_jobs` argument has been deprecated in v2.7.0. This feature will be removed in v4.0.0. See https://github.com/optuna/optuna/releases/tag/v2.7.0.\n",
      "  warnings.warn(\n",
      "\u001b[32m[I 2022-01-09 15:39:30,130]\u001b[0m Trial 1 finished with value: -6.918626393663386 and parameters: {'n_estimators': 6, 'max_depth': 18, 'reg_alpha': 1, 'reg_lambda': 1, 'min_child_samples': 61, 'num_leaves': 165}. Best is trial 1 with value: -6.918626393663386.\u001b[0m\n",
      "\u001b[32m[I 2022-01-09 15:39:30,709]\u001b[0m Trial 0 finished with value: -4.585284920440033 and parameters: {'n_estimators': 23, 'max_depth': 12, 'reg_alpha': 1, 'reg_lambda': 1, 'min_child_samples': 41, 'num_leaves': 100}. Best is trial 0 with value: -4.585284920440033.\u001b[0m\n",
      "\u001b[32m[I 2022-01-09 15:39:32,506]\u001b[0m Trial 3 finished with value: -4.242445653729601 and parameters: {'n_estimators': 106, 'max_depth': 3, 'reg_alpha': 2, 'reg_lambda': 1, 'min_child_samples': 41, 'num_leaves': 110}. Best is trial 3 with value: -4.242445653729601.\u001b[0m\n",
      "\u001b[32m[I 2022-01-09 15:39:33,396]\u001b[0m Trial 5 finished with value: -4.715800793382931 and parameters: {'n_estimators': 15, 'max_depth': 5, 'reg_alpha': 3, 'reg_lambda': 2, 'min_child_samples': 16, 'num_leaves': 170}. Best is trial 3 with value: -4.242445653729601.\u001b[0m\n",
      "\u001b[32m[I 2022-01-09 15:39:34,089]\u001b[0m Trial 6 finished with value: -5.636149117050134 and parameters: {'n_estimators': 9, 'max_depth': 6, 'reg_alpha': 1, 'reg_lambda': 3, 'min_child_samples': 11, 'num_leaves': 135}. Best is trial 3 with value: -4.242445653729601.\u001b[0m\n",
      "\u001b[32m[I 2022-01-09 15:39:34,208]\u001b[0m Trial 7 finished with value: -8.184669307633161 and parameters: {'n_estimators': 2, 'max_depth': 12, 'reg_alpha': 2, 'reg_lambda': 4, 'min_child_samples': 26, 'num_leaves': 170}. Best is trial 3 with value: -4.242445653729601.\u001b[0m\n",
      "\u001b[32m[I 2022-01-09 15:39:34,278]\u001b[0m Trial 8 finished with value: -8.749381500995005 and parameters: {'n_estimators': 1, 'max_depth': 3, 'reg_alpha': 1, 'reg_lambda': 6, 'min_child_samples': 36, 'num_leaves': 120}. Best is trial 3 with value: -4.242445653729601.\u001b[0m\n",
      "\u001b[32m[I 2022-01-09 15:39:36,314]\u001b[0m Trial 4 finished with value: -4.46925670104969 and parameters: {'n_estimators': 265, 'max_depth': 10, 'reg_alpha': 2, 'reg_lambda': 2, 'min_child_samples': 56, 'num_leaves': 150}. Best is trial 3 with value: -4.242445653729601.\u001b[0m\n",
      "\u001b[32m[I 2022-01-09 15:39:39,762]\u001b[0m Trial 9 finished with value: -5.4571441123682405 and parameters: {'n_estimators': 385, 'max_depth': 5, 'reg_alpha': 1, 'reg_lambda': 1, 'min_child_samples': 96, 'num_leaves': 125}. Best is trial 3 with value: -4.242445653729601.\u001b[0m\n",
      "\u001b[32m[I 2022-01-09 15:39:40,354]\u001b[0m Trial 11 finished with value: -5.589029085416695 and parameters: {'n_estimators': 32, 'max_depth': 19, 'reg_alpha': 1, 'reg_lambda': 5, 'min_child_samples': 86, 'num_leaves': 100}. Best is trial 3 with value: -4.242445653729601.\u001b[0m\n",
      "\u001b[32m[I 2022-01-09 15:39:41,952]\u001b[0m Trial 12 finished with value: -5.156426050223655 and parameters: {'n_estimators': 151, 'max_depth': 1, 'reg_alpha': 7, 'reg_lambda': 10, 'min_child_samples': 71, 'num_leaves': 185}. Best is trial 3 with value: -4.242445653729601.\u001b[0m\n",
      "\u001b[32m[I 2022-01-09 15:39:43,778]\u001b[0m Trial 2 finished with value: -5.424526599342428 and parameters: {'n_estimators': 996, 'max_depth': 18, 'reg_alpha': 9, 'reg_lambda': 1, 'min_child_samples': 96, 'num_leaves': 180}. Best is trial 3 with value: -4.242445653729601.\u001b[0m\n",
      "\u001b[32m[I 2022-01-09 15:39:47,348]\u001b[0m Trial 14 finished with value: -4.602882628686805 and parameters: {'n_estimators': 124, 'max_depth': 9, 'reg_alpha': 3, 'reg_lambda': 2, 'min_child_samples': 56, 'num_leaves': 200}. Best is trial 3 with value: -4.242445653729601.\u001b[0m\n",
      "\u001b[32m[I 2022-01-09 15:39:49,402]\u001b[0m Trial 15 finished with value: -5.097079055070457 and parameters: {'n_estimators': 82, 'max_depth': 15, 'reg_alpha': 2, 'reg_lambda': 2, 'min_child_samples': 71, 'num_leaves': 145}. Best is trial 3 with value: -4.242445653729601.\u001b[0m\n",
      "\u001b[32m[I 2022-01-09 15:39:59,707]\u001b[0m Trial 16 finished with value: -4.2114191176883695 and parameters: {'n_estimators': 324, 'max_depth': 9, 'reg_alpha': 4, 'reg_lambda': 3, 'min_child_samples': 46, 'num_leaves': 115}. Best is trial 16 with value: -4.2114191176883695.\u001b[0m\n",
      "\u001b[32m[I 2022-01-09 15:40:06,036]\u001b[0m Trial 13 finished with value: -4.401599666583472 and parameters: {'n_estimators': 854, 'max_depth': 9, 'reg_alpha': 3, 'reg_lambda': 2, 'min_child_samples': 56, 'num_leaves': 145}. Best is trial 16 with value: -4.2114191176883695.\u001b[0m\n",
      "\u001b[32m[I 2022-01-09 15:40:15,600]\u001b[0m Trial 10 finished with value: -3.7611746734450135 and parameters: {'n_estimators': 78, 'max_depth': 15, 'reg_alpha': 1, 'reg_lambda': 8, 'min_child_samples': 1, 'num_leaves': 145}. Best is trial 10 with value: -3.7611746734450135.\u001b[0m\n",
      "\u001b[32m[I 2022-01-09 15:40:21,962]\u001b[0m Trial 18 finished with value: -3.7175300496276398 and parameters: {'n_estimators': 79, 'max_depth': 7, 'reg_alpha': 5, 'reg_lambda': 3, 'min_child_samples': 1, 'num_leaves': 115}. Best is trial 18 with value: -3.7175300496276398.\u001b[0m\n",
      "\u001b[32m[I 2022-01-09 15:40:24,389]\u001b[0m Trial 19 finished with value: -3.79072340643136 and parameters: {'n_estimators': 61, 'max_depth': 15, 'reg_alpha': 5, 'reg_lambda': 10, 'min_child_samples': 6, 'num_leaves': 130}. Best is trial 18 with value: -3.7175300496276398.\u001b[0m\n",
      "\u001b[32m[I 2022-01-09 15:40:32,141]\u001b[0m Trial 17 finished with value: -3.9520965799376753 and parameters: {'n_estimators': 836, 'max_depth': 8, 'reg_alpha': 5, 'reg_lambda': 9, 'min_child_samples': 36, 'num_leaves': 115}. Best is trial 18 with value: -3.7175300496276398.\u001b[0m\n",
      "\u001b[32m[I 2022-01-09 15:40:34,417]\u001b[0m Trial 20 finished with value: -3.890855186090235 and parameters: {'n_estimators': 47, 'max_depth': 14, 'reg_alpha': 5, 'reg_lambda': 10, 'min_child_samples': 1, 'num_leaves': 130}. Best is trial 18 with value: -3.7175300496276398.\u001b[0m\n",
      "\u001b[32m[I 2022-01-09 15:40:34,972]\u001b[0m Trial 21 finished with value: -3.8957928060088767 and parameters: {'n_estimators': 43, 'max_depth': 15, 'reg_alpha': 6, 'reg_lambda': 7, 'min_child_samples': 1, 'num_leaves': 135}. Best is trial 18 with value: -3.7175300496276398.\u001b[0m\n",
      "\u001b[32m[I 2022-01-09 15:40:38,804]\u001b[0m Trial 22 finished with value: -4.055095636460125 and parameters: {'n_estimators': 35, 'max_depth': 15, 'reg_alpha': 10, 'reg_lambda': 7, 'min_child_samples': 1, 'num_leaves': 135}. Best is trial 18 with value: -3.7175300496276398.\u001b[0m\n",
      "\u001b[32m[I 2022-01-09 15:40:39,798]\u001b[0m Trial 24 finished with value: -3.97196105382107 and parameters: {'n_estimators': 66, 'max_depth': 16, 'reg_alpha': 9, 'reg_lambda': 7, 'min_child_samples': 16, 'num_leaves': 160}. Best is trial 18 with value: -3.7175300496276398.\u001b[0m\n",
      "\u001b[32m[I 2022-01-09 15:40:40,075]\u001b[0m Trial 23 finished with value: -3.8102644517472286 and parameters: {'n_estimators': 55, 'max_depth': 16, 'reg_alpha': 7, 'reg_lambda': 6, 'min_child_samples': 1, 'num_leaves': 135}. Best is trial 18 with value: -3.7175300496276398.\u001b[0m\n"
     ]
    },
    {
     "data": {
      "text/plain": [
       "OptunaSearchCV(estimator=LGBMRegressor(), n_jobs=3, n_trials=25,\n",
       "               param_distributions={'max_depth': IntUniformDistribution(high=20, low=1, step=1),\n",
       "                                    'min_child_samples': IntUniformDistribution(high=96, low=1, step=5),\n",
       "                                    'n_estimators': IntLogUniformDistribution(high=1000.0, low=1.0, step=1),\n",
       "                                    'num_leaves': IntUniformDistribution(high=200, low=100, step=5),\n",
       "                                    'reg_alpha': IntLogUniformDistribution(high=10.0, low=1.0, step=0.1),\n",
       "                                    'reg_lambda': IntLogUniformDistribution(high=10.0, low=1.0, step=0.1)},\n",
       "               random_state=42, scoring='neg_root_mean_squared_error')"
      ]
     },
     "execution_count": 3,
     "metadata": {},
     "output_type": "execute_result"
    }
   ],
   "source": [
    "model = lgb.LGBMRegressor()\n",
    "\n",
    "param_distributions = {\n",
    "    'n_estimators':optuna.distributions.IntLogUniformDistribution(1e+0, 1e+3, 1),\n",
    "    'max_depth': optuna.distributions.IntUniformDistribution(1, 20, 1),\n",
    "    'reg_alpha': optuna.distributions.IntLogUniformDistribution(1e+0, 10.0, 0.1),\n",
    "    'reg_lambda': optuna.distributions.IntLogUniformDistribution(1e+0, 10.0, 0.1),\n",
    "    #'subsample_freq':optuna.distributions.IntUniformDistribution(1, 200, 5),\n",
    "    'min_child_samples':optuna.distributions.IntUniformDistribution(1, 100, 5),\n",
    "    #'bagging_freq':optuna.distributions.IntUniformDistribution(1, 10, 1),\n",
    "    'num_leaves': optuna.distributions.IntUniformDistribution(100, 200, 5),\n",
    "}\n",
    "\n",
    "# クロスバリデーションによる、ハイパーパラメータの探索設定.cvのデフォルト設定値は5\n",
    "optuna_search = optuna.integration.OptunaSearchCV(model,param_distributions,cv=5, n_jobs=3,n_trials=25,random_state=42,scoring='neg_root_mean_squared_error')\n",
    "\n",
    "# 探索の実行\n",
    "optuna_search.fit(X_train_val, y_train_val)"
   ]
  },
  {
   "cell_type": "code",
   "execution_count": 4,
   "metadata": {},
   "outputs": [
    {
     "data": {
      "text/plain": [
       "{'n_estimators': 79,\n",
       " 'max_depth': 7,\n",
       " 'reg_alpha': 5,\n",
       " 'reg_lambda': 3,\n",
       " 'min_child_samples': 1,\n",
       " 'num_leaves': 115}"
      ]
     },
     "execution_count": 4,
     "metadata": {},
     "output_type": "execute_result"
    }
   ],
   "source": [
    "best_params = optuna_search.best_params_\n",
    "best_params"
   ]
  },
  {
   "cell_type": "code",
   "execution_count": 5,
   "metadata": {},
   "outputs": [
    {
     "data": {
      "text/plain": [
       "{'n_estimators': 79,\n",
       " 'max_depth': 7,\n",
       " 'reg_alpha': 5,\n",
       " 'reg_lambda': 3,\n",
       " 'min_child_samples': 1,\n",
       " 'num_leaves': 115}"
      ]
     },
     "execution_count": 5,
     "metadata": {},
     "output_type": "execute_result"
    }
   ],
   "source": [
    "optuna_search.best_params_"
   ]
  },
  {
   "cell_type": "markdown",
   "metadata": {},
   "source": [
    "### パイプライン構築"
   ]
  },
  {
   "cell_type": "code",
   "execution_count": 6,
   "metadata": {},
   "outputs": [],
   "source": [
    "pipe = Pipeline(\n",
    "    steps=[\n",
    "        ('scaler', StandardScaler()),\n",
    "        ('regressor', lgb.LGBMRegressor(\n",
    "            objective=\"regression\",\n",
    "            n_estimators= 68,\n",
    "            max_depth=11,\n",
    "            reg_alpha=2,\n",
    "            reg_lambda=4,\n",
    "            subsample_freq=151,\n",
    "            min_child_samples=1,\n",
    "            bagging_freq=96,\n",
    "            num_leaves=160\n",
    "        ))\n",
    "    ]\n",
    ")"
   ]
  },
  {
   "cell_type": "code",
   "execution_count": 7,
   "metadata": {},
   "outputs": [
    {
     "data": {
      "text/plain": [
       "Pipeline(steps=[('scaler', StandardScaler()),\n",
       "                ('regressor',\n",
       "                 LGBMRegressor(bagging_freq=96, max_depth=11,\n",
       "                               min_child_samples=1, n_estimators=68,\n",
       "                               num_leaves=160, objective='regression',\n",
       "                               reg_alpha=2, reg_lambda=4,\n",
       "                               subsample_freq=151))])"
      ]
     },
     "execution_count": 7,
     "metadata": {},
     "output_type": "execute_result"
    }
   ],
   "source": [
    "pipe.fit(X_train, y_train)"
   ]
  },
  {
   "cell_type": "code",
   "execution_count": 8,
   "metadata": {},
   "outputs": [
    {
     "data": {
      "text/plain": [
       "<bound method Pipeline.get_params of Pipeline(steps=[('scaler', StandardScaler()),\n",
       "                ('regressor',\n",
       "                 LGBMRegressor(bagging_freq=96, max_depth=11,\n",
       "                               min_child_samples=1, n_estimators=68,\n",
       "                               num_leaves=160, objective='regression',\n",
       "                               reg_alpha=2, reg_lambda=4,\n",
       "                               subsample_freq=151))])>"
      ]
     },
     "execution_count": 8,
     "metadata": {},
     "output_type": "execute_result"
    }
   ],
   "source": [
    "pipe.get_params"
   ]
  },
  {
   "cell_type": "code",
   "execution_count": 9,
   "metadata": {},
   "outputs": [
    {
     "data": {
      "text/plain": [
       "0.804943945266863"
      ]
     },
     "execution_count": 9,
     "metadata": {},
     "output_type": "execute_result"
    }
   ],
   "source": [
    "# r2\n",
    "pipe.score(X_test, y_test)"
   ]
  },
  {
   "cell_type": "code",
   "execution_count": 10,
   "metadata": {},
   "outputs": [],
   "source": [
    "pred = pipe.predict(X_test)"
   ]
  },
  {
   "cell_type": "code",
   "execution_count": 11,
   "metadata": {},
   "outputs": [
    {
     "name": "stdout",
     "output_type": "stream",
     "text": [
      "3.782089161020395\n"
     ]
    }
   ],
   "source": [
    "rmse = np.sqrt(mean_squared_error(y_test, pred))\n",
    "\n",
    "print(rmse)"
   ]
  },
  {
   "cell_type": "code",
   "execution_count": 12,
   "metadata": {},
   "outputs": [],
   "source": [
    "# モデルの保存\n",
    "with open('3_pipe_lgbm.model', 'wb') as f:\n",
    "  pickle.dump(pipe, f)"
   ]
  },
  {
   "cell_type": "markdown",
   "metadata": {},
   "source": [
    "### 課題3の精度\n",
    "- rmse: 3.752752469634236\n",
    "- r2: 0.7988901108422742"
   ]
  },
  {
   "cell_type": "markdown",
   "metadata": {},
   "source": [
    "## ベイズ最適化1"
   ]
  },
  {
   "cell_type": "code",
   "execution_count": 18,
   "metadata": {},
   "outputs": [
    {
     "name": "stderr",
     "output_type": "stream",
     "text": [
      "/tmp/ipykernel_615/2824580095.py:9: ExperimentalWarning: OptunaSearchCV is experimental (supported from v0.17.0). The interface can change in the future.\n",
      "  optuna_search = optuna.integration.OptunaSearchCV(\n",
      "\u001b[32m[I 2022-01-09 15:47:11,207]\u001b[0m A new study created in memory with name: no-name-090479d8-2598-409f-9688-14a1f8474661\u001b[0m\n",
      "/home/bi18056/ml/venv/lib/python3.8/site-packages/optuna/study/study.py:393: FutureWarning: `n_jobs` argument has been deprecated in v2.7.0. This feature will be removed in v4.0.0. See https://github.com/optuna/optuna/releases/tag/v2.7.0.\n",
      "  warnings.warn(\n",
      "\u001b[32m[I 2022-01-09 15:47:11,467]\u001b[0m Trial 1 finished with value: -8.627795117318598 and parameters: {'n_estimators': 1, 'max_depth': 20}. Best is trial 1 with value: -8.627795117318598.\u001b[0m\n",
      "\u001b[32m[I 2022-01-09 15:47:11,475]\u001b[0m Trial 5 finished with value: -8.5306064131743 and parameters: {'n_estimators': 2, 'max_depth': 1}. Best is trial 5 with value: -8.5306064131743.\u001b[0m\n",
      "\u001b[32m[I 2022-01-09 15:47:11,554]\u001b[0m Trial 3 finished with value: -8.038342766329482 and parameters: {'n_estimators': 2, 'max_depth': 12}. Best is trial 3 with value: -8.038342766329482.\u001b[0m\n",
      "\u001b[32m[I 2022-01-09 15:47:11,658]\u001b[0m Trial 7 finished with value: -7.133801739613139 and parameters: {'n_estimators': 4, 'max_depth': 3}. Best is trial 7 with value: -7.133801739613139.\u001b[0m\n",
      "\u001b[32m[I 2022-01-09 15:47:11,839]\u001b[0m Trial 8 finished with value: -8.038342766329482 and parameters: {'n_estimators': 2, 'max_depth': 16}. Best is trial 7 with value: -7.133801739613139.\u001b[0m\n",
      "\u001b[32m[I 2022-01-09 15:47:11,869]\u001b[0m Trial 11 finished with value: -7.935350017818405 and parameters: {'n_estimators': 4, 'max_depth': 1}. Best is trial 7 with value: -7.133801739613139.\u001b[0m\n",
      "\u001b[32m[I 2022-01-09 15:47:12,158]\u001b[0m Trial 13 finished with value: -8.038342766329482 and parameters: {'n_estimators': 2, 'max_depth': 10}. Best is trial 7 with value: -7.133801739613139.\u001b[0m\n",
      "\u001b[32m[I 2022-01-09 15:47:12,710]\u001b[0m Trial 12 finished with value: -6.331086816137345 and parameters: {'n_estimators': 6, 'max_depth': 14}. Best is trial 12 with value: -6.331086816137345.\u001b[0m\n",
      "\u001b[32m[I 2022-01-09 15:47:13,062]\u001b[0m Trial 9 finished with value: -4.71175136449356 and parameters: {'n_estimators': 15, 'max_depth': 7}. Best is trial 9 with value: -4.71175136449356.\u001b[0m\n",
      "\u001b[32m[I 2022-01-09 15:47:14,425]\u001b[0m Trial 0 finished with value: -4.092475166576987 and parameters: {'n_estimators': 34, 'max_depth': 14}. Best is trial 0 with value: -4.092475166576987.\u001b[0m\n",
      "\u001b[32m[I 2022-01-09 15:47:15,077]\u001b[0m Trial 2 finished with value: -4.024061740231016 and parameters: {'n_estimators': 42, 'max_depth': 12}. Best is trial 2 with value: -4.024061740231016.\u001b[0m\n",
      "\u001b[32m[I 2022-01-09 15:47:16,743]\u001b[0m Trial 15 finished with value: -3.8965850538186815 and parameters: {'n_estimators': 71, 'max_depth': 19}. Best is trial 15 with value: -3.8965850538186815.\u001b[0m\n",
      "\u001b[32m[I 2022-01-09 15:47:17,074]\u001b[0m Trial 14 finished with value: -3.895203597849439 and parameters: {'n_estimators': 76, 'max_depth': 16}. Best is trial 14 with value: -3.895203597849439.\u001b[0m\n",
      "\u001b[32m[I 2022-01-09 15:47:25,197]\u001b[0m Trial 18 finished with value: -3.8125014698793875 and parameters: {'n_estimators': 172, 'max_depth': 17}. Best is trial 18 with value: -3.8125014698793875.\u001b[0m\n",
      "\u001b[32m[I 2022-01-09 15:47:26,883]\u001b[0m Trial 6 finished with value: -3.801298815044185 and parameters: {'n_estimators': 240, 'max_depth': 14}. Best is trial 6 with value: -3.801298815044185.\u001b[0m\n",
      "\u001b[32m[I 2022-01-09 15:47:27,186]\u001b[0m Trial 16 finished with value: -3.804015458486206 and parameters: {'n_estimators': 227, 'max_depth': 13}. Best is trial 6 with value: -3.801298815044185.\u001b[0m\n",
      "\u001b[32m[I 2022-01-09 15:47:28,761]\u001b[0m Trial 4 finished with value: -3.7912583934094153 and parameters: {'n_estimators': 949, 'max_depth': 2}. Best is trial 4 with value: -3.7912583934094153.\u001b[0m\n",
      "\u001b[32m[I 2022-01-09 15:47:31,840]\u001b[0m Trial 19 finished with value: -3.8035953632646935 and parameters: {'n_estimators': 232, 'max_depth': 20}. Best is trial 4 with value: -3.7912583934094153.\u001b[0m\n",
      "\u001b[32m[I 2022-01-09 15:47:32,615]\u001b[0m Trial 17 finished with value: -3.8137820471483352 and parameters: {'n_estimators': 274, 'max_depth': 20}. Best is trial 4 with value: -3.7912583934094153.\u001b[0m\n",
      "\u001b[32m[I 2022-01-09 15:47:41,947]\u001b[0m Trial 20 finished with value: -3.8416025510458645 and parameters: {'n_estimators': 383, 'max_depth': 20}. Best is trial 4 with value: -3.7912583934094153.\u001b[0m\n",
      "\u001b[32m[I 2022-01-09 15:47:53,835]\u001b[0m Trial 21 finished with value: -3.855791591801276 and parameters: {'n_estimators': 458, 'max_depth': 17}. Best is trial 4 with value: -3.7912583934094153.\u001b[0m\n",
      "\u001b[32m[I 2022-01-09 15:47:56,805]\u001b[0m Trial 22 finished with value: -3.859913739905565 and parameters: {'n_estimators': 477, 'max_depth': 17}. Best is trial 4 with value: -3.7912583934094153.\u001b[0m\n",
      "\u001b[32m[I 2022-01-09 15:47:57,046]\u001b[0m Trial 10 finished with value: -3.908865750393349 and parameters: {'n_estimators': 701, 'max_depth': 12}. Best is trial 4 with value: -3.7912583934094153.\u001b[0m\n",
      "\u001b[32m[I 2022-01-09 15:48:16,979]\u001b[0m Trial 24 finished with value: -3.9253199744861647 and parameters: {'n_estimators': 866, 'max_depth': 8}. Best is trial 4 with value: -3.7912583934094153.\u001b[0m\n",
      "\u001b[32m[I 2022-01-09 15:48:19,850]\u001b[0m Trial 25 finished with value: -3.916619567693882 and parameters: {'n_estimators': 829, 'max_depth': 8}. Best is trial 4 with value: -3.7912583934094153.\u001b[0m\n",
      "\u001b[32m[I 2022-01-09 15:48:20,880]\u001b[0m Trial 23 finished with value: -3.926649976862398 and parameters: {'n_estimators': 894, 'max_depth': 8}. Best is trial 4 with value: -3.7912583934094153.\u001b[0m\n",
      "\u001b[32m[I 2022-01-09 15:48:20,894]\u001b[0m Trial 26 finished with value: -3.911093029765337 and parameters: {'n_estimators': 954, 'max_depth': 6}. Best is trial 4 with value: -3.7912583934094153.\u001b[0m\n",
      "\u001b[32m[I 2022-01-09 15:48:23,056]\u001b[0m Trial 31 finished with value: -3.833548674870015 and parameters: {'n_estimators': 130, 'max_depth': 5}. Best is trial 4 with value: -3.7912583934094153.\u001b[0m\n",
      "\u001b[32m[I 2022-01-09 15:48:25,324]\u001b[0m Trial 33 finished with value: -3.8700882298164125 and parameters: {'n_estimators': 118, 'max_depth': 4}. Best is trial 4 with value: -3.7912583934094153.\u001b[0m\n",
      "\u001b[32m[I 2022-01-09 15:48:25,942]\u001b[0m Trial 27 finished with value: -3.9097419355809118 and parameters: {'n_estimators': 798, 'max_depth': 8}. Best is trial 4 with value: -3.7912583934094153.\u001b[0m\n",
      "\u001b[32m[I 2022-01-09 15:48:26,044]\u001b[0m Trial 32 finished with value: -3.8396625654080454 and parameters: {'n_estimators': 126, 'max_depth': 5}. Best is trial 4 with value: -3.7912583934094153.\u001b[0m\n",
      "\u001b[32m[I 2022-01-09 15:48:27,008]\u001b[0m Trial 36 finished with value: -4.359094359392078 and parameters: {'n_estimators': 21, 'max_depth': 15}. Best is trial 4 with value: -3.7912583934094153.\u001b[0m\n",
      "\u001b[32m[I 2022-01-09 15:48:28,002]\u001b[0m Trial 37 finished with value: -4.14855470189878 and parameters: {'n_estimators': 29, 'max_depth': 15}. Best is trial 4 with value: -3.7912583934094153.\u001b[0m\n",
      "\u001b[32m[I 2022-01-09 15:48:28,200]\u001b[0m Trial 34 finished with value: -3.8502343996283117 and parameters: {'n_estimators': 108, 'max_depth': 15}. Best is trial 4 with value: -3.7912583934094153.\u001b[0m\n",
      "\u001b[32m[I 2022-01-09 15:48:29,991]\u001b[0m Trial 35 finished with value: -3.8607729083139284 and parameters: {'n_estimators': 104, 'max_depth': 10}. Best is trial 4 with value: -3.7912583934094153.\u001b[0m\n",
      "\u001b[32m[I 2022-01-09 15:48:39,232]\u001b[0m Trial 38 finished with value: -3.8055925280903318 and parameters: {'n_estimators': 225, 'max_depth': 14}. Best is trial 4 with value: -3.7912583934094153.\u001b[0m\n",
      "\u001b[32m[I 2022-01-09 15:48:40,380]\u001b[0m Trial 40 finished with value: -3.81238970599995 and parameters: {'n_estimators': 219, 'max_depth': 11}. Best is trial 4 with value: -3.7912583934094153.\u001b[0m\n",
      "\u001b[32m[I 2022-01-09 15:48:41,381]\u001b[0m Trial 29 finished with value: -3.909509053530569 and parameters: {'n_estimators': 802, 'max_depth': 8}. Best is trial 4 with value: -3.7912583934094153.\u001b[0m\n",
      "\u001b[32m[I 2022-01-09 15:48:42,923]\u001b[0m Trial 43 finished with value: -3.9553536320237255 and parameters: {'n_estimators': 54, 'max_depth': 13}. Best is trial 4 with value: -3.7912583934094153.\u001b[0m\n",
      "\u001b[32m[I 2022-01-09 15:48:42,990]\u001b[0m Trial 41 finished with value: -3.8072857708054455 and parameters: {'n_estimators': 246, 'max_depth': 10}. Best is trial 4 with value: -3.7912583934094153.\u001b[0m\n",
      "\u001b[32m[I 2022-01-09 15:48:44,183]\u001b[0m Trial 42 finished with value: -3.801699346504546 and parameters: {'n_estimators': 236, 'max_depth': 13}. Best is trial 4 with value: -3.7912583934094153.\u001b[0m\n",
      "\u001b[32m[I 2022-01-09 15:48:44,515]\u001b[0m Trial 44 finished with value: -3.9423560556650505 and parameters: {'n_estimators': 57, 'max_depth': 13}. Best is trial 4 with value: -3.7912583934094153.\u001b[0m\n",
      "\u001b[32m[I 2022-01-09 15:48:44,740]\u001b[0m Trial 39 finished with value: -3.8280591480411936 and parameters: {'n_estimators': 285, 'max_depth': 10}. Best is trial 4 with value: -3.7912583934094153.\u001b[0m\n",
      "\u001b[32m[I 2022-01-09 15:48:48,360]\u001b[0m Trial 30 finished with value: -3.920310574057268 and parameters: {'n_estimators': 903, 'max_depth': 7}. Best is trial 4 with value: -3.7912583934094153.\u001b[0m\n",
      "\u001b[32m[I 2022-01-09 15:48:48,418]\u001b[0m Trial 28 finished with value: -3.927666757194288 and parameters: {'n_estimators': 913, 'max_depth': 8}. Best is trial 4 with value: -3.7912583934094153.\u001b[0m\n",
      "\u001b[32m[I 2022-01-09 15:48:56,801]\u001b[0m Trial 52 finished with value: -3.8106290857972835 and parameters: {'n_estimators': 489, 'max_depth': 2}. Best is trial 4 with value: -3.7912583934094153.\u001b[0m\n",
      "\u001b[32m[I 2022-01-09 15:48:57,526]\u001b[0m Trial 53 finished with value: -5.194104535272421 and parameters: {'n_estimators': 11, 'max_depth': 12}. Best is trial 4 with value: -3.7912583934094153.\u001b[0m\n",
      "\u001b[32m[I 2022-01-09 15:49:00,991]\u001b[0m Trial 45 finished with value: -3.824925793456316 and parameters: {'n_estimators': 317, 'max_depth': 13}. Best is trial 4 with value: -3.7912583934094153.\u001b[0m\n",
      "\u001b[32m[I 2022-01-09 15:49:04,552]\u001b[0m Trial 47 finished with value: -3.836017673642014 and parameters: {'n_estimators': 360, 'max_depth': 18}. Best is trial 4 with value: -3.7912583934094153.\u001b[0m\n",
      "\u001b[32m[I 2022-01-09 15:49:04,976]\u001b[0m Trial 49 finished with value: -3.8441973066403343 and parameters: {'n_estimators': 344, 'max_depth': 11}. Best is trial 4 with value: -3.7912583934094153.\u001b[0m\n",
      "\u001b[32m[I 2022-01-09 15:49:05,298]\u001b[0m Trial 46 finished with value: -3.83164167006099 and parameters: {'n_estimators': 353, 'max_depth': 18}. Best is trial 4 with value: -3.7912583934094153.\u001b[0m\n",
      "\u001b[32m[I 2022-01-09 15:49:10,000]\u001b[0m Trial 48 finished with value: -3.851139660431893 and parameters: {'n_estimators': 423, 'max_depth': 12}. Best is trial 4 with value: -3.7912583934094153.\u001b[0m\n",
      "\u001b[32m[I 2022-01-09 15:49:10,944]\u001b[0m Trial 55 finished with value: -3.8202082526559975 and parameters: {'n_estimators': 160, 'max_depth': 18}. Best is trial 4 with value: -3.7912583934094153.\u001b[0m\n",
      "\u001b[32m[I 2022-01-09 15:49:15,727]\u001b[0m Trial 56 finished with value: -3.8091503066614676 and parameters: {'n_estimators': 178, 'max_depth': 12}. Best is trial 4 with value: -3.7912583934094153.\u001b[0m\n",
      "\u001b[32m[I 2022-01-09 15:49:16,435]\u001b[0m Trial 58 finished with value: -3.8125014698793875 and parameters: {'n_estimators': 172, 'max_depth': 14}. Best is trial 4 with value: -3.7912583934094153.\u001b[0m\n",
      "\u001b[32m[I 2022-01-09 15:49:17,498]\u001b[0m Trial 50 finished with value: -3.8672352303735655 and parameters: {'n_estimators': 521, 'max_depth': 13}. Best is trial 4 with value: -3.7912583934094153.\u001b[0m\n",
      "\u001b[32m[I 2022-01-09 15:49:18,857]\u001b[0m Trial 54 finished with value: -3.827709614088472 and parameters: {'n_estimators': 331, 'max_depth': 18}. Best is trial 4 with value: -3.7912583934094153.\u001b[0m\n",
      "\u001b[32m[I 2022-01-09 15:49:21,910]\u001b[0m Trial 59 finished with value: -3.8091503066614676 and parameters: {'n_estimators': 178, 'max_depth': 14}. Best is trial 4 with value: -3.7912583934094153.\u001b[0m\n",
      "\u001b[32m[I 2022-01-09 15:49:23,631]\u001b[0m Trial 51 finished with value: -3.866759016837939 and parameters: {'n_estimators': 528, 'max_depth': 18}. Best is trial 4 with value: -3.7912583934094153.\u001b[0m\n",
      "\u001b[32m[I 2022-01-09 15:49:23,857]\u001b[0m Trial 66 finished with value: -8.627795117318598 and parameters: {'n_estimators': 1, 'max_depth': 16}. Best is trial 4 with value: -3.7912583934094153.\u001b[0m\n",
      "\u001b[32m[I 2022-01-09 15:49:29,476]\u001b[0m Trial 67 finished with value: -3.8838291693923055 and parameters: {'n_estimators': 84, 'max_depth': 19}. Best is trial 4 with value: -3.7912583934094153.\u001b[0m\n",
      "\u001b[32m[I 2022-01-09 15:49:42,324]\u001b[0m Trial 57 finished with value: -3.899072364456623 and parameters: {'n_estimators': 597, 'max_depth': 16}. Best is trial 4 with value: -3.7912583934094153.\u001b[0m\n",
      "\u001b[32m[I 2022-01-09 15:49:45,381]\u001b[0m Trial 68 finished with value: -3.803643587804676 and parameters: {'n_estimators': 255, 'max_depth': 9}. Best is trial 4 with value: -3.7912583934094153.\u001b[0m\n",
      "\u001b[32m[I 2022-01-09 15:49:46,010]\u001b[0m Trial 69 finished with value: -3.862527855303943 and parameters: {'n_estimators': 202, 'max_depth': 2}. Best is trial 4 with value: -3.7912583934094153.\u001b[0m\n",
      "\u001b[32m[I 2022-01-09 15:49:46,131]\u001b[0m Trial 60 finished with value: -3.8815367116260404 and parameters: {'n_estimators': 562, 'max_depth': 16}. Best is trial 4 with value: -3.7912583934094153.\u001b[0m\n",
      "\u001b[32m[I 2022-01-09 15:49:52,284]\u001b[0m Trial 61 finished with value: -3.8955249935381873 and parameters: {'n_estimators': 590, 'max_depth': 14}. Best is trial 4 with value: -3.7912583934094153.\u001b[0m\n",
      "\u001b[32m[I 2022-01-09 15:49:54,517]\u001b[0m Trial 62 finished with value: -3.885523430948777 and parameters: {'n_estimators': 568, 'max_depth': 15}. Best is trial 4 with value: -3.7912583934094153.\u001b[0m\n",
      "\u001b[32m[I 2022-01-09 15:49:57,145]\u001b[0m Trial 63 finished with value: -3.895778890168819 and parameters: {'n_estimators': 592, 'max_depth': 16}. Best is trial 4 with value: -3.7912583934094153.\u001b[0m\n",
      "\u001b[32m[I 2022-01-09 15:49:57,340]\u001b[0m Trial 64 finished with value: -3.899296672476274 and parameters: {'n_estimators': 607, 'max_depth': 16}. Best is trial 4 with value: -3.7912583934094153.\u001b[0m\n",
      "\u001b[32m[I 2022-01-09 15:50:00,680]\u001b[0m Trial 65 finished with value: -3.8930145502065967 and parameters: {'n_estimators': 584, 'max_depth': 16}. Best is trial 4 with value: -3.7912583934094153.\u001b[0m\n",
      "\u001b[32m[I 2022-01-09 15:50:00,743]\u001b[0m Trial 71 finished with value: -3.8009882885859625 and parameters: {'n_estimators': 244, 'max_depth': 14}. Best is trial 4 with value: -3.7912583934094153.\u001b[0m\n",
      "\u001b[32m[I 2022-01-09 15:50:01,214]\u001b[0m Trial 72 finished with value: -3.805171715407115 and parameters: {'n_estimators': 257, 'max_depth': 9}. Best is trial 4 with value: -3.7912583934094153.\u001b[0m\n",
      "\u001b[32m[I 2022-01-09 15:50:01,263]\u001b[0m Trial 70 finished with value: -3.803150562513976 and parameters: {'n_estimators': 243, 'max_depth': 9}. Best is trial 4 with value: -3.7912583934094153.\u001b[0m\n",
      "\u001b[32m[I 2022-01-09 15:50:06,226]\u001b[0m Trial 80 finished with value: -3.868357352819485 and parameters: {'n_estimators': 86, 'max_depth': 9}. Best is trial 4 with value: -3.7912583934094153.\u001b[0m\n",
      "\u001b[32m[I 2022-01-09 15:50:07,574]\u001b[0m Trial 73 finished with value: -3.8060711956073474 and parameters: {'n_estimators': 260, 'max_depth': 9}. Best is trial 4 with value: -3.7912583934094153.\u001b[0m\n",
      "\u001b[32m[I 2022-01-09 15:50:10,228]\u001b[0m Trial 74 finished with value: -3.8025961780403152 and parameters: {'n_estimators': 250, 'max_depth': 9}. Best is trial 4 with value: -3.7912583934094153.\u001b[0m\n",
      "\u001b[32m[I 2022-01-09 15:50:12,822]\u001b[0m Trial 76 finished with value: -3.8145902255324726 and parameters: {'n_estimators': 237, 'max_depth': 11}. Best is trial 4 with value: -3.7912583934094153.\u001b[0m\n",
      "\u001b[32m[I 2022-01-09 15:50:12,966]\u001b[0m Trial 75 finished with value: -3.816665507202687 and parameters: {'n_estimators': 257, 'max_depth': 11}. Best is trial 4 with value: -3.7912583934094153.\u001b[0m\n",
      "\u001b[32m[I 2022-01-09 15:50:13,652]\u001b[0m Trial 81 finished with value: -3.81112963938955 and parameters: {'n_estimators': 130, 'max_depth': 7}. Best is trial 4 with value: -3.7912583934094153.\u001b[0m\n",
      "\u001b[32m[I 2022-01-09 15:50:15,486]\u001b[0m Trial 82 finished with value: -3.8438244778982353 and parameters: {'n_estimators': 125, 'max_depth': 11}. Best is trial 4 with value: -3.7912583934094153.\u001b[0m\n",
      "\u001b[32m[I 2022-01-09 15:50:15,602]\u001b[0m Trial 77 finished with value: -3.804546345761738 and parameters: {'n_estimators': 235, 'max_depth': 9}. Best is trial 4 with value: -3.7912583934094153.\u001b[0m\n",
      "\u001b[32m[I 2022-01-09 15:50:17,127]\u001b[0m Trial 78 finished with value: -3.803488694287161 and parameters: {'n_estimators': 249, 'max_depth': 9}. Best is trial 4 with value: -3.7912583934094153.\u001b[0m\n",
      "\u001b[32m[I 2022-01-09 15:50:17,606]\u001b[0m Trial 79 finished with value: -3.8034474713902795 and parameters: {'n_estimators': 256, 'max_depth': 9}. Best is trial 4 with value: -3.7912583934094153.\u001b[0m\n",
      "\u001b[32m[I 2022-01-09 15:50:18,379]\u001b[0m Trial 83 finished with value: -3.840719409670497 and parameters: {'n_estimators': 127, 'max_depth': 11}. Best is trial 4 with value: -3.7912583934094153.\u001b[0m\n",
      "\u001b[32m[I 2022-01-09 15:50:20,200]\u001b[0m Trial 84 finished with value: -3.845401416570103 and parameters: {'n_estimators': 136, 'max_depth': 6}. Best is trial 4 with value: -3.7912583934094153.\u001b[0m\n",
      "\u001b[32m[I 2022-01-09 15:50:20,921]\u001b[0m Trial 85 finished with value: -3.8104980520116705 and parameters: {'n_estimators': 133, 'max_depth': 7}. Best is trial 4 with value: -3.7912583934094153.\u001b[0m\n",
      "\u001b[32m[I 2022-01-09 15:50:21,748]\u001b[0m Trial 86 finished with value: -3.833662050182265 and parameters: {'n_estimators': 146, 'max_depth': 6}. Best is trial 4 with value: -3.7912583934094153.\u001b[0m\n",
      "\u001b[32m[I 2022-01-09 15:50:23,809]\u001b[0m Trial 87 finished with value: -3.8333038604459846 and parameters: {'n_estimators': 149, 'max_depth': 6}. Best is trial 4 with value: -3.7912583934094153.\u001b[0m\n",
      "\u001b[32m[I 2022-01-09 15:50:24,367]\u001b[0m Trial 88 finished with value: -3.800753224875649 and parameters: {'n_estimators': 148, 'max_depth': 7}. Best is trial 4 with value: -3.7912583934094153.\u001b[0m\n",
      "\u001b[32m[I 2022-01-09 15:50:24,576]\u001b[0m Trial 90 finished with value: -3.8105409118004046 and parameters: {'n_estimators': 153, 'max_depth': 5}. Best is trial 4 with value: -3.7912583934094153.\u001b[0m\n",
      "\u001b[32m[I 2022-01-09 15:50:37,375]\u001b[0m Trial 89 finished with value: -3.8190353341523 and parameters: {'n_estimators': 382, 'max_depth': 7}. Best is trial 4 with value: -3.7912583934094153.\u001b[0m\n",
      "\u001b[32m[I 2022-01-09 15:50:39,875]\u001b[0m Trial 91 finished with value: -3.8186229504788174 and parameters: {'n_estimators': 391, 'max_depth': 7}. Best is trial 4 with value: -3.7912583934094153.\u001b[0m\n",
      "\u001b[32m[I 2022-01-09 15:50:41,465]\u001b[0m Trial 92 finished with value: -3.8203098014327694 and parameters: {'n_estimators': 405, 'max_depth': 7}. Best is trial 4 with value: -3.7912583934094153.\u001b[0m\n",
      "\u001b[32m[I 2022-01-09 15:50:43,614]\u001b[0m Trial 98 finished with value: -3.862815279754378 and parameters: {'n_estimators': 97, 'max_depth': 10}. Best is trial 4 with value: -3.7912583934094153.\u001b[0m\n",
      "\u001b[32m[I 2022-01-09 15:50:48,039]\u001b[0m Trial 93 finished with value: -3.866120176803515 and parameters: {'n_estimators': 408, 'max_depth': 10}. Best is trial 4 with value: -3.7912583934094153.\u001b[0m\n",
      "\u001b[32m[I 2022-01-09 15:50:48,605]\u001b[0m Trial 94 finished with value: -3.877225428143812 and parameters: {'n_estimators': 440, 'max_depth': 10}. Best is trial 4 with value: -3.7912583934094153.\u001b[0m\n",
      "\u001b[32m[I 2022-01-09 15:50:49,530]\u001b[0m Trial 95 finished with value: -3.8649787299913827 and parameters: {'n_estimators': 412, 'max_depth': 10}. Best is trial 4 with value: -3.7912583934094153.\u001b[0m\n",
      "\u001b[32m[I 2022-01-09 15:50:51,861]\u001b[0m Trial 96 finished with value: -3.871837466713056 and parameters: {'n_estimators': 420, 'max_depth': 10}. Best is trial 4 with value: -3.7912583934094153.\u001b[0m\n",
      "\u001b[32m[I 2022-01-09 15:50:54,593]\u001b[0m Trial 97 finished with value: -3.873263736647869 and parameters: {'n_estimators': 428, 'max_depth': 10}. Best is trial 4 with value: -3.7912583934094153.\u001b[0m\n",
      "\u001b[32m[I 2022-01-09 15:50:54,794]\u001b[0m Trial 99 finished with value: -3.8135090321418956 and parameters: {'n_estimators': 195, 'max_depth': 10}. Best is trial 4 with value: -3.7912583934094153.\u001b[0m\n"
     ]
    },
    {
     "data": {
      "text/plain": [
       "OptunaSearchCV(estimator=LGBMRegressor(), n_jobs=-1, n_trials=100,\n",
       "               param_distributions={'max_depth': IntUniformDistribution(high=20, low=1, step=1),\n",
       "                                    'n_estimators': IntLogUniformDistribution(high=1000.0, low=1.0, step=1)},\n",
       "               random_state=42, scoring='neg_root_mean_squared_error')"
      ]
     },
     "execution_count": 18,
     "metadata": {},
     "output_type": "execute_result"
    }
   ],
   "source": [
    "model = lgb.LGBMRegressor()\n",
    "\n",
    "param_distributions = {\n",
    "    'n_estimators':optuna.distributions.IntLogUniformDistribution(1e+0, 1e+3, 1),\n",
    "    'max_depth': optuna.distributions.IntUniformDistribution(1, 20, 1)\n",
    "}\n",
    "\n",
    "# クロスバリデーションによる、ハイパーパラメータの探索設定.cvのデフォルト設定値は5\n",
    "optuna_search = optuna.integration.OptunaSearchCV(\n",
    "    model,\n",
    "    param_distributions,\n",
    "    cv=5,\n",
    "    n_jobs=-1,\n",
    "    n_trials=100,\n",
    "    random_state=42,\n",
    "    scoring='neg_root_mean_squared_error')\n",
    "\n",
    "# 探索の実行\n",
    "optuna_search.fit(X_train_val, y_train_val)"
   ]
  },
  {
   "cell_type": "code",
   "execution_count": 19,
   "metadata": {},
   "outputs": [
    {
     "data": {
      "text/plain": [
       "-3.7912583934094153"
      ]
     },
     "execution_count": 19,
     "metadata": {},
     "output_type": "execute_result"
    }
   ],
   "source": [
    "optuna_search.best_score_"
   ]
  },
  {
   "cell_type": "code",
   "execution_count": 20,
   "metadata": {},
   "outputs": [
    {
     "name": "stdout",
     "output_type": "stream",
     "text": [
      "-3.9127614133880844\n"
     ]
    }
   ],
   "source": [
    "print(optuna_search.score(X_test, y_test))"
   ]
  },
  {
   "cell_type": "code",
   "execution_count": 21,
   "metadata": {},
   "outputs": [
    {
     "data": {
      "text/plain": [
       "{'n_estimators': 949, 'max_depth': 2}"
      ]
     },
     "execution_count": 21,
     "metadata": {},
     "output_type": "execute_result"
    }
   ],
   "source": [
    "best_params = optuna_search.best_params_\n",
    "best_params"
   ]
  },
  {
   "cell_type": "code",
   "execution_count": 22,
   "metadata": {},
   "outputs": [],
   "source": [
    "from sklearn.decomposition import PCA\n",
    "from lightgbm.basic import param_dict_to_str\n",
    "\n",
    "pca = PCA()\n",
    "regressor = lgb.LGBMRegressor(param_dict_to_str(best_params))\n",
    "\n",
    "estimators = [\n",
    "    #('StandScaler', scaler),\n",
    "    #('feature_selection', fr),\n",
    "    ('pca', pca),\n",
    "    ('estimator', regressor)\n",
    "]"
   ]
  },
  {
   "cell_type": "code",
   "execution_count": 23,
   "metadata": {},
   "outputs": [],
   "source": [
    "pipe = Pipeline(steps=estimators)"
   ]
  },
  {
   "cell_type": "code",
   "execution_count": 24,
   "metadata": {},
   "outputs": [
    {
     "name": "stdout",
     "output_type": "stream",
     "text": [
      "[LightGBM] [Warning] Unknown parameter boosting_type=n_estimators=949\n",
      "[LightGBM] [Warning] max_depth is set=2, max_depth=-1 will be ignored. Current value: max_depth=2\n"
     ]
    }
   ],
   "source": [
    "# 学習\n",
    "pipe.fit(X_train, y_train)\n",
    "\n",
    "# 予測\n",
    "pred = pipe.predict(X_test)"
   ]
  },
  {
   "cell_type": "code",
   "execution_count": 25,
   "metadata": {},
   "outputs": [
    {
     "name": "stdout",
     "output_type": "stream",
     "text": [
      "r2: 0.7890087093274946\n",
      "3.9335466895531046\n"
     ]
    }
   ],
   "source": [
    "# r2\n",
    "r2 = pipe.score(X_test, y_test)\n",
    "print(f'r2: {r2}')\n",
    "\n",
    "# rmse\n",
    "rmse = np.sqrt(mean_squared_error(y_test, pred))\n",
    "\n",
    "print(rmse)"
   ]
  },
  {
   "cell_type": "markdown",
   "metadata": {},
   "source": [
    "### ベイズ最適化2"
   ]
  },
  {
   "cell_type": "code",
   "execution_count": null,
   "metadata": {},
   "outputs": [],
   "source": [
    "params = {\n",
    "        \"objective\": \"regression\",\n",
    "        \"metric\": \"rmse\",\n",
    "        \"verbosity\": -1,\n",
    "        \"random_seed\": 42,\n",
    "        \"boosting_type\": \"gbdt\",\n",
    "    }"
   ]
  },
  {
   "cell_type": "code",
   "execution_count": null,
   "metadata": {},
   "outputs": [
    {
     "name": "stderr",
     "output_type": "stream",
     "text": [
      "\u001b[32m[I 2021-12-30 21:54:50,376]\u001b[0m A new study created in memory with name: no-name-db78b237-09c1-4a00-8264-e8212c3dbb4d\u001b[0m\n",
      "feature_fraction, val_score: inf:   0%|          | 0/7 [00:00<?, ?it/s]/home/bi18056/ml/venv/lib/python3.8/site-packages/lightgbm/engine.py:577: UserWarning: 'early_stopping_rounds' argument is deprecated and will be removed in a future release of LightGBM. Pass 'early_stopping()' callback via 'callbacks' argument instead.\n",
      "  _log_warning(\"'early_stopping_rounds' argument is deprecated and will be removed in a future release of LightGBM. \"\n",
      "/home/bi18056/ml/venv/lib/python3.8/site-packages/lightgbm/engine.py:620: UserWarning: 'verbose_eval' argument is deprecated and will be removed in a future release of LightGBM. Pass 'log_evaluation()' callback via 'callbacks' argument instead.\n",
      "  _log_warning(\"'verbose_eval' argument is deprecated and will be removed in a future release of LightGBM. \"\n"
     ]
    },
    {
     "name": "stdout",
     "output_type": "stream",
     "text": [
      "[100]\tcv_agg's rmse: 3.89765 + 0.491751\n",
      "[200]\tcv_agg's rmse: 3.87197 + 0.50453\n"
     ]
    },
    {
     "name": "stderr",
     "output_type": "stream",
     "text": [
      "feature_fraction, val_score: 3.864767:  14%|#4        | 1/7 [00:07<00:44,  7.41s/it]\u001b[32m[I 2021-12-30 21:54:57,796]\u001b[0m Trial 0 finished with value: 3.8647666105615315 and parameters: {'feature_fraction': 1.0}. Best is trial 0 with value: 3.8647666105615315.\u001b[0m\n",
      "feature_fraction, val_score: 3.864767:  14%|#4        | 1/7 [00:07<00:44,  7.41s/it]"
     ]
    },
    {
     "name": "stdout",
     "output_type": "stream",
     "text": [
      "[300]\tcv_agg's rmse: 3.87796 + 0.483789\n"
     ]
    },
    {
     "name": "stderr",
     "output_type": "stream",
     "text": [
      "/home/bi18056/ml/venv/lib/python3.8/site-packages/lightgbm/engine.py:577: UserWarning: 'early_stopping_rounds' argument is deprecated and will be removed in a future release of LightGBM. Pass 'early_stopping()' callback via 'callbacks' argument instead.\n",
      "  _log_warning(\"'early_stopping_rounds' argument is deprecated and will be removed in a future release of LightGBM. \"\n",
      "/home/bi18056/ml/venv/lib/python3.8/site-packages/lightgbm/engine.py:620: UserWarning: 'verbose_eval' argument is deprecated and will be removed in a future release of LightGBM. Pass 'log_evaluation()' callback via 'callbacks' argument instead.\n",
      "  _log_warning(\"'verbose_eval' argument is deprecated and will be removed in a future release of LightGBM. \"\n"
     ]
    },
    {
     "name": "stdout",
     "output_type": "stream",
     "text": [
      "[100]\tcv_agg's rmse: 3.93573 + 0.662539\n"
     ]
    },
    {
     "name": "stderr",
     "output_type": "stream",
     "text": [
      "feature_fraction, val_score: 3.864767:  29%|##8       | 2/7 [00:08<00:18,  3.67s/it]\u001b[32m[I 2021-12-30 21:54:58,846]\u001b[0m Trial 1 finished with value: 3.892737838821894 and parameters: {'feature_fraction': 0.7}. Best is trial 0 with value: 3.8647666105615315.\u001b[0m\n",
      "feature_fraction, val_score: 3.864767:  29%|##8       | 2/7 [00:08<00:18,  3.67s/it]"
     ]
    },
    {
     "name": "stdout",
     "output_type": "stream",
     "text": [
      "[200]\tcv_agg's rmse: 3.90767 + 0.606654\n"
     ]
    },
    {
     "name": "stderr",
     "output_type": "stream",
     "text": [
      "/home/bi18056/ml/venv/lib/python3.8/site-packages/lightgbm/engine.py:577: UserWarning: 'early_stopping_rounds' argument is deprecated and will be removed in a future release of LightGBM. Pass 'early_stopping()' callback via 'callbacks' argument instead.\n",
      "  _log_warning(\"'early_stopping_rounds' argument is deprecated and will be removed in a future release of LightGBM. \"\n",
      "/home/bi18056/ml/venv/lib/python3.8/site-packages/lightgbm/engine.py:620: UserWarning: 'verbose_eval' argument is deprecated and will be removed in a future release of LightGBM. Pass 'log_evaluation()' callback via 'callbacks' argument instead.\n",
      "  _log_warning(\"'verbose_eval' argument is deprecated and will be removed in a future release of LightGBM. \"\n"
     ]
    },
    {
     "name": "stdout",
     "output_type": "stream",
     "text": [
      "[100]\tcv_agg's rmse: 3.87807 + 0.541494\n",
      "[200]\tcv_agg's rmse: 3.84702 + 0.529882\n",
      "[300]\tcv_agg's rmse: 3.82931 + 0.502153\n"
     ]
    },
    {
     "name": "stderr",
     "output_type": "stream",
     "text": [
      "feature_fraction, val_score: 3.826909:  43%|####2     | 3/7 [00:10<00:11,  2.87s/it]\u001b[32m[I 2021-12-30 21:55:00,765]\u001b[0m Trial 2 finished with value: 3.82690870650089 and parameters: {'feature_fraction': 0.4}. Best is trial 2 with value: 3.82690870650089.\u001b[0m\n",
      "feature_fraction, val_score: 3.826909:  43%|####2     | 3/7 [00:10<00:11,  2.87s/it]/home/bi18056/ml/venv/lib/python3.8/site-packages/lightgbm/engine.py:577: UserWarning: 'early_stopping_rounds' argument is deprecated and will be removed in a future release of LightGBM. Pass 'early_stopping()' callback via 'callbacks' argument instead.\n",
      "  _log_warning(\"'early_stopping_rounds' argument is deprecated and will be removed in a future release of LightGBM. \"\n",
      "/home/bi18056/ml/venv/lib/python3.8/site-packages/lightgbm/engine.py:620: UserWarning: 'verbose_eval' argument is deprecated and will be removed in a future release of LightGBM. Pass 'log_evaluation()' callback via 'callbacks' argument instead.\n",
      "  _log_warning(\"'verbose_eval' argument is deprecated and will be removed in a future release of LightGBM. \"\n"
     ]
    },
    {
     "name": "stdout",
     "output_type": "stream",
     "text": [
      "[100]\tcv_agg's rmse: 3.93573 + 0.662539\n",
      "[200]\tcv_agg's rmse: 3.90767 + 0.606654\n"
     ]
    },
    {
     "name": "stderr",
     "output_type": "stream",
     "text": [
      "feature_fraction, val_score: 3.826909:  57%|#####7    | 4/7 [00:14<00:10,  3.36s/it]\u001b[32m[I 2021-12-30 21:55:04,885]\u001b[0m Trial 3 finished with value: 3.892737838821894 and parameters: {'feature_fraction': 0.8}. Best is trial 2 with value: 3.82690870650089.\u001b[0m\n",
      "feature_fraction, val_score: 3.826909:  57%|#####7    | 4/7 [00:14<00:10,  3.36s/it]/home/bi18056/ml/venv/lib/python3.8/site-packages/lightgbm/engine.py:577: UserWarning: 'early_stopping_rounds' argument is deprecated and will be removed in a future release of LightGBM. Pass 'early_stopping()' callback via 'callbacks' argument instead.\n",
      "  _log_warning(\"'early_stopping_rounds' argument is deprecated and will be removed in a future release of LightGBM. \"\n",
      "/home/bi18056/ml/venv/lib/python3.8/site-packages/lightgbm/engine.py:620: UserWarning: 'verbose_eval' argument is deprecated and will be removed in a future release of LightGBM. Pass 'log_evaluation()' callback via 'callbacks' argument instead.\n",
      "  _log_warning(\"'verbose_eval' argument is deprecated and will be removed in a future release of LightGBM. \"\n"
     ]
    },
    {
     "name": "stdout",
     "output_type": "stream",
     "text": [
      "[100]\tcv_agg's rmse: 3.89765 + 0.491751\n",
      "[200]\tcv_agg's rmse: 3.87197 + 0.50453\n"
     ]
    },
    {
     "name": "stderr",
     "output_type": "stream",
     "text": [
      "feature_fraction, val_score: 3.826909:  71%|#######1  | 5/7 [00:15<00:05,  2.68s/it]\u001b[32m[I 2021-12-30 21:55:06,361]\u001b[0m Trial 4 finished with value: 3.8647666105615315 and parameters: {'feature_fraction': 0.8999999999999999}. Best is trial 2 with value: 3.82690870650089.\u001b[0m\n",
      "feature_fraction, val_score: 3.826909:  71%|#######1  | 5/7 [00:15<00:05,  2.68s/it]"
     ]
    },
    {
     "name": "stdout",
     "output_type": "stream",
     "text": [
      "[300]\tcv_agg's rmse: 3.87796 + 0.483789\n"
     ]
    },
    {
     "name": "stderr",
     "output_type": "stream",
     "text": [
      "/home/bi18056/ml/venv/lib/python3.8/site-packages/lightgbm/engine.py:577: UserWarning: 'early_stopping_rounds' argument is deprecated and will be removed in a future release of LightGBM. Pass 'early_stopping()' callback via 'callbacks' argument instead.\n",
      "  _log_warning(\"'early_stopping_rounds' argument is deprecated and will be removed in a future release of LightGBM. \"\n",
      "/home/bi18056/ml/venv/lib/python3.8/site-packages/lightgbm/engine.py:620: UserWarning: 'verbose_eval' argument is deprecated and will be removed in a future release of LightGBM. Pass 'log_evaluation()' callback via 'callbacks' argument instead.\n",
      "  _log_warning(\"'verbose_eval' argument is deprecated and will be removed in a future release of LightGBM. \"\n"
     ]
    },
    {
     "name": "stdout",
     "output_type": "stream",
     "text": [
      "[100]\tcv_agg's rmse: 3.93561 + 0.656102\n",
      "[200]\tcv_agg's rmse: 3.90947 + 0.621206\n"
     ]
    },
    {
     "name": "stderr",
     "output_type": "stream",
     "text": [
      "feature_fraction, val_score: 3.826909:  86%|########5 | 6/7 [00:17<00:02,  2.20s/it]\u001b[32m[I 2021-12-30 21:55:07,625]\u001b[0m Trial 5 finished with value: 3.901078198578754 and parameters: {'feature_fraction': 0.6}. Best is trial 2 with value: 3.82690870650089.\u001b[0m\n",
      "feature_fraction, val_score: 3.826909:  86%|########5 | 6/7 [00:17<00:02,  2.20s/it]/home/bi18056/ml/venv/lib/python3.8/site-packages/lightgbm/engine.py:577: UserWarning: 'early_stopping_rounds' argument is deprecated and will be removed in a future release of LightGBM. Pass 'early_stopping()' callback via 'callbacks' argument instead.\n",
      "  _log_warning(\"'early_stopping_rounds' argument is deprecated and will be removed in a future release of LightGBM. \"\n",
      "/home/bi18056/ml/venv/lib/python3.8/site-packages/lightgbm/engine.py:620: UserWarning: 'verbose_eval' argument is deprecated and will be removed in a future release of LightGBM. Pass 'log_evaluation()' callback via 'callbacks' argument instead.\n",
      "  _log_warning(\"'verbose_eval' argument is deprecated and will be removed in a future release of LightGBM. \"\n"
     ]
    },
    {
     "name": "stdout",
     "output_type": "stream",
     "text": [
      "[100]\tcv_agg's rmse: 3.93561 + 0.656102\n",
      "[200]\tcv_agg's rmse: 3.90947 + 0.621206\n"
     ]
    },
    {
     "name": "stderr",
     "output_type": "stream",
     "text": [
      "feature_fraction, val_score: 3.826909: 100%|##########| 7/7 [00:18<00:00,  1.88s/it]\u001b[32m[I 2021-12-30 21:55:08,853]\u001b[0m Trial 6 finished with value: 3.901078198578754 and parameters: {'feature_fraction': 0.5}. Best is trial 2 with value: 3.82690870650089.\u001b[0m\n",
      "feature_fraction, val_score: 3.826909: 100%|##########| 7/7 [00:18<00:00,  2.64s/it]\n",
      "num_leaves, val_score: 3.826909:   0%|          | 0/20 [00:00<?, ?it/s]/home/bi18056/ml/venv/lib/python3.8/site-packages/lightgbm/engine.py:577: UserWarning: 'early_stopping_rounds' argument is deprecated and will be removed in a future release of LightGBM. Pass 'early_stopping()' callback via 'callbacks' argument instead.\n",
      "  _log_warning(\"'early_stopping_rounds' argument is deprecated and will be removed in a future release of LightGBM. \"\n",
      "/home/bi18056/ml/venv/lib/python3.8/site-packages/lightgbm/engine.py:620: UserWarning: 'verbose_eval' argument is deprecated and will be removed in a future release of LightGBM. Pass 'log_evaluation()' callback via 'callbacks' argument instead.\n",
      "  _log_warning(\"'verbose_eval' argument is deprecated and will be removed in a future release of LightGBM. \"\n"
     ]
    },
    {
     "name": "stdout",
     "output_type": "stream",
     "text": [
      "[100]\tcv_agg's rmse: 3.87807 + 0.541494\n",
      "[200]\tcv_agg's rmse: 3.84702 + 0.529882\n",
      "[300]\tcv_agg's rmse: 3.82931 + 0.502153\n"
     ]
    },
    {
     "name": "stderr",
     "output_type": "stream",
     "text": [
      "num_leaves, val_score: 3.826909:   5%|5         | 1/20 [00:01<00:23,  1.21s/it]\u001b[32m[I 2021-12-30 21:55:10,076]\u001b[0m Trial 7 finished with value: 3.82690870650089 and parameters: {'num_leaves': 162}. Best is trial 7 with value: 3.82690870650089.\u001b[0m\n",
      "num_leaves, val_score: 3.826909:   5%|5         | 1/20 [00:01<00:23,  1.21s/it]/home/bi18056/ml/venv/lib/python3.8/site-packages/lightgbm/engine.py:577: UserWarning: 'early_stopping_rounds' argument is deprecated and will be removed in a future release of LightGBM. Pass 'early_stopping()' callback via 'callbacks' argument instead.\n",
      "  _log_warning(\"'early_stopping_rounds' argument is deprecated and will be removed in a future release of LightGBM. \"\n",
      "/home/bi18056/ml/venv/lib/python3.8/site-packages/lightgbm/engine.py:620: UserWarning: 'verbose_eval' argument is deprecated and will be removed in a future release of LightGBM. Pass 'log_evaluation()' callback via 'callbacks' argument instead.\n",
      "  _log_warning(\"'verbose_eval' argument is deprecated and will be removed in a future release of LightGBM. \"\n"
     ]
    },
    {
     "name": "stdout",
     "output_type": "stream",
     "text": [
      "[100]\tcv_agg's rmse: 3.87807 + 0.541494\n",
      "[200]\tcv_agg's rmse: 3.84702 + 0.529882\n",
      "[300]\tcv_agg's rmse: 3.82931 + 0.502153\n"
     ]
    },
    {
     "name": "stderr",
     "output_type": "stream",
     "text": [
      "num_leaves, val_score: 3.826909:  10%|#         | 2/20 [00:02<00:23,  1.29s/it]\u001b[32m[I 2021-12-30 21:55:11,415]\u001b[0m Trial 8 finished with value: 3.82690870650089 and parameters: {'num_leaves': 40}. Best is trial 7 with value: 3.82690870650089.\u001b[0m\n",
      "num_leaves, val_score: 3.826909:  10%|#         | 2/20 [00:02<00:23,  1.29s/it]/home/bi18056/ml/venv/lib/python3.8/site-packages/lightgbm/engine.py:577: UserWarning: 'early_stopping_rounds' argument is deprecated and will be removed in a future release of LightGBM. Pass 'early_stopping()' callback via 'callbacks' argument instead.\n",
      "  _log_warning(\"'early_stopping_rounds' argument is deprecated and will be removed in a future release of LightGBM. \"\n",
      "/home/bi18056/ml/venv/lib/python3.8/site-packages/lightgbm/engine.py:620: UserWarning: 'verbose_eval' argument is deprecated and will be removed in a future release of LightGBM. Pass 'log_evaluation()' callback via 'callbacks' argument instead.\n",
      "  _log_warning(\"'verbose_eval' argument is deprecated and will be removed in a future release of LightGBM. \"\n"
     ]
    },
    {
     "name": "stdout",
     "output_type": "stream",
     "text": [
      "[100]\tcv_agg's rmse: 3.87807 + 0.541494\n",
      "[200]\tcv_agg's rmse: 3.84702 + 0.529882\n"
     ]
    },
    {
     "name": "stderr",
     "output_type": "stream",
     "text": [
      "num_leaves, val_score: 3.826909:  15%|#5        | 3/20 [00:03<00:20,  1.19s/it]\u001b[32m[I 2021-12-30 21:55:12,493]\u001b[0m Trial 9 finished with value: 3.82690870650089 and parameters: {'num_leaves': 121}. Best is trial 7 with value: 3.82690870650089.\u001b[0m\n",
      "num_leaves, val_score: 3.826909:  15%|#5        | 3/20 [00:03<00:20,  1.19s/it]"
     ]
    },
    {
     "name": "stdout",
     "output_type": "stream",
     "text": [
      "[300]\tcv_agg's rmse: 3.82931 + 0.502153\n"
     ]
    },
    {
     "name": "stderr",
     "output_type": "stream",
     "text": [
      "/home/bi18056/ml/venv/lib/python3.8/site-packages/lightgbm/engine.py:577: UserWarning: 'early_stopping_rounds' argument is deprecated and will be removed in a future release of LightGBM. Pass 'early_stopping()' callback via 'callbacks' argument instead.\n",
      "  _log_warning(\"'early_stopping_rounds' argument is deprecated and will be removed in a future release of LightGBM. \"\n",
      "/home/bi18056/ml/venv/lib/python3.8/site-packages/lightgbm/engine.py:620: UserWarning: 'verbose_eval' argument is deprecated and will be removed in a future release of LightGBM. Pass 'log_evaluation()' callback via 'callbacks' argument instead.\n",
      "  _log_warning(\"'verbose_eval' argument is deprecated and will be removed in a future release of LightGBM. \"\n"
     ]
    },
    {
     "name": "stdout",
     "output_type": "stream",
     "text": [
      "[100]\tcv_agg's rmse: 3.87807 + 0.541494\n",
      "[200]\tcv_agg's rmse: 3.84702 + 0.529882\n",
      "[300]\tcv_agg's rmse: 3.82931 + 0.502153\n"
     ]
    },
    {
     "name": "stderr",
     "output_type": "stream",
     "text": [
      "num_leaves, val_score: 3.826909:  20%|##        | 4/20 [00:05<00:21,  1.33s/it]\u001b[32m[I 2021-12-30 21:55:14,040]\u001b[0m Trial 10 finished with value: 3.82690870650089 and parameters: {'num_leaves': 115}. Best is trial 7 with value: 3.82690870650089.\u001b[0m\n",
      "num_leaves, val_score: 3.826909:  20%|##        | 4/20 [00:05<00:21,  1.33s/it]/home/bi18056/ml/venv/lib/python3.8/site-packages/lightgbm/engine.py:577: UserWarning: 'early_stopping_rounds' argument is deprecated and will be removed in a future release of LightGBM. Pass 'early_stopping()' callback via 'callbacks' argument instead.\n",
      "  _log_warning(\"'early_stopping_rounds' argument is deprecated and will be removed in a future release of LightGBM. \"\n",
      "/home/bi18056/ml/venv/lib/python3.8/site-packages/lightgbm/engine.py:620: UserWarning: 'verbose_eval' argument is deprecated and will be removed in a future release of LightGBM. Pass 'log_evaluation()' callback via 'callbacks' argument instead.\n",
      "  _log_warning(\"'verbose_eval' argument is deprecated and will be removed in a future release of LightGBM. \"\n"
     ]
    },
    {
     "name": "stdout",
     "output_type": "stream",
     "text": [
      "[100]\tcv_agg's rmse: 3.87807 + 0.541494\n",
      "[200]\tcv_agg's rmse: 3.84702 + 0.529882\n",
      "[300]\tcv_agg's rmse: 3.82931 + 0.502153\n"
     ]
    },
    {
     "name": "stderr",
     "output_type": "stream",
     "text": [
      "num_leaves, val_score: 3.826909:  25%|##5       | 5/20 [00:11<00:47,  3.18s/it]\u001b[32m[I 2021-12-30 21:55:20,487]\u001b[0m Trial 11 finished with value: 3.82690870650089 and parameters: {'num_leaves': 35}. Best is trial 7 with value: 3.82690870650089.\u001b[0m\n",
      "num_leaves, val_score: 3.826909:  25%|##5       | 5/20 [00:11<00:47,  3.18s/it]/home/bi18056/ml/venv/lib/python3.8/site-packages/lightgbm/engine.py:577: UserWarning: 'early_stopping_rounds' argument is deprecated and will be removed in a future release of LightGBM. Pass 'early_stopping()' callback via 'callbacks' argument instead.\n",
      "  _log_warning(\"'early_stopping_rounds' argument is deprecated and will be removed in a future release of LightGBM. \"\n",
      "/home/bi18056/ml/venv/lib/python3.8/site-packages/lightgbm/engine.py:620: UserWarning: 'verbose_eval' argument is deprecated and will be removed in a future release of LightGBM. Pass 'log_evaluation()' callback via 'callbacks' argument instead.\n",
      "  _log_warning(\"'verbose_eval' argument is deprecated and will be removed in a future release of LightGBM. \"\n"
     ]
    },
    {
     "name": "stdout",
     "output_type": "stream",
     "text": [
      "[100]\tcv_agg's rmse: 3.87807 + 0.541494\n",
      "[200]\tcv_agg's rmse: 3.84702 + 0.529882\n",
      "[300]\tcv_agg's rmse: 3.82931 + 0.502153\n"
     ]
    },
    {
     "name": "stderr",
     "output_type": "stream",
     "text": [
      "num_leaves, val_score: 3.826909:  30%|###       | 6/20 [00:13<00:38,  2.74s/it]\u001b[32m[I 2021-12-30 21:55:22,391]\u001b[0m Trial 12 finished with value: 3.82690870650089 and parameters: {'num_leaves': 136}. Best is trial 7 with value: 3.82690870650089.\u001b[0m\n",
      "num_leaves, val_score: 3.826909:  30%|###       | 6/20 [00:13<00:38,  2.74s/it]/home/bi18056/ml/venv/lib/python3.8/site-packages/lightgbm/engine.py:577: UserWarning: 'early_stopping_rounds' argument is deprecated and will be removed in a future release of LightGBM. Pass 'early_stopping()' callback via 'callbacks' argument instead.\n",
      "  _log_warning(\"'early_stopping_rounds' argument is deprecated and will be removed in a future release of LightGBM. \"\n",
      "/home/bi18056/ml/venv/lib/python3.8/site-packages/lightgbm/engine.py:620: UserWarning: 'verbose_eval' argument is deprecated and will be removed in a future release of LightGBM. Pass 'log_evaluation()' callback via 'callbacks' argument instead.\n",
      "  _log_warning(\"'verbose_eval' argument is deprecated and will be removed in a future release of LightGBM. \"\n"
     ]
    },
    {
     "name": "stdout",
     "output_type": "stream",
     "text": [
      "[100]\tcv_agg's rmse: 3.87807 + 0.541494\n",
      "[200]\tcv_agg's rmse: 3.84702 + 0.529882\n"
     ]
    },
    {
     "name": "stderr",
     "output_type": "stream",
     "text": [
      "num_leaves, val_score: 3.826909:  35%|###5      | 7/20 [00:14<00:29,  2.23s/it]\u001b[32m[I 2021-12-30 21:55:23,574]\u001b[0m Trial 13 finished with value: 3.82690870650089 and parameters: {'num_leaves': 37}. Best is trial 7 with value: 3.82690870650089.\u001b[0m\n",
      "num_leaves, val_score: 3.826909:  35%|###5      | 7/20 [00:14<00:29,  2.23s/it]"
     ]
    },
    {
     "name": "stdout",
     "output_type": "stream",
     "text": [
      "[300]\tcv_agg's rmse: 3.82931 + 0.502153\n"
     ]
    },
    {
     "name": "stderr",
     "output_type": "stream",
     "text": [
      "/home/bi18056/ml/venv/lib/python3.8/site-packages/lightgbm/engine.py:577: UserWarning: 'early_stopping_rounds' argument is deprecated and will be removed in a future release of LightGBM. Pass 'early_stopping()' callback via 'callbacks' argument instead.\n",
      "  _log_warning(\"'early_stopping_rounds' argument is deprecated and will be removed in a future release of LightGBM. \"\n",
      "/home/bi18056/ml/venv/lib/python3.8/site-packages/lightgbm/engine.py:620: UserWarning: 'verbose_eval' argument is deprecated and will be removed in a future release of LightGBM. Pass 'log_evaluation()' callback via 'callbacks' argument instead.\n",
      "  _log_warning(\"'verbose_eval' argument is deprecated and will be removed in a future release of LightGBM. \"\n"
     ]
    },
    {
     "name": "stdout",
     "output_type": "stream",
     "text": [
      "[100]\tcv_agg's rmse: 3.87807 + 0.541494\n",
      "[200]\tcv_agg's rmse: 3.84702 + 0.529882\n"
     ]
    },
    {
     "name": "stderr",
     "output_type": "stream",
     "text": [
      "num_leaves, val_score: 3.826909:  40%|####      | 8/20 [00:15<00:22,  1.87s/it]\u001b[32m[I 2021-12-30 21:55:24,657]\u001b[0m Trial 14 finished with value: 3.82690870650089 and parameters: {'num_leaves': 20}. Best is trial 7 with value: 3.82690870650089.\u001b[0m\n",
      "num_leaves, val_score: 3.826909:  40%|####      | 8/20 [00:15<00:22,  1.87s/it]"
     ]
    },
    {
     "name": "stdout",
     "output_type": "stream",
     "text": [
      "[300]\tcv_agg's rmse: 3.82931 + 0.502153\n"
     ]
    },
    {
     "name": "stderr",
     "output_type": "stream",
     "text": [
      "/home/bi18056/ml/venv/lib/python3.8/site-packages/lightgbm/engine.py:577: UserWarning: 'early_stopping_rounds' argument is deprecated and will be removed in a future release of LightGBM. Pass 'early_stopping()' callback via 'callbacks' argument instead.\n",
      "  _log_warning(\"'early_stopping_rounds' argument is deprecated and will be removed in a future release of LightGBM. \"\n",
      "/home/bi18056/ml/venv/lib/python3.8/site-packages/lightgbm/engine.py:620: UserWarning: 'verbose_eval' argument is deprecated and will be removed in a future release of LightGBM. Pass 'log_evaluation()' callback via 'callbacks' argument instead.\n",
      "  _log_warning(\"'verbose_eval' argument is deprecated and will be removed in a future release of LightGBM. \"\n"
     ]
    },
    {
     "name": "stdout",
     "output_type": "stream",
     "text": [
      "[100]\tcv_agg's rmse: 3.87807 + 0.541494\n",
      "[200]\tcv_agg's rmse: 3.84702 + 0.529882\n",
      "[300]\tcv_agg's rmse: 3.82931 + 0.502153\n"
     ]
    },
    {
     "name": "stderr",
     "output_type": "stream",
     "text": [
      "num_leaves, val_score: 3.826909:  45%|####5     | 9/20 [00:17<00:19,  1.75s/it]\u001b[32m[I 2021-12-30 21:55:26,161]\u001b[0m Trial 15 finished with value: 3.82690870650089 and parameters: {'num_leaves': 242}. Best is trial 7 with value: 3.82690870650089.\u001b[0m\n",
      "num_leaves, val_score: 3.826909:  45%|####5     | 9/20 [00:17<00:19,  1.75s/it]/home/bi18056/ml/venv/lib/python3.8/site-packages/lightgbm/engine.py:577: UserWarning: 'early_stopping_rounds' argument is deprecated and will be removed in a future release of LightGBM. Pass 'early_stopping()' callback via 'callbacks' argument instead.\n",
      "  _log_warning(\"'early_stopping_rounds' argument is deprecated and will be removed in a future release of LightGBM. \"\n",
      "/home/bi18056/ml/venv/lib/python3.8/site-packages/lightgbm/engine.py:620: UserWarning: 'verbose_eval' argument is deprecated and will be removed in a future release of LightGBM. Pass 'log_evaluation()' callback via 'callbacks' argument instead.\n",
      "  _log_warning(\"'verbose_eval' argument is deprecated and will be removed in a future release of LightGBM. \"\n"
     ]
    },
    {
     "name": "stdout",
     "output_type": "stream",
     "text": [
      "[100]\tcv_agg's rmse: 3.87807 + 0.541494\n",
      "[200]\tcv_agg's rmse: 3.84702 + 0.529882\n"
     ]
    },
    {
     "name": "stderr",
     "output_type": "stream",
     "text": [
      "num_leaves, val_score: 3.826909:  50%|#####     | 10/20 [00:18<00:15,  1.58s/it]\u001b[32m[I 2021-12-30 21:55:27,364]\u001b[0m Trial 16 finished with value: 3.82690870650089 and parameters: {'num_leaves': 52}. Best is trial 7 with value: 3.82690870650089.\u001b[0m\n",
      "num_leaves, val_score: 3.826909:  50%|#####     | 10/20 [00:18<00:15,  1.58s/it]"
     ]
    },
    {
     "name": "stdout",
     "output_type": "stream",
     "text": [
      "[300]\tcv_agg's rmse: 3.82931 + 0.502153\n"
     ]
    },
    {
     "name": "stderr",
     "output_type": "stream",
     "text": [
      "/home/bi18056/ml/venv/lib/python3.8/site-packages/lightgbm/engine.py:577: UserWarning: 'early_stopping_rounds' argument is deprecated and will be removed in a future release of LightGBM. Pass 'early_stopping()' callback via 'callbacks' argument instead.\n",
      "  _log_warning(\"'early_stopping_rounds' argument is deprecated and will be removed in a future release of LightGBM. \"\n",
      "/home/bi18056/ml/venv/lib/python3.8/site-packages/lightgbm/engine.py:620: UserWarning: 'verbose_eval' argument is deprecated and will be removed in a future release of LightGBM. Pass 'log_evaluation()' callback via 'callbacks' argument instead.\n",
      "  _log_warning(\"'verbose_eval' argument is deprecated and will be removed in a future release of LightGBM. \"\n"
     ]
    },
    {
     "name": "stdout",
     "output_type": "stream",
     "text": [
      "[100]\tcv_agg's rmse: 3.87807 + 0.541494\n",
      "[200]\tcv_agg's rmse: 3.84702 + 0.529882\n",
      "[300]\tcv_agg's rmse: 3.82931 + 0.502153\n"
     ]
    },
    {
     "name": "stderr",
     "output_type": "stream",
     "text": [
      "num_leaves, val_score: 3.826909:  55%|#####5    | 11/20 [00:19<00:13,  1.45s/it]\u001b[32m[I 2021-12-30 21:55:28,508]\u001b[0m Trial 17 finished with value: 3.82690870650089 and parameters: {'num_leaves': 225}. Best is trial 7 with value: 3.82690870650089.\u001b[0m\n",
      "num_leaves, val_score: 3.826909:  55%|#####5    | 11/20 [00:19<00:13,  1.45s/it]/home/bi18056/ml/venv/lib/python3.8/site-packages/lightgbm/engine.py:577: UserWarning: 'early_stopping_rounds' argument is deprecated and will be removed in a future release of LightGBM. Pass 'early_stopping()' callback via 'callbacks' argument instead.\n",
      "  _log_warning(\"'early_stopping_rounds' argument is deprecated and will be removed in a future release of LightGBM. \"\n",
      "/home/bi18056/ml/venv/lib/python3.8/site-packages/lightgbm/engine.py:620: UserWarning: 'verbose_eval' argument is deprecated and will be removed in a future release of LightGBM. Pass 'log_evaluation()' callback via 'callbacks' argument instead.\n",
      "  _log_warning(\"'verbose_eval' argument is deprecated and will be removed in a future release of LightGBM. \"\n"
     ]
    },
    {
     "name": "stdout",
     "output_type": "stream",
     "text": [
      "[100]\tcv_agg's rmse: 3.87807 + 0.541494\n",
      "[200]\tcv_agg's rmse: 3.84702 + 0.529882\n",
      "[300]\tcv_agg's rmse: 3.82931 + 0.502153\n"
     ]
    },
    {
     "name": "stderr",
     "output_type": "stream",
     "text": [
      "num_leaves, val_score: 3.826909:  60%|######    | 12/20 [00:21<00:11,  1.44s/it]\u001b[32m[I 2021-12-30 21:55:29,927]\u001b[0m Trial 18 finished with value: 3.82690870650089 and parameters: {'num_leaves': 157}. Best is trial 7 with value: 3.82690870650089.\u001b[0m\n",
      "num_leaves, val_score: 3.826909:  60%|######    | 12/20 [00:21<00:11,  1.44s/it]/home/bi18056/ml/venv/lib/python3.8/site-packages/lightgbm/engine.py:577: UserWarning: 'early_stopping_rounds' argument is deprecated and will be removed in a future release of LightGBM. Pass 'early_stopping()' callback via 'callbacks' argument instead.\n",
      "  _log_warning(\"'early_stopping_rounds' argument is deprecated and will be removed in a future release of LightGBM. \"\n",
      "/home/bi18056/ml/venv/lib/python3.8/site-packages/lightgbm/engine.py:620: UserWarning: 'verbose_eval' argument is deprecated and will be removed in a future release of LightGBM. Pass 'log_evaluation()' callback via 'callbacks' argument instead.\n",
      "  _log_warning(\"'verbose_eval' argument is deprecated and will be removed in a future release of LightGBM. \"\n"
     ]
    },
    {
     "name": "stdout",
     "output_type": "stream",
     "text": [
      "[100]\tcv_agg's rmse: 3.87807 + 0.541494\n",
      "[200]\tcv_agg's rmse: 3.84702 + 0.529882\n"
     ]
    },
    {
     "name": "stderr",
     "output_type": "stream",
     "text": [
      "num_leaves, val_score: 3.826909:  65%|######5   | 13/20 [00:22<00:09,  1.38s/it]\u001b[32m[I 2021-12-30 21:55:31,157]\u001b[0m Trial 19 finished with value: 3.82690870650089 and parameters: {'num_leaves': 187}. Best is trial 7 with value: 3.82690870650089.\u001b[0m\n",
      "num_leaves, val_score: 3.826909:  65%|######5   | 13/20 [00:22<00:09,  1.38s/it]"
     ]
    },
    {
     "name": "stdout",
     "output_type": "stream",
     "text": [
      "[300]\tcv_agg's rmse: 3.82931 + 0.502153\n"
     ]
    },
    {
     "name": "stderr",
     "output_type": "stream",
     "text": [
      "/home/bi18056/ml/venv/lib/python3.8/site-packages/lightgbm/engine.py:577: UserWarning: 'early_stopping_rounds' argument is deprecated and will be removed in a future release of LightGBM. Pass 'early_stopping()' callback via 'callbacks' argument instead.\n",
      "  _log_warning(\"'early_stopping_rounds' argument is deprecated and will be removed in a future release of LightGBM. \"\n",
      "/home/bi18056/ml/venv/lib/python3.8/site-packages/lightgbm/engine.py:620: UserWarning: 'verbose_eval' argument is deprecated and will be removed in a future release of LightGBM. Pass 'log_evaluation()' callback via 'callbacks' argument instead.\n",
      "  _log_warning(\"'verbose_eval' argument is deprecated and will be removed in a future release of LightGBM. \"\n"
     ]
    },
    {
     "name": "stdout",
     "output_type": "stream",
     "text": [
      "[100]\tcv_agg's rmse: 3.87807 + 0.541494\n",
      "[200]\tcv_agg's rmse: 3.84702 + 0.529882\n",
      "[300]\tcv_agg's rmse: 3.82931 + 0.502153\n"
     ]
    },
    {
     "name": "stderr",
     "output_type": "stream",
     "text": [
      "num_leaves, val_score: 3.826909:  70%|#######   | 14/20 [00:23<00:08,  1.37s/it]\u001b[32m[I 2021-12-30 21:55:32,524]\u001b[0m Trial 20 finished with value: 3.82690870650089 and parameters: {'num_leaves': 76}. Best is trial 7 with value: 3.82690870650089.\u001b[0m\n",
      "num_leaves, val_score: 3.826909:  70%|#######   | 14/20 [00:23<00:08,  1.37s/it]/home/bi18056/ml/venv/lib/python3.8/site-packages/lightgbm/engine.py:577: UserWarning: 'early_stopping_rounds' argument is deprecated and will be removed in a future release of LightGBM. Pass 'early_stopping()' callback via 'callbacks' argument instead.\n",
      "  _log_warning(\"'early_stopping_rounds' argument is deprecated and will be removed in a future release of LightGBM. \"\n",
      "/home/bi18056/ml/venv/lib/python3.8/site-packages/lightgbm/engine.py:620: UserWarning: 'verbose_eval' argument is deprecated and will be removed in a future release of LightGBM. Pass 'log_evaluation()' callback via 'callbacks' argument instead.\n",
      "  _log_warning(\"'verbose_eval' argument is deprecated and will be removed in a future release of LightGBM. \"\n"
     ]
    },
    {
     "name": "stdout",
     "output_type": "stream",
     "text": [
      "[100]\tcv_agg's rmse: 3.87807 + 0.541494\n",
      "[200]\tcv_agg's rmse: 3.84702 + 0.529882\n",
      "[300]\tcv_agg's rmse: 3.82931 + 0.502153\n"
     ]
    },
    {
     "name": "stderr",
     "output_type": "stream",
     "text": [
      "num_leaves, val_score: 3.826909:  75%|#######5  | 15/20 [00:24<00:06,  1.35s/it]\u001b[32m[I 2021-12-30 21:55:33,821]\u001b[0m Trial 21 finished with value: 3.82690870650089 and parameters: {'num_leaves': 80}. Best is trial 7 with value: 3.82690870650089.\u001b[0m\n",
      "num_leaves, val_score: 3.826909:  75%|#######5  | 15/20 [00:24<00:06,  1.35s/it]/home/bi18056/ml/venv/lib/python3.8/site-packages/lightgbm/engine.py:577: UserWarning: 'early_stopping_rounds' argument is deprecated and will be removed in a future release of LightGBM. Pass 'early_stopping()' callback via 'callbacks' argument instead.\n",
      "  _log_warning(\"'early_stopping_rounds' argument is deprecated and will be removed in a future release of LightGBM. \"\n",
      "/home/bi18056/ml/venv/lib/python3.8/site-packages/lightgbm/engine.py:620: UserWarning: 'verbose_eval' argument is deprecated and will be removed in a future release of LightGBM. Pass 'log_evaluation()' callback via 'callbacks' argument instead.\n",
      "  _log_warning(\"'verbose_eval' argument is deprecated and will be removed in a future release of LightGBM. \"\n"
     ]
    },
    {
     "name": "stdout",
     "output_type": "stream",
     "text": [
      "[100]\tcv_agg's rmse: 3.87807 + 0.541494\n",
      "[200]\tcv_agg's rmse: 3.84702 + 0.529882\n",
      "[300]\tcv_agg's rmse: 3.82931 + 0.502153\n"
     ]
    },
    {
     "name": "stderr",
     "output_type": "stream",
     "text": [
      "num_leaves, val_score: 3.826909:  80%|########  | 16/20 [00:26<00:05,  1.34s/it]\u001b[32m[I 2021-12-30 21:55:35,149]\u001b[0m Trial 22 finished with value: 3.82690870650089 and parameters: {'num_leaves': 182}. Best is trial 7 with value: 3.82690870650089.\u001b[0m\n",
      "num_leaves, val_score: 3.826909:  80%|########  | 16/20 [00:26<00:05,  1.34s/it]/home/bi18056/ml/venv/lib/python3.8/site-packages/lightgbm/engine.py:577: UserWarning: 'early_stopping_rounds' argument is deprecated and will be removed in a future release of LightGBM. Pass 'early_stopping()' callback via 'callbacks' argument instead.\n",
      "  _log_warning(\"'early_stopping_rounds' argument is deprecated and will be removed in a future release of LightGBM. \"\n",
      "/home/bi18056/ml/venv/lib/python3.8/site-packages/lightgbm/engine.py:620: UserWarning: 'verbose_eval' argument is deprecated and will be removed in a future release of LightGBM. Pass 'log_evaluation()' callback via 'callbacks' argument instead.\n",
      "  _log_warning(\"'verbose_eval' argument is deprecated and will be removed in a future release of LightGBM. \"\n"
     ]
    },
    {
     "name": "stdout",
     "output_type": "stream",
     "text": [
      "[100]\tcv_agg's rmse: 3.87807 + 0.541494\n",
      "[200]\tcv_agg's rmse: 3.84702 + 0.529882\n",
      "[300]\tcv_agg's rmse: 3.82931 + 0.502153\n"
     ]
    },
    {
     "name": "stderr",
     "output_type": "stream",
     "text": [
      "num_leaves, val_score: 3.826909:  85%|########5 | 17/20 [00:27<00:03,  1.32s/it]\u001b[32m[I 2021-12-30 21:55:36,406]\u001b[0m Trial 23 finished with value: 3.82690870650089 and parameters: {'num_leaves': 90}. Best is trial 7 with value: 3.82690870650089.\u001b[0m\n",
      "num_leaves, val_score: 3.826909:  85%|########5 | 17/20 [00:27<00:03,  1.32s/it]/home/bi18056/ml/venv/lib/python3.8/site-packages/lightgbm/engine.py:577: UserWarning: 'early_stopping_rounds' argument is deprecated and will be removed in a future release of LightGBM. Pass 'early_stopping()' callback via 'callbacks' argument instead.\n",
      "  _log_warning(\"'early_stopping_rounds' argument is deprecated and will be removed in a future release of LightGBM. \"\n",
      "/home/bi18056/ml/venv/lib/python3.8/site-packages/lightgbm/engine.py:620: UserWarning: 'verbose_eval' argument is deprecated and will be removed in a future release of LightGBM. Pass 'log_evaluation()' callback via 'callbacks' argument instead.\n",
      "  _log_warning(\"'verbose_eval' argument is deprecated and will be removed in a future release of LightGBM. \"\n"
     ]
    },
    {
     "name": "stdout",
     "output_type": "stream",
     "text": [
      "[100]\tcv_agg's rmse: 3.87807 + 0.541494\n",
      "[200]\tcv_agg's rmse: 3.84702 + 0.529882\n"
     ]
    },
    {
     "name": "stderr",
     "output_type": "stream",
     "text": [
      "num_leaves, val_score: 3.826909:  90%|######### | 18/20 [00:28<00:02,  1.26s/it]\u001b[32m[I 2021-12-30 21:55:37,538]\u001b[0m Trial 24 finished with value: 3.82690870650089 and parameters: {'num_leaves': 88}. Best is trial 7 with value: 3.82690870650089.\u001b[0m\n",
      "num_leaves, val_score: 3.826909:  90%|######### | 18/20 [00:28<00:02,  1.26s/it]"
     ]
    },
    {
     "name": "stdout",
     "output_type": "stream",
     "text": [
      "[300]\tcv_agg's rmse: 3.82931 + 0.502153\n"
     ]
    },
    {
     "name": "stderr",
     "output_type": "stream",
     "text": [
      "/home/bi18056/ml/venv/lib/python3.8/site-packages/lightgbm/engine.py:577: UserWarning: 'early_stopping_rounds' argument is deprecated and will be removed in a future release of LightGBM. Pass 'early_stopping()' callback via 'callbacks' argument instead.\n",
      "  _log_warning(\"'early_stopping_rounds' argument is deprecated and will be removed in a future release of LightGBM. \"\n",
      "/home/bi18056/ml/venv/lib/python3.8/site-packages/lightgbm/engine.py:620: UserWarning: 'verbose_eval' argument is deprecated and will be removed in a future release of LightGBM. Pass 'log_evaluation()' callback via 'callbacks' argument instead.\n",
      "  _log_warning(\"'verbose_eval' argument is deprecated and will be removed in a future release of LightGBM. \"\n"
     ]
    },
    {
     "name": "stdout",
     "output_type": "stream",
     "text": [
      "[100]\tcv_agg's rmse: 3.87807 + 0.541494\n",
      "[200]\tcv_agg's rmse: 3.84702 + 0.529882\n",
      "[300]\tcv_agg's rmse: 3.82931 + 0.502153\n"
     ]
    },
    {
     "name": "stderr",
     "output_type": "stream",
     "text": [
      "num_leaves, val_score: 3.826909:  95%|#########5| 19/20 [00:30<00:01,  1.33s/it]\u001b[32m[I 2021-12-30 21:55:39,020]\u001b[0m Trial 25 finished with value: 3.82690870650089 and parameters: {'num_leaves': 191}. Best is trial 7 with value: 3.82690870650089.\u001b[0m\n",
      "num_leaves, val_score: 3.826909:  95%|#########5| 19/20 [00:30<00:01,  1.33s/it]/home/bi18056/ml/venv/lib/python3.8/site-packages/lightgbm/engine.py:577: UserWarning: 'early_stopping_rounds' argument is deprecated and will be removed in a future release of LightGBM. Pass 'early_stopping()' callback via 'callbacks' argument instead.\n",
      "  _log_warning(\"'early_stopping_rounds' argument is deprecated and will be removed in a future release of LightGBM. \"\n",
      "/home/bi18056/ml/venv/lib/python3.8/site-packages/lightgbm/engine.py:620: UserWarning: 'verbose_eval' argument is deprecated and will be removed in a future release of LightGBM. Pass 'log_evaluation()' callback via 'callbacks' argument instead.\n",
      "  _log_warning(\"'verbose_eval' argument is deprecated and will be removed in a future release of LightGBM. \"\n"
     ]
    },
    {
     "name": "stdout",
     "output_type": "stream",
     "text": [
      "[100]\tcv_agg's rmse: 3.87807 + 0.541494\n",
      "[200]\tcv_agg's rmse: 3.84702 + 0.529882\n"
     ]
    },
    {
     "name": "stderr",
     "output_type": "stream",
     "text": [
      "num_leaves, val_score: 3.826909: 100%|##########| 20/20 [00:31<00:00,  1.24s/it]\u001b[32m[I 2021-12-30 21:55:40,069]\u001b[0m Trial 26 finished with value: 3.82690870650089 and parameters: {'num_leaves': 151}. Best is trial 7 with value: 3.82690870650089.\u001b[0m\n",
      "num_leaves, val_score: 3.826909: 100%|##########| 20/20 [00:31<00:00,  1.56s/it]\n"
     ]
    },
    {
     "name": "stdout",
     "output_type": "stream",
     "text": [
      "[300]\tcv_agg's rmse: 3.82931 + 0.502153\n"
     ]
    },
    {
     "name": "stderr",
     "output_type": "stream",
     "text": [
      "bagging, val_score: 3.826909:   0%|          | 0/10 [00:00<?, ?it/s]/home/bi18056/ml/venv/lib/python3.8/site-packages/lightgbm/engine.py:577: UserWarning: 'early_stopping_rounds' argument is deprecated and will be removed in a future release of LightGBM. Pass 'early_stopping()' callback via 'callbacks' argument instead.\n",
      "  _log_warning(\"'early_stopping_rounds' argument is deprecated and will be removed in a future release of LightGBM. \"\n",
      "/home/bi18056/ml/venv/lib/python3.8/site-packages/lightgbm/engine.py:620: UserWarning: 'verbose_eval' argument is deprecated and will be removed in a future release of LightGBM. Pass 'log_evaluation()' callback via 'callbacks' argument instead.\n",
      "  _log_warning(\"'verbose_eval' argument is deprecated and will be removed in a future release of LightGBM. \"\n"
     ]
    },
    {
     "name": "stdout",
     "output_type": "stream",
     "text": [
      "[100]\tcv_agg's rmse: 3.90199 + 0.590545\n",
      "[200]\tcv_agg's rmse: 3.87817 + 0.589876\n"
     ]
    },
    {
     "name": "stderr",
     "output_type": "stream",
     "text": [
      "bagging, val_score: 3.826909:  10%|#         | 1/10 [00:01<00:09,  1.07s/it]\u001b[32m[I 2021-12-30 21:55:41,151]\u001b[0m Trial 27 finished with value: 3.8571342631271284 and parameters: {'bagging_fraction': 0.851960965413801, 'bagging_freq': 7}. Best is trial 27 with value: 3.8571342631271284.\u001b[0m\n",
      "bagging, val_score: 3.826909:  10%|#         | 1/10 [00:01<00:09,  1.07s/it]/home/bi18056/ml/venv/lib/python3.8/site-packages/lightgbm/engine.py:577: UserWarning: 'early_stopping_rounds' argument is deprecated and will be removed in a future release of LightGBM. Pass 'early_stopping()' callback via 'callbacks' argument instead.\n",
      "  _log_warning(\"'early_stopping_rounds' argument is deprecated and will be removed in a future release of LightGBM. \"\n",
      "/home/bi18056/ml/venv/lib/python3.8/site-packages/lightgbm/engine.py:620: UserWarning: 'verbose_eval' argument is deprecated and will be removed in a future release of LightGBM. Pass 'log_evaluation()' callback via 'callbacks' argument instead.\n",
      "  _log_warning(\"'verbose_eval' argument is deprecated and will be removed in a future release of LightGBM. \"\n"
     ]
    },
    {
     "name": "stdout",
     "output_type": "stream",
     "text": [
      "[100]\tcv_agg's rmse: 3.8406 + 0.554623\n"
     ]
    },
    {
     "name": "stderr",
     "output_type": "stream",
     "text": [
      "bagging, val_score: 3.773539:  20%|##        | 2/10 [00:02<00:07,  1.01it/s]\u001b[32m[I 2021-12-30 21:55:42,082]\u001b[0m Trial 28 finished with value: 3.773538787013539 and parameters: {'bagging_fraction': 0.7260348407611517, 'bagging_freq': 5}. Best is trial 28 with value: 3.773538787013539.\u001b[0m\n",
      "bagging, val_score: 3.773539:  20%|##        | 2/10 [00:02<00:07,  1.01it/s]"
     ]
    },
    {
     "name": "stdout",
     "output_type": "stream",
     "text": [
      "[200]\tcv_agg's rmse: 3.79554 + 0.575313\n"
     ]
    },
    {
     "name": "stderr",
     "output_type": "stream",
     "text": [
      "/home/bi18056/ml/venv/lib/python3.8/site-packages/lightgbm/engine.py:577: UserWarning: 'early_stopping_rounds' argument is deprecated and will be removed in a future release of LightGBM. Pass 'early_stopping()' callback via 'callbacks' argument instead.\n",
      "  _log_warning(\"'early_stopping_rounds' argument is deprecated and will be removed in a future release of LightGBM. \"\n",
      "/home/bi18056/ml/venv/lib/python3.8/site-packages/lightgbm/engine.py:620: UserWarning: 'verbose_eval' argument is deprecated and will be removed in a future release of LightGBM. Pass 'log_evaluation()' callback via 'callbacks' argument instead.\n",
      "  _log_warning(\"'verbose_eval' argument is deprecated and will be removed in a future release of LightGBM. \"\n"
     ]
    },
    {
     "name": "stdout",
     "output_type": "stream",
     "text": [
      "[100]\tcv_agg's rmse: 3.86261 + 0.538622\n",
      "[200]\tcv_agg's rmse: 3.82085 + 0.565843\n"
     ]
    },
    {
     "name": "stderr",
     "output_type": "stream",
     "text": [
      "bagging, val_score: 3.773539:  30%|###       | 3/10 [00:05<00:13,  2.00s/it]\u001b[32m[I 2021-12-30 21:55:45,286]\u001b[0m Trial 29 finished with value: 3.788702291210447 and parameters: {'bagging_fraction': 0.7381334172441654, 'bagging_freq': 5}. Best is trial 28 with value: 3.773538787013539.\u001b[0m\n",
      "bagging, val_score: 3.773539:  30%|###       | 3/10 [00:05<00:13,  2.00s/it]/home/bi18056/ml/venv/lib/python3.8/site-packages/lightgbm/engine.py:577: UserWarning: 'early_stopping_rounds' argument is deprecated and will be removed in a future release of LightGBM. Pass 'early_stopping()' callback via 'callbacks' argument instead.\n",
      "  _log_warning(\"'early_stopping_rounds' argument is deprecated and will be removed in a future release of LightGBM. \"\n",
      "/home/bi18056/ml/venv/lib/python3.8/site-packages/lightgbm/engine.py:620: UserWarning: 'verbose_eval' argument is deprecated and will be removed in a future release of LightGBM. Pass 'log_evaluation()' callback via 'callbacks' argument instead.\n",
      "  _log_warning(\"'verbose_eval' argument is deprecated and will be removed in a future release of LightGBM. \"\n"
     ]
    },
    {
     "name": "stdout",
     "output_type": "stream",
     "text": [
      "[100]\tcv_agg's rmse: 3.89074 + 0.61627\n",
      "[200]\tcv_agg's rmse: 3.85967 + 0.595238\n"
     ]
    },
    {
     "name": "stderr",
     "output_type": "stream",
     "text": [
      "bagging, val_score: 3.773539:  40%|####      | 4/10 [00:06<00:09,  1.64s/it]\u001b[32m[I 2021-12-30 21:55:46,366]\u001b[0m Trial 30 finished with value: 3.8389671173053133 and parameters: {'bagging_fraction': 0.9582869752674317, 'bagging_freq': 5}. Best is trial 28 with value: 3.773538787013539.\u001b[0m\n",
      "bagging, val_score: 3.773539:  40%|####      | 4/10 [00:06<00:09,  1.64s/it]"
     ]
    },
    {
     "name": "stdout",
     "output_type": "stream",
     "text": [
      "[300]\tcv_agg's rmse: 3.86763 + 0.560458\n"
     ]
    },
    {
     "name": "stderr",
     "output_type": "stream",
     "text": [
      "/home/bi18056/ml/venv/lib/python3.8/site-packages/lightgbm/engine.py:577: UserWarning: 'early_stopping_rounds' argument is deprecated and will be removed in a future release of LightGBM. Pass 'early_stopping()' callback via 'callbacks' argument instead.\n",
      "  _log_warning(\"'early_stopping_rounds' argument is deprecated and will be removed in a future release of LightGBM. \"\n",
      "/home/bi18056/ml/venv/lib/python3.8/site-packages/lightgbm/engine.py:620: UserWarning: 'verbose_eval' argument is deprecated and will be removed in a future release of LightGBM. Pass 'log_evaluation()' callback via 'callbacks' argument instead.\n",
      "  _log_warning(\"'verbose_eval' argument is deprecated and will be removed in a future release of LightGBM. \"\n"
     ]
    },
    {
     "name": "stdout",
     "output_type": "stream",
     "text": [
      "[100]\tcv_agg's rmse: 4.17649 + 0.586557\n",
      "[200]\tcv_agg's rmse: 4.00268 + 0.635668\n"
     ]
    },
    {
     "name": "stderr",
     "output_type": "stream",
     "text": [
      "bagging, val_score: 3.773539:  50%|#####     | 5/10 [00:07<00:07,  1.57s/it]\u001b[32m[I 2021-12-30 21:55:47,822]\u001b[0m Trial 31 finished with value: 3.8770632643746965 and parameters: {'bagging_fraction': 0.5743656863330115, 'bagging_freq': 7}. Best is trial 28 with value: 3.773538787013539.\u001b[0m\n",
      "bagging, val_score: 3.773539:  50%|#####     | 5/10 [00:07<00:07,  1.57s/it]"
     ]
    },
    {
     "name": "stdout",
     "output_type": "stream",
     "text": [
      "[300]\tcv_agg's rmse: 3.91783 + 0.642758\n",
      "[400]\tcv_agg's rmse: 3.91507 + 0.613456\n"
     ]
    },
    {
     "name": "stderr",
     "output_type": "stream",
     "text": [
      "/home/bi18056/ml/venv/lib/python3.8/site-packages/lightgbm/engine.py:577: UserWarning: 'early_stopping_rounds' argument is deprecated and will be removed in a future release of LightGBM. Pass 'early_stopping()' callback via 'callbacks' argument instead.\n",
      "  _log_warning(\"'early_stopping_rounds' argument is deprecated and will be removed in a future release of LightGBM. \"\n",
      "/home/bi18056/ml/venv/lib/python3.8/site-packages/lightgbm/engine.py:620: UserWarning: 'verbose_eval' argument is deprecated and will be removed in a future release of LightGBM. Pass 'log_evaluation()' callback via 'callbacks' argument instead.\n",
      "  _log_warning(\"'verbose_eval' argument is deprecated and will be removed in a future release of LightGBM. \"\n"
     ]
    },
    {
     "name": "stdout",
     "output_type": "stream",
     "text": [
      "[100]\tcv_agg's rmse: 4.08331 + 0.555591\n",
      "[200]\tcv_agg's rmse: 3.93284 + 0.569815\n",
      "[300]\tcv_agg's rmse: 3.86011 + 0.576513\n"
     ]
    },
    {
     "name": "stderr",
     "output_type": "stream",
     "text": [
      "bagging, val_score: 3.773539:  60%|######    | 6/10 [00:10<00:08,  2.14s/it]\u001b[32m[I 2021-12-30 21:55:51,063]\u001b[0m Trial 32 finished with value: 3.835715985973566 and parameters: {'bagging_fraction': 0.5784145201069739, 'bagging_freq': 5}. Best is trial 28 with value: 3.773538787013539.\u001b[0m\n",
      "bagging, val_score: 3.773539:  60%|######    | 6/10 [00:10<00:08,  2.14s/it]/home/bi18056/ml/venv/lib/python3.8/site-packages/lightgbm/engine.py:577: UserWarning: 'early_stopping_rounds' argument is deprecated and will be removed in a future release of LightGBM. Pass 'early_stopping()' callback via 'callbacks' argument instead.\n",
      "  _log_warning(\"'early_stopping_rounds' argument is deprecated and will be removed in a future release of LightGBM. \"\n",
      "/home/bi18056/ml/venv/lib/python3.8/site-packages/lightgbm/engine.py:620: UserWarning: 'verbose_eval' argument is deprecated and will be removed in a future release of LightGBM. Pass 'log_evaluation()' callback via 'callbacks' argument instead.\n",
      "  _log_warning(\"'verbose_eval' argument is deprecated and will be removed in a future release of LightGBM. \"\n"
     ]
    },
    {
     "name": "stdout",
     "output_type": "stream",
     "text": [
      "[100]\tcv_agg's rmse: 3.91262 + 0.614562\n",
      "[200]\tcv_agg's rmse: 3.84976 + 0.619455\n",
      "[300]\tcv_agg's rmse: 3.83259 + 0.569547\n"
     ]
    },
    {
     "name": "stderr",
     "output_type": "stream",
     "text": [
      "bagging, val_score: 3.773539:  70%|#######   | 7/10 [00:12<00:05,  1.82s/it]\u001b[32m[I 2021-12-30 21:55:52,235]\u001b[0m Trial 33 finished with value: 3.82718706189321 and parameters: {'bagging_fraction': 0.891555816967092, 'bagging_freq': 4}. Best is trial 28 with value: 3.773538787013539.\u001b[0m\n",
      "bagging, val_score: 3.773539:  70%|#######   | 7/10 [00:12<00:05,  1.82s/it]/home/bi18056/ml/venv/lib/python3.8/site-packages/lightgbm/engine.py:577: UserWarning: 'early_stopping_rounds' argument is deprecated and will be removed in a future release of LightGBM. Pass 'early_stopping()' callback via 'callbacks' argument instead.\n",
      "  _log_warning(\"'early_stopping_rounds' argument is deprecated and will be removed in a future release of LightGBM. \"\n",
      "/home/bi18056/ml/venv/lib/python3.8/site-packages/lightgbm/engine.py:620: UserWarning: 'verbose_eval' argument is deprecated and will be removed in a future release of LightGBM. Pass 'log_evaluation()' callback via 'callbacks' argument instead.\n",
      "  _log_warning(\"'verbose_eval' argument is deprecated and will be removed in a future release of LightGBM. \"\n"
     ]
    },
    {
     "name": "stdout",
     "output_type": "stream",
     "text": [
      "[100]\tcv_agg's rmse: 4.33562 + 0.433677\n",
      "[200]\tcv_agg's rmse: 4.12378 + 0.532491\n"
     ]
    },
    {
     "name": "stderr",
     "output_type": "stream",
     "text": [
      "bagging, val_score: 3.773539:  80%|########  | 8/10 [00:13<00:03,  1.59s/it]\u001b[32m[I 2021-12-30 21:55:53,312]\u001b[0m Trial 34 finished with value: 3.9914279143109574 and parameters: {'bagging_fraction': 0.44308558397621217, 'bagging_freq': 5}. Best is trial 28 with value: 3.773538787013539.\u001b[0m\n",
      "bagging, val_score: 3.773539:  80%|########  | 8/10 [00:13<00:03,  1.59s/it]"
     ]
    },
    {
     "name": "stdout",
     "output_type": "stream",
     "text": [
      "[300]\tcv_agg's rmse: 4.01824 + 0.584076\n"
     ]
    },
    {
     "name": "stderr",
     "output_type": "stream",
     "text": [
      "/home/bi18056/ml/venv/lib/python3.8/site-packages/lightgbm/engine.py:577: UserWarning: 'early_stopping_rounds' argument is deprecated and will be removed in a future release of LightGBM. Pass 'early_stopping()' callback via 'callbacks' argument instead.\n",
      "  _log_warning(\"'early_stopping_rounds' argument is deprecated and will be removed in a future release of LightGBM. \"\n",
      "/home/bi18056/ml/venv/lib/python3.8/site-packages/lightgbm/engine.py:620: UserWarning: 'verbose_eval' argument is deprecated and will be removed in a future release of LightGBM. Pass 'log_evaluation()' callback via 'callbacks' argument instead.\n",
      "  _log_warning(\"'verbose_eval' argument is deprecated and will be removed in a future release of LightGBM. \"\n"
     ]
    },
    {
     "name": "stdout",
     "output_type": "stream",
     "text": [
      "[100]\tcv_agg's rmse: 4.11259 + 0.557603\n",
      "[200]\tcv_agg's rmse: 3.93275 + 0.613511\n",
      "[300]\tcv_agg's rmse: 3.92312 + 0.549104\n"
     ]
    },
    {
     "name": "stderr",
     "output_type": "stream",
     "text": [
      "bagging, val_score: 3.773539:  90%|######### | 9/10 [00:14<00:01,  1.48s/it]\u001b[32m[I 2021-12-30 21:55:54,568]\u001b[0m Trial 35 finished with value: 3.856923550845599 and parameters: {'bagging_fraction': 0.5843136701772395, 'bagging_freq': 4}. Best is trial 28 with value: 3.773538787013539.\u001b[0m\n",
      "bagging, val_score: 3.773539:  90%|######### | 9/10 [00:14<00:01,  1.48s/it]"
     ]
    },
    {
     "name": "stdout",
     "output_type": "stream",
     "text": [
      "[400]\tcv_agg's rmse: 3.89455 + 0.550216\n"
     ]
    },
    {
     "name": "stderr",
     "output_type": "stream",
     "text": [
      "/home/bi18056/ml/venv/lib/python3.8/site-packages/lightgbm/engine.py:577: UserWarning: 'early_stopping_rounds' argument is deprecated and will be removed in a future release of LightGBM. Pass 'early_stopping()' callback via 'callbacks' argument instead.\n",
      "  _log_warning(\"'early_stopping_rounds' argument is deprecated and will be removed in a future release of LightGBM. \"\n",
      "/home/bi18056/ml/venv/lib/python3.8/site-packages/lightgbm/engine.py:620: UserWarning: 'verbose_eval' argument is deprecated and will be removed in a future release of LightGBM. Pass 'log_evaluation()' callback via 'callbacks' argument instead.\n",
      "  _log_warning(\"'verbose_eval' argument is deprecated and will be removed in a future release of LightGBM. \"\n"
     ]
    },
    {
     "name": "stdout",
     "output_type": "stream",
     "text": [
      "[100]\tcv_agg's rmse: 3.99059 + 0.573779\n",
      "[200]\tcv_agg's rmse: 3.87143 + 0.6021\n",
      "[300]\tcv_agg's rmse: 3.8319 + 0.590891\n",
      "[400]\tcv_agg's rmse: 3.81423 + 0.56274\n"
     ]
    },
    {
     "name": "stderr",
     "output_type": "stream",
     "text": [
      "bagging, val_score: 3.773539: 100%|##########| 10/10 [00:15<00:00,  1.44s/it]\u001b[32m[I 2021-12-30 21:55:55,917]\u001b[0m Trial 36 finished with value: 3.799165575879681 and parameters: {'bagging_fraction': 0.6148748297370408, 'bagging_freq': 3}. Best is trial 28 with value: 3.773538787013539.\u001b[0m\n",
      "bagging, val_score: 3.773539: 100%|##########| 10/10 [00:15<00:00,  1.58s/it]\n",
      "feature_fraction_stage2, val_score: 3.773539:   0%|          | 0/3 [00:00<?, ?it/s]/home/bi18056/ml/venv/lib/python3.8/site-packages/lightgbm/engine.py:577: UserWarning: 'early_stopping_rounds' argument is deprecated and will be removed in a future release of LightGBM. Pass 'early_stopping()' callback via 'callbacks' argument instead.\n",
      "  _log_warning(\"'early_stopping_rounds' argument is deprecated and will be removed in a future release of LightGBM. \"\n",
      "/home/bi18056/ml/venv/lib/python3.8/site-packages/lightgbm/engine.py:620: UserWarning: 'verbose_eval' argument is deprecated and will be removed in a future release of LightGBM. Pass 'log_evaluation()' callback via 'callbacks' argument instead.\n",
      "  _log_warning(\"'verbose_eval' argument is deprecated and will be removed in a future release of LightGBM. \"\n"
     ]
    },
    {
     "name": "stdout",
     "output_type": "stream",
     "text": [
      "[100]\tcv_agg's rmse: 3.8406 + 0.554623\n"
     ]
    },
    {
     "name": "stderr",
     "output_type": "stream",
     "text": [
      "feature_fraction_stage2, val_score: 3.773539:  33%|###3      | 1/3 [00:00<00:01,  1.14it/s]\u001b[32m[I 2021-12-30 21:55:56,806]\u001b[0m Trial 37 finished with value: 3.773538787013539 and parameters: {'feature_fraction': 0.41600000000000004}. Best is trial 37 with value: 3.773538787013539.\u001b[0m\n",
      "feature_fraction_stage2, val_score: 3.773539:  33%|###3      | 1/3 [00:00<00:01,  1.14it/s]"
     ]
    },
    {
     "name": "stdout",
     "output_type": "stream",
     "text": [
      "[200]\tcv_agg's rmse: 3.79554 + 0.575313\n"
     ]
    },
    {
     "name": "stderr",
     "output_type": "stream",
     "text": [
      "/home/bi18056/ml/venv/lib/python3.8/site-packages/lightgbm/engine.py:577: UserWarning: 'early_stopping_rounds' argument is deprecated and will be removed in a future release of LightGBM. Pass 'early_stopping()' callback via 'callbacks' argument instead.\n",
      "  _log_warning(\"'early_stopping_rounds' argument is deprecated and will be removed in a future release of LightGBM. \"\n",
      "/home/bi18056/ml/venv/lib/python3.8/site-packages/lightgbm/engine.py:620: UserWarning: 'verbose_eval' argument is deprecated and will be removed in a future release of LightGBM. Pass 'log_evaluation()' callback via 'callbacks' argument instead.\n",
      "  _log_warning(\"'verbose_eval' argument is deprecated and will be removed in a future release of LightGBM. \"\n"
     ]
    },
    {
     "name": "stdout",
     "output_type": "stream",
     "text": [
      "[100]\tcv_agg's rmse: 3.8406 + 0.554623\n",
      "[200]\tcv_agg's rmse: 3.79554 + 0.575313\n"
     ]
    },
    {
     "name": "stderr",
     "output_type": "stream",
     "text": [
      "feature_fraction_stage2, val_score: 3.773539:  67%|######6   | 2/3 [00:02<00:01,  1.13s/it]\u001b[32m[I 2021-12-30 21:55:58,114]\u001b[0m Trial 38 finished with value: 3.773538787013539 and parameters: {'feature_fraction': 0.44800000000000006}. Best is trial 37 with value: 3.773538787013539.\u001b[0m\n",
      "feature_fraction_stage2, val_score: 3.773539:  67%|######6   | 2/3 [00:02<00:01,  1.13s/it]/home/bi18056/ml/venv/lib/python3.8/site-packages/lightgbm/engine.py:577: UserWarning: 'early_stopping_rounds' argument is deprecated and will be removed in a future release of LightGBM. Pass 'early_stopping()' callback via 'callbacks' argument instead.\n",
      "  _log_warning(\"'early_stopping_rounds' argument is deprecated and will be removed in a future release of LightGBM. \"\n",
      "/home/bi18056/ml/venv/lib/python3.8/site-packages/lightgbm/engine.py:620: UserWarning: 'verbose_eval' argument is deprecated and will be removed in a future release of LightGBM. Pass 'log_evaluation()' callback via 'callbacks' argument instead.\n",
      "  _log_warning(\"'verbose_eval' argument is deprecated and will be removed in a future release of LightGBM. \"\n"
     ]
    },
    {
     "name": "stdout",
     "output_type": "stream",
     "text": [
      "[100]\tcv_agg's rmse: 3.8406 + 0.554623\n",
      "[200]\tcv_agg's rmse: 3.79554 + 0.575313\n"
     ]
    },
    {
     "name": "stderr",
     "output_type": "stream",
     "text": [
      "feature_fraction_stage2, val_score: 3.773539: 100%|##########| 3/3 [00:03<00:00,  1.01s/it]\u001b[32m[I 2021-12-30 21:55:58,990]\u001b[0m Trial 39 finished with value: 3.773538787013539 and parameters: {'feature_fraction': 0.48000000000000004}. Best is trial 37 with value: 3.773538787013539.\u001b[0m\n",
      "feature_fraction_stage2, val_score: 3.773539: 100%|##########| 3/3 [00:03<00:00,  1.02s/it]\n",
      "regularization_factors, val_score: 3.773539:   0%|          | 0/20 [00:00<?, ?it/s]/home/bi18056/ml/venv/lib/python3.8/site-packages/lightgbm/engine.py:577: UserWarning: 'early_stopping_rounds' argument is deprecated and will be removed in a future release of LightGBM. Pass 'early_stopping()' callback via 'callbacks' argument instead.\n",
      "  _log_warning(\"'early_stopping_rounds' argument is deprecated and will be removed in a future release of LightGBM. \"\n",
      "/home/bi18056/ml/venv/lib/python3.8/site-packages/lightgbm/engine.py:620: UserWarning: 'verbose_eval' argument is deprecated and will be removed in a future release of LightGBM. Pass 'log_evaluation()' callback via 'callbacks' argument instead.\n",
      "  _log_warning(\"'verbose_eval' argument is deprecated and will be removed in a future release of LightGBM. \"\n"
     ]
    },
    {
     "name": "stdout",
     "output_type": "stream",
     "text": [
      "[100]\tcv_agg's rmse: 3.84061 + 0.554609\n"
     ]
    },
    {
     "name": "stderr",
     "output_type": "stream",
     "text": [
      "regularization_factors, val_score: 3.773539:   5%|5         | 1/20 [00:00<00:14,  1.28it/s]\u001b[32m[I 2021-12-30 21:55:59,786]\u001b[0m Trial 40 finished with value: 3.7745996454663038 and parameters: {'lambda_l1': 0.0014542619305818996, 'lambda_l2': 2.00898380739263e-07}. Best is trial 40 with value: 3.7745996454663038.\u001b[0m\n",
      "regularization_factors, val_score: 3.773539:   5%|5         | 1/20 [00:00<00:14,  1.28it/s]"
     ]
    },
    {
     "name": "stdout",
     "output_type": "stream",
     "text": [
      "[200]\tcv_agg's rmse: 3.79655 + 0.576607\n"
     ]
    },
    {
     "name": "stderr",
     "output_type": "stream",
     "text": [
      "/home/bi18056/ml/venv/lib/python3.8/site-packages/lightgbm/engine.py:577: UserWarning: 'early_stopping_rounds' argument is deprecated and will be removed in a future release of LightGBM. Pass 'early_stopping()' callback via 'callbacks' argument instead.\n",
      "  _log_warning(\"'early_stopping_rounds' argument is deprecated and will be removed in a future release of LightGBM. \"\n",
      "/home/bi18056/ml/venv/lib/python3.8/site-packages/lightgbm/engine.py:620: UserWarning: 'verbose_eval' argument is deprecated and will be removed in a future release of LightGBM. Pass 'log_evaluation()' callback via 'callbacks' argument instead.\n",
      "  _log_warning(\"'verbose_eval' argument is deprecated and will be removed in a future release of LightGBM. \"\n"
     ]
    },
    {
     "name": "stdout",
     "output_type": "stream",
     "text": [
      "[100]\tcv_agg's rmse: 3.84063 + 0.554598\n",
      "[200]\tcv_agg's rmse: 3.79654 + 0.576603\n"
     ]
    },
    {
     "name": "stderr",
     "output_type": "stream",
     "text": [
      "regularization_factors, val_score: 3.773539:  10%|#         | 2/20 [00:01<00:16,  1.08it/s]\u001b[32m[I 2021-12-30 21:56:00,815]\u001b[0m Trial 41 finished with value: 3.7746068044444896 and parameters: {'lambda_l1': 0.004230147128232097, 'lambda_l2': 2.6106524854258748e-06}. Best is trial 40 with value: 3.7745996454663038.\u001b[0m\n",
      "regularization_factors, val_score: 3.773539:  10%|#         | 2/20 [00:01<00:16,  1.08it/s]/home/bi18056/ml/venv/lib/python3.8/site-packages/lightgbm/engine.py:577: UserWarning: 'early_stopping_rounds' argument is deprecated and will be removed in a future release of LightGBM. Pass 'early_stopping()' callback via 'callbacks' argument instead.\n",
      "  _log_warning(\"'early_stopping_rounds' argument is deprecated and will be removed in a future release of LightGBM. \"\n",
      "/home/bi18056/ml/venv/lib/python3.8/site-packages/lightgbm/engine.py:620: UserWarning: 'verbose_eval' argument is deprecated and will be removed in a future release of LightGBM. Pass 'log_evaluation()' callback via 'callbacks' argument instead.\n",
      "  _log_warning(\"'verbose_eval' argument is deprecated and will be removed in a future release of LightGBM. \"\n"
     ]
    },
    {
     "name": "stdout",
     "output_type": "stream",
     "text": [
      "[100]\tcv_agg's rmse: 3.83005 + 0.555028\n"
     ]
    },
    {
     "name": "stderr",
     "output_type": "stream",
     "text": [
      "regularization_factors, val_score: 3.773168:  15%|#5        | 3/20 [00:05<00:35,  2.10s/it]\u001b[32m[I 2021-12-30 21:56:04,304]\u001b[0m Trial 42 finished with value: 3.7731680433988997 and parameters: {'lambda_l1': 7.169140126536836e-05, 'lambda_l2': 0.016553814565382553}. Best is trial 42 with value: 3.7731680433988997.\u001b[0m\n",
      "regularization_factors, val_score: 3.773168:  15%|#5        | 3/20 [00:05<00:35,  2.10s/it]"
     ]
    },
    {
     "name": "stdout",
     "output_type": "stream",
     "text": [
      "[200]\tcv_agg's rmse: 3.79059 + 0.583713\n"
     ]
    },
    {
     "name": "stderr",
     "output_type": "stream",
     "text": [
      "/home/bi18056/ml/venv/lib/python3.8/site-packages/lightgbm/engine.py:577: UserWarning: 'early_stopping_rounds' argument is deprecated and will be removed in a future release of LightGBM. Pass 'early_stopping()' callback via 'callbacks' argument instead.\n",
      "  _log_warning(\"'early_stopping_rounds' argument is deprecated and will be removed in a future release of LightGBM. \"\n",
      "/home/bi18056/ml/venv/lib/python3.8/site-packages/lightgbm/engine.py:620: UserWarning: 'verbose_eval' argument is deprecated and will be removed in a future release of LightGBM. Pass 'log_evaluation()' callback via 'callbacks' argument instead.\n",
      "  _log_warning(\"'verbose_eval' argument is deprecated and will be removed in a future release of LightGBM. \"\n"
     ]
    },
    {
     "name": "stdout",
     "output_type": "stream",
     "text": [
      "[100]\tcv_agg's rmse: 3.8406 + 0.554623\n",
      "[200]\tcv_agg's rmse: 3.79554 + 0.575313\n"
     ]
    },
    {
     "name": "stderr",
     "output_type": "stream",
     "text": [
      "regularization_factors, val_score: 3.773168:  20%|##        | 4/20 [00:06<00:26,  1.65s/it]\u001b[32m[I 2021-12-30 21:56:05,274]\u001b[0m Trial 43 finished with value: 3.773538943116845 and parameters: {'lambda_l1': 6.303111061006723e-05, 'lambda_l2': 4.436361289555192e-07}. Best is trial 42 with value: 3.7731680433988997.\u001b[0m\n",
      "regularization_factors, val_score: 3.773168:  20%|##        | 4/20 [00:06<00:26,  1.65s/it]/home/bi18056/ml/venv/lib/python3.8/site-packages/lightgbm/engine.py:577: UserWarning: 'early_stopping_rounds' argument is deprecated and will be removed in a future release of LightGBM. Pass 'early_stopping()' callback via 'callbacks' argument instead.\n",
      "  _log_warning(\"'early_stopping_rounds' argument is deprecated and will be removed in a future release of LightGBM. \"\n",
      "/home/bi18056/ml/venv/lib/python3.8/site-packages/lightgbm/engine.py:620: UserWarning: 'verbose_eval' argument is deprecated and will be removed in a future release of LightGBM. Pass 'log_evaluation()' callback via 'callbacks' argument instead.\n",
      "  _log_warning(\"'verbose_eval' argument is deprecated and will be removed in a future release of LightGBM. \"\n"
     ]
    },
    {
     "name": "stdout",
     "output_type": "stream",
     "text": [
      "[100]\tcv_agg's rmse: 3.93949 + 0.538601\n",
      "[200]\tcv_agg's rmse: 3.82864 + 0.579964\n"
     ]
    },
    {
     "name": "stderr",
     "output_type": "stream",
     "text": [
      "regularization_factors, val_score: 3.773168:  25%|##5       | 5/20 [00:07<00:21,  1.41s/it]\u001b[32m[I 2021-12-30 21:56:06,268]\u001b[0m Trial 44 finished with value: 3.802834852828885 and parameters: {'lambda_l1': 0.0067319326983694095, 'lambda_l2': 6.386423640388836}. Best is trial 42 with value: 3.7731680433988997.\u001b[0m\n",
      "regularization_factors, val_score: 3.773168:  25%|##5       | 5/20 [00:07<00:21,  1.41s/it]"
     ]
    },
    {
     "name": "stdout",
     "output_type": "stream",
     "text": [
      "[300]\tcv_agg's rmse: 3.81123 + 0.585559\n"
     ]
    },
    {
     "name": "stderr",
     "output_type": "stream",
     "text": [
      "/home/bi18056/ml/venv/lib/python3.8/site-packages/lightgbm/engine.py:577: UserWarning: 'early_stopping_rounds' argument is deprecated and will be removed in a future release of LightGBM. Pass 'early_stopping()' callback via 'callbacks' argument instead.\n",
      "  _log_warning(\"'early_stopping_rounds' argument is deprecated and will be removed in a future release of LightGBM. \"\n",
      "/home/bi18056/ml/venv/lib/python3.8/site-packages/lightgbm/engine.py:620: UserWarning: 'verbose_eval' argument is deprecated and will be removed in a future release of LightGBM. Pass 'log_evaluation()' callback via 'callbacks' argument instead.\n",
      "  _log_warning(\"'verbose_eval' argument is deprecated and will be removed in a future release of LightGBM. \"\n"
     ]
    },
    {
     "name": "stdout",
     "output_type": "stream",
     "text": [
      "[100]\tcv_agg's rmse: 3.82998 + 0.555109\n"
     ]
    },
    {
     "name": "stderr",
     "output_type": "stream",
     "text": [
      "regularization_factors, val_score: 3.773168:  30%|###       | 6/20 [00:08<00:17,  1.26s/it]\u001b[32m[I 2021-12-30 21:56:07,230]\u001b[0m Trial 45 finished with value: 3.7768938788866535 and parameters: {'lambda_l1': 6.551076416492275e-05, 'lambda_l2': 0.018627419427505672}. Best is trial 42 with value: 3.7731680433988997.\u001b[0m\n",
      "regularization_factors, val_score: 3.773168:  30%|###       | 6/20 [00:08<00:17,  1.26s/it]"
     ]
    },
    {
     "name": "stdout",
     "output_type": "stream",
     "text": [
      "[200]\tcv_agg's rmse: 3.79124 + 0.583161\n"
     ]
    },
    {
     "name": "stderr",
     "output_type": "stream",
     "text": [
      "/home/bi18056/ml/venv/lib/python3.8/site-packages/lightgbm/engine.py:577: UserWarning: 'early_stopping_rounds' argument is deprecated and will be removed in a future release of LightGBM. Pass 'early_stopping()' callback via 'callbacks' argument instead.\n",
      "  _log_warning(\"'early_stopping_rounds' argument is deprecated and will be removed in a future release of LightGBM. \"\n",
      "/home/bi18056/ml/venv/lib/python3.8/site-packages/lightgbm/engine.py:620: UserWarning: 'verbose_eval' argument is deprecated and will be removed in a future release of LightGBM. Pass 'log_evaluation()' callback via 'callbacks' argument instead.\n",
      "  _log_warning(\"'verbose_eval' argument is deprecated and will be removed in a future release of LightGBM. \"\n"
     ]
    },
    {
     "name": "stdout",
     "output_type": "stream",
     "text": [
      "[100]\tcv_agg's rmse: 3.83897 + 0.5468\n",
      "[200]\tcv_agg's rmse: 3.78393 + 0.584749\n"
     ]
    },
    {
     "name": "stderr",
     "output_type": "stream",
     "text": [
      "regularization_factors, val_score: 3.762518:  35%|###5      | 7/20 [00:09<00:14,  1.11s/it]\u001b[32m[I 2021-12-30 21:56:08,024]\u001b[0m Trial 46 finished with value: 3.7625177926601325 and parameters: {'lambda_l1': 0.00010723161749754091, 'lambda_l2': 0.11607744427424994}. Best is trial 46 with value: 3.7625177926601325.\u001b[0m\n",
      "regularization_factors, val_score: 3.762518:  35%|###5      | 7/20 [00:09<00:14,  1.11s/it]/home/bi18056/ml/venv/lib/python3.8/site-packages/lightgbm/engine.py:577: UserWarning: 'early_stopping_rounds' argument is deprecated and will be removed in a future release of LightGBM. Pass 'early_stopping()' callback via 'callbacks' argument instead.\n",
      "  _log_warning(\"'early_stopping_rounds' argument is deprecated and will be removed in a future release of LightGBM. \"\n",
      "/home/bi18056/ml/venv/lib/python3.8/site-packages/lightgbm/engine.py:620: UserWarning: 'verbose_eval' argument is deprecated and will be removed in a future release of LightGBM. Pass 'log_evaluation()' callback via 'callbacks' argument instead.\n",
      "  _log_warning(\"'verbose_eval' argument is deprecated and will be removed in a future release of LightGBM. \"\n"
     ]
    },
    {
     "name": "stdout",
     "output_type": "stream",
     "text": [
      "[100]\tcv_agg's rmse: 3.83526 + 0.549704\n",
      "[200]\tcv_agg's rmse: 3.79281 + 0.586694\n"
     ]
    },
    {
     "name": "stderr",
     "output_type": "stream",
     "text": [
      "regularization_factors, val_score: 3.762518:  40%|####      | 8/20 [00:09<00:12,  1.03s/it]\u001b[32m[I 2021-12-30 21:56:08,878]\u001b[0m Trial 47 finished with value: 3.7727844256338114 and parameters: {'lambda_l1': 0.03633160144300175, 'lambda_l2': 0.0004445927461802615}. Best is trial 46 with value: 3.7625177926601325.\u001b[0m\n",
      "regularization_factors, val_score: 3.762518:  40%|####      | 8/20 [00:09<00:12,  1.03s/it]/home/bi18056/ml/venv/lib/python3.8/site-packages/lightgbm/engine.py:577: UserWarning: 'early_stopping_rounds' argument is deprecated and will be removed in a future release of LightGBM. Pass 'early_stopping()' callback via 'callbacks' argument instead.\n",
      "  _log_warning(\"'early_stopping_rounds' argument is deprecated and will be removed in a future release of LightGBM. \"\n",
      "/home/bi18056/ml/venv/lib/python3.8/site-packages/lightgbm/engine.py:620: UserWarning: 'verbose_eval' argument is deprecated and will be removed in a future release of LightGBM. Pass 'log_evaluation()' callback via 'callbacks' argument instead.\n",
      "  _log_warning(\"'verbose_eval' argument is deprecated and will be removed in a future release of LightGBM. \"\n"
     ]
    },
    {
     "name": "stdout",
     "output_type": "stream",
     "text": [
      "[100]\tcv_agg's rmse: 3.8406 + 0.554614\n"
     ]
    },
    {
     "name": "stderr",
     "output_type": "stream",
     "text": [
      "regularization_factors, val_score: 3.762518:  45%|####5     | 9/20 [00:10<00:10,  1.02it/s]\u001b[32m[I 2021-12-30 21:56:09,743]\u001b[0m Trial 48 finished with value: 3.7735416642775084 and parameters: {'lambda_l1': 0.000541902165398374, 'lambda_l2': 1.3074983450614036e-05}. Best is trial 46 with value: 3.7625177926601325.\u001b[0m\n",
      "regularization_factors, val_score: 3.762518:  45%|####5     | 9/20 [00:10<00:10,  1.02it/s]"
     ]
    },
    {
     "name": "stdout",
     "output_type": "stream",
     "text": [
      "[200]\tcv_agg's rmse: 3.79554 + 0.575307\n"
     ]
    },
    {
     "name": "stderr",
     "output_type": "stream",
     "text": [
      "/home/bi18056/ml/venv/lib/python3.8/site-packages/lightgbm/engine.py:577: UserWarning: 'early_stopping_rounds' argument is deprecated and will be removed in a future release of LightGBM. Pass 'early_stopping()' callback via 'callbacks' argument instead.\n",
      "  _log_warning(\"'early_stopping_rounds' argument is deprecated and will be removed in a future release of LightGBM. \"\n",
      "/home/bi18056/ml/venv/lib/python3.8/site-packages/lightgbm/engine.py:620: UserWarning: 'verbose_eval' argument is deprecated and will be removed in a future release of LightGBM. Pass 'log_evaluation()' callback via 'callbacks' argument instead.\n",
      "  _log_warning(\"'verbose_eval' argument is deprecated and will be removed in a future release of LightGBM. \"\n"
     ]
    },
    {
     "name": "stdout",
     "output_type": "stream",
     "text": [
      "[100]\tcv_agg's rmse: 3.84063 + 0.554607\n",
      "[200]\tcv_agg's rmse: 3.79554 + 0.575307\n"
     ]
    },
    {
     "name": "stderr",
     "output_type": "stream",
     "text": [
      "regularization_factors, val_score: 3.762518:  50%|#####     | 10/20 [00:11<00:09,  1.08it/s]\u001b[32m[I 2021-12-30 21:56:10,568]\u001b[0m Trial 49 finished with value: 3.773547030378384 and parameters: {'lambda_l1': 0.00032006813005368815, 'lambda_l2': 0.0027191311367232187}. Best is trial 46 with value: 3.7625177926601325.\u001b[0m\n",
      "regularization_factors, val_score: 3.762518:  50%|#####     | 10/20 [00:11<00:09,  1.08it/s]/home/bi18056/ml/venv/lib/python3.8/site-packages/lightgbm/engine.py:577: UserWarning: 'early_stopping_rounds' argument is deprecated and will be removed in a future release of LightGBM. Pass 'early_stopping()' callback via 'callbacks' argument instead.\n",
      "  _log_warning(\"'early_stopping_rounds' argument is deprecated and will be removed in a future release of LightGBM. \"\n",
      "/home/bi18056/ml/venv/lib/python3.8/site-packages/lightgbm/engine.py:620: UserWarning: 'verbose_eval' argument is deprecated and will be removed in a future release of LightGBM. Pass 'log_evaluation()' callback via 'callbacks' argument instead.\n",
      "  _log_warning(\"'verbose_eval' argument is deprecated and will be removed in a future release of LightGBM. \"\n"
     ]
    },
    {
     "name": "stdout",
     "output_type": "stream",
     "text": [
      "[100]\tcv_agg's rmse: 3.84999 + 0.536403\n",
      "[200]\tcv_agg's rmse: 3.79753 + 0.551616\n"
     ]
    },
    {
     "name": "stderr",
     "output_type": "stream",
     "text": [
      "regularization_factors, val_score: 3.762518:  55%|#####5    | 11/20 [00:12<00:08,  1.06it/s]\u001b[32m[I 2021-12-30 21:56:11,549]\u001b[0m Trial 50 finished with value: 3.782155974001023 and parameters: {'lambda_l1': 6.940896089188272e-08, 'lambda_l2': 0.4710891680293815}. Best is trial 46 with value: 3.7625177926601325.\u001b[0m\n",
      "regularization_factors, val_score: 3.762518:  55%|#####5    | 11/20 [00:12<00:08,  1.06it/s]"
     ]
    },
    {
     "name": "stdout",
     "output_type": "stream",
     "text": [
      "[300]\tcv_agg's rmse: 3.80341 + 0.56144\n"
     ]
    },
    {
     "name": "stderr",
     "output_type": "stream",
     "text": [
      "/home/bi18056/ml/venv/lib/python3.8/site-packages/lightgbm/engine.py:577: UserWarning: 'early_stopping_rounds' argument is deprecated and will be removed in a future release of LightGBM. Pass 'early_stopping()' callback via 'callbacks' argument instead.\n",
      "  _log_warning(\"'early_stopping_rounds' argument is deprecated and will be removed in a future release of LightGBM. \"\n",
      "/home/bi18056/ml/venv/lib/python3.8/site-packages/lightgbm/engine.py:620: UserWarning: 'verbose_eval' argument is deprecated and will be removed in a future release of LightGBM. Pass 'log_evaluation()' callback via 'callbacks' argument instead.\n",
      "  _log_warning(\"'verbose_eval' argument is deprecated and will be removed in a future release of LightGBM. \"\n"
     ]
    },
    {
     "name": "stdout",
     "output_type": "stream",
     "text": [
      "[100]\tcv_agg's rmse: 3.85937 + 0.51366\n",
      "[200]\tcv_agg's rmse: 3.80297 + 0.559591\n"
     ]
    },
    {
     "name": "stderr",
     "output_type": "stream",
     "text": [
      "regularization_factors, val_score: 3.762518:  60%|######    | 12/20 [00:13<00:07,  1.12it/s]\u001b[32m[I 2021-12-30 21:56:12,320]\u001b[0m Trial 51 finished with value: 3.781433388463486 and parameters: {'lambda_l1': 3.4479740157046264, 'lambda_l2': 0.0001167451839241661}. Best is trial 46 with value: 3.7625177926601325.\u001b[0m\n",
      "regularization_factors, val_score: 3.762518:  60%|######    | 12/20 [00:13<00:07,  1.12it/s]/home/bi18056/ml/venv/lib/python3.8/site-packages/lightgbm/engine.py:577: UserWarning: 'early_stopping_rounds' argument is deprecated and will be removed in a future release of LightGBM. Pass 'early_stopping()' callback via 'callbacks' argument instead.\n",
      "  _log_warning(\"'early_stopping_rounds' argument is deprecated and will be removed in a future release of LightGBM. \"\n",
      "/home/bi18056/ml/venv/lib/python3.8/site-packages/lightgbm/engine.py:620: UserWarning: 'verbose_eval' argument is deprecated and will be removed in a future release of LightGBM. Pass 'log_evaluation()' callback via 'callbacks' argument instead.\n",
      "  _log_warning(\"'verbose_eval' argument is deprecated and will be removed in a future release of LightGBM. \"\n"
     ]
    },
    {
     "name": "stdout",
     "output_type": "stream",
     "text": [
      "[100]\tcv_agg's rmse: 3.82084 + 0.536733\n",
      "[200]\tcv_agg's rmse: 3.77835 + 0.565428\n"
     ]
    },
    {
     "name": "stderr",
     "output_type": "stream",
     "text": [
      "regularization_factors, val_score: 3.758110:  65%|######5   | 13/20 [00:14<00:05,  1.18it/s]\u001b[32m[I 2021-12-30 21:56:13,060]\u001b[0m Trial 52 finished with value: 3.758109733189707 and parameters: {'lambda_l1': 0.821964022476991, 'lambda_l2': 0.0004011295898825152}. Best is trial 52 with value: 3.758109733189707.\u001b[0m\n",
      "regularization_factors, val_score: 3.758110:  65%|######5   | 13/20 [00:14<00:05,  1.18it/s]/home/bi18056/ml/venv/lib/python3.8/site-packages/lightgbm/engine.py:577: UserWarning: 'early_stopping_rounds' argument is deprecated and will be removed in a future release of LightGBM. Pass 'early_stopping()' callback via 'callbacks' argument instead.\n",
      "  _log_warning(\"'early_stopping_rounds' argument is deprecated and will be removed in a future release of LightGBM. \"\n",
      "/home/bi18056/ml/venv/lib/python3.8/site-packages/lightgbm/engine.py:620: UserWarning: 'verbose_eval' argument is deprecated and will be removed in a future release of LightGBM. Pass 'log_evaluation()' callback via 'callbacks' argument instead.\n",
      "  _log_warning(\"'verbose_eval' argument is deprecated and will be removed in a future release of LightGBM. \"\n"
     ]
    },
    {
     "name": "stdout",
     "output_type": "stream",
     "text": [
      "[100]\tcv_agg's rmse: 3.8406 + 0.554623\n",
      "[200]\tcv_agg's rmse: 3.79554 + 0.575313\n"
     ]
    },
    {
     "name": "stderr",
     "output_type": "stream",
     "text": [
      "regularization_factors, val_score: 3.758110:  70%|#######   | 14/20 [00:15<00:06,  1.05s/it]\u001b[32m[I 2021-12-30 21:56:14,573]\u001b[0m Trial 53 finished with value: 3.773538788910431 and parameters: {'lambda_l1': 6.966595612803856e-07, 'lambda_l2': 1.3661256816549483e-08}. Best is trial 52 with value: 3.758109733189707.\u001b[0m\n",
      "regularization_factors, val_score: 3.758110:  70%|#######   | 14/20 [00:15<00:06,  1.05s/it]/home/bi18056/ml/venv/lib/python3.8/site-packages/lightgbm/engine.py:577: UserWarning: 'early_stopping_rounds' argument is deprecated and will be removed in a future release of LightGBM. Pass 'early_stopping()' callback via 'callbacks' argument instead.\n",
      "  _log_warning(\"'early_stopping_rounds' argument is deprecated and will be removed in a future release of LightGBM. \"\n",
      "/home/bi18056/ml/venv/lib/python3.8/site-packages/lightgbm/engine.py:620: UserWarning: 'verbose_eval' argument is deprecated and will be removed in a future release of LightGBM. Pass 'log_evaluation()' callback via 'callbacks' argument instead.\n",
      "  _log_warning(\"'verbose_eval' argument is deprecated and will be removed in a future release of LightGBM. \"\n"
     ]
    },
    {
     "name": "stdout",
     "output_type": "stream",
     "text": [
      "[100]\tcv_agg's rmse: 3.94216 + 0.496197\n",
      "[200]\tcv_agg's rmse: 3.83865 + 0.542046\n",
      "[300]\tcv_agg's rmse: 3.80074 + 0.563662\n",
      "[400]\tcv_agg's rmse: 3.77876 + 0.578356\n",
      "[500]\tcv_agg's rmse: 3.77522 + 0.575417\n",
      "[600]\tcv_agg's rmse: 3.7722 + 0.575047\n"
     ]
    },
    {
     "name": "stderr",
     "output_type": "stream",
     "text": [
      "regularization_factors, val_score: 3.758110:  75%|#######5  | 15/20 [00:21<00:13,  2.63s/it]\u001b[32m[I 2021-12-30 21:56:20,856]\u001b[0m Trial 54 finished with value: 3.763662423970561 and parameters: {'lambda_l1': 8.690978795876562, 'lambda_l2': 0.15980879806344106}. Best is trial 52 with value: 3.758109733189707.\u001b[0m\n",
      "regularization_factors, val_score: 3.758110:  75%|#######5  | 15/20 [00:21<00:13,  2.63s/it]/home/bi18056/ml/venv/lib/python3.8/site-packages/lightgbm/engine.py:577: UserWarning: 'early_stopping_rounds' argument is deprecated and will be removed in a future release of LightGBM. Pass 'early_stopping()' callback via 'callbacks' argument instead.\n",
      "  _log_warning(\"'early_stopping_rounds' argument is deprecated and will be removed in a future release of LightGBM. \"\n",
      "/home/bi18056/ml/venv/lib/python3.8/site-packages/lightgbm/engine.py:620: UserWarning: 'verbose_eval' argument is deprecated and will be removed in a future release of LightGBM. Pass 'log_evaluation()' callback via 'callbacks' argument instead.\n",
      "  _log_warning(\"'verbose_eval' argument is deprecated and will be removed in a future release of LightGBM. \"\n"
     ]
    },
    {
     "name": "stdout",
     "output_type": "stream",
     "text": [
      "[100]\tcv_agg's rmse: 3.83784 + 0.543717\n"
     ]
    },
    {
     "name": "stderr",
     "output_type": "stream",
     "text": [
      "regularization_factors, val_score: 3.758110:  80%|########  | 16/20 [00:22<00:08,  2.12s/it]\u001b[32m[I 2021-12-30 21:56:21,786]\u001b[0m Trial 55 finished with value: 3.7748909587672363 and parameters: {'lambda_l1': 0.3134553879846451, 'lambda_l2': 0.00022935736124507413}. Best is trial 52 with value: 3.758109733189707.\u001b[0m\n",
      "regularization_factors, val_score: 3.758110:  80%|########  | 16/20 [00:22<00:08,  2.12s/it]"
     ]
    },
    {
     "name": "stdout",
     "output_type": "stream",
     "text": [
      "[200]\tcv_agg's rmse: 3.78877 + 0.580617\n"
     ]
    },
    {
     "name": "stderr",
     "output_type": "stream",
     "text": [
      "/home/bi18056/ml/venv/lib/python3.8/site-packages/lightgbm/engine.py:577: UserWarning: 'early_stopping_rounds' argument is deprecated and will be removed in a future release of LightGBM. Pass 'early_stopping()' callback via 'callbacks' argument instead.\n",
      "  _log_warning(\"'early_stopping_rounds' argument is deprecated and will be removed in a future release of LightGBM. \"\n",
      "/home/bi18056/ml/venv/lib/python3.8/site-packages/lightgbm/engine.py:620: UserWarning: 'verbose_eval' argument is deprecated and will be removed in a future release of LightGBM. Pass 'log_evaluation()' callback via 'callbacks' argument instead.\n",
      "  _log_warning(\"'verbose_eval' argument is deprecated and will be removed in a future release of LightGBM. \"\n"
     ]
    },
    {
     "name": "stdout",
     "output_type": "stream",
     "text": [
      "[100]\tcv_agg's rmse: 3.85123 + 0.526895\n",
      "[200]\tcv_agg's rmse: 3.80638 + 0.569517\n"
     ]
    },
    {
     "name": "stderr",
     "output_type": "stream",
     "text": [
      "regularization_factors, val_score: 3.758110:  85%|########5 | 17/20 [00:24<00:05,  1.86s/it]\u001b[32m[I 2021-12-30 21:56:23,056]\u001b[0m Trial 56 finished with value: 3.784865207061786 and parameters: {'lambda_l1': 2.902007100691075e-06, 'lambda_l2': 0.5977358193202031}. Best is trial 52 with value: 3.758109733189707.\u001b[0m\n",
      "regularization_factors, val_score: 3.758110:  85%|########5 | 17/20 [00:24<00:05,  1.86s/it]/home/bi18056/ml/venv/lib/python3.8/site-packages/lightgbm/engine.py:577: UserWarning: 'early_stopping_rounds' argument is deprecated and will be removed in a future release of LightGBM. Pass 'early_stopping()' callback via 'callbacks' argument instead.\n",
      "  _log_warning(\"'early_stopping_rounds' argument is deprecated and will be removed in a future release of LightGBM. \"\n",
      "/home/bi18056/ml/venv/lib/python3.8/site-packages/lightgbm/engine.py:620: UserWarning: 'verbose_eval' argument is deprecated and will be removed in a future release of LightGBM. Pass 'log_evaluation()' callback via 'callbacks' argument instead.\n",
      "  _log_warning(\"'verbose_eval' argument is deprecated and will be removed in a future release of LightGBM. \"\n"
     ]
    },
    {
     "name": "stdout",
     "output_type": "stream",
     "text": [
      "[100]\tcv_agg's rmse: 3.95068 + 0.521676\n",
      "[200]\tcv_agg's rmse: 3.82399 + 0.56025\n",
      "[300]\tcv_agg's rmse: 3.80316 + 0.576006\n",
      "[400]\tcv_agg's rmse: 3.80038 + 0.566758\n"
     ]
    },
    {
     "name": "stderr",
     "output_type": "stream",
     "text": [
      "regularization_factors, val_score: 3.758110:  90%|######### | 18/20 [00:25<00:03,  1.71s/it]\u001b[32m[I 2021-12-30 21:56:24,430]\u001b[0m Trial 57 finished with value: 3.794995653444994 and parameters: {'lambda_l1': 0.11435426835369937, 'lambda_l2': 7.509605470483008}. Best is trial 52 with value: 3.758109733189707.\u001b[0m\n",
      "regularization_factors, val_score: 3.758110:  90%|######### | 18/20 [00:25<00:03,  1.71s/it]"
     ]
    },
    {
     "name": "stdout",
     "output_type": "stream",
     "text": [
      "[500]\tcv_agg's rmse: 3.81134 + 0.560508\n"
     ]
    },
    {
     "name": "stderr",
     "output_type": "stream",
     "text": [
      "/home/bi18056/ml/venv/lib/python3.8/site-packages/lightgbm/engine.py:577: UserWarning: 'early_stopping_rounds' argument is deprecated and will be removed in a future release of LightGBM. Pass 'early_stopping()' callback via 'callbacks' argument instead.\n",
      "  _log_warning(\"'early_stopping_rounds' argument is deprecated and will be removed in a future release of LightGBM. \"\n",
      "/home/bi18056/ml/venv/lib/python3.8/site-packages/lightgbm/engine.py:620: UserWarning: 'verbose_eval' argument is deprecated and will be removed in a future release of LightGBM. Pass 'log_evaluation()' callback via 'callbacks' argument instead.\n",
      "  _log_warning(\"'verbose_eval' argument is deprecated and will be removed in a future release of LightGBM. \"\n"
     ]
    },
    {
     "name": "stdout",
     "output_type": "stream",
     "text": [
      "[100]\tcv_agg's rmse: 3.83592 + 0.548165\n",
      "[200]\tcv_agg's rmse: 3.79837 + 0.573832\n"
     ]
    },
    {
     "name": "stderr",
     "output_type": "stream",
     "text": [
      "regularization_factors, val_score: 3.758110:  95%|#########5| 19/20 [00:26<00:01,  1.52s/it]\u001b[32m[I 2021-12-30 21:56:25,489]\u001b[0m Trial 58 finished with value: 3.7799369363554325 and parameters: {'lambda_l1': 4.450561998926284e-06, 'lambda_l2': 0.009307354449504373}. Best is trial 52 with value: 3.758109733189707.\u001b[0m\n",
      "regularization_factors, val_score: 3.758110:  95%|#########5| 19/20 [00:26<00:01,  1.52s/it]/home/bi18056/ml/venv/lib/python3.8/site-packages/lightgbm/engine.py:577: UserWarning: 'early_stopping_rounds' argument is deprecated and will be removed in a future release of LightGBM. Pass 'early_stopping()' callback via 'callbacks' argument instead.\n",
      "  _log_warning(\"'early_stopping_rounds' argument is deprecated and will be removed in a future release of LightGBM. \"\n",
      "/home/bi18056/ml/venv/lib/python3.8/site-packages/lightgbm/engine.py:620: UserWarning: 'verbose_eval' argument is deprecated and will be removed in a future release of LightGBM. Pass 'log_evaluation()' callback via 'callbacks' argument instead.\n",
      "  _log_warning(\"'verbose_eval' argument is deprecated and will be removed in a future release of LightGBM. \"\n"
     ]
    },
    {
     "name": "stdout",
     "output_type": "stream",
     "text": [
      "[100]\tcv_agg's rmse: 3.83628 + 0.548413\n",
      "[200]\tcv_agg's rmse: 3.79906 + 0.58205\n"
     ]
    },
    {
     "name": "stderr",
     "output_type": "stream",
     "text": [
      "regularization_factors, val_score: 3.758110: 100%|##########| 20/20 [00:27<00:00,  1.28s/it]\u001b[32m[I 2021-12-30 21:56:26,204]\u001b[0m Trial 59 finished with value: 3.779133211009783 and parameters: {'lambda_l1': 0.025735168461511963, 'lambda_l2': 2.6239637440799195e-05}. Best is trial 52 with value: 3.758109733189707.\u001b[0m\n",
      "regularization_factors, val_score: 3.758110: 100%|##########| 20/20 [00:27<00:00,  1.36s/it]\n",
      "min_data_in_leaf, val_score: 3.758110:   0%|          | 0/5 [00:00<?, ?it/s]/home/bi18056/ml/venv/lib/python3.8/site-packages/lightgbm/engine.py:577: UserWarning: 'early_stopping_rounds' argument is deprecated and will be removed in a future release of LightGBM. Pass 'early_stopping()' callback via 'callbacks' argument instead.\n",
      "  _log_warning(\"'early_stopping_rounds' argument is deprecated and will be removed in a future release of LightGBM. \"\n",
      "/home/bi18056/ml/venv/lib/python3.8/site-packages/lightgbm/engine.py:620: UserWarning: 'verbose_eval' argument is deprecated and will be removed in a future release of LightGBM. Pass 'log_evaluation()' callback via 'callbacks' argument instead.\n",
      "  _log_warning(\"'verbose_eval' argument is deprecated and will be removed in a future release of LightGBM. \"\n"
     ]
    },
    {
     "name": "stdout",
     "output_type": "stream",
     "text": [
      "[100]\tcv_agg's rmse: 4.05196 + 0.548869\n",
      "[200]\tcv_agg's rmse: 3.89468 + 0.596483\n"
     ]
    },
    {
     "name": "stderr",
     "output_type": "stream",
     "text": [
      "min_data_in_leaf, val_score: 3.758110:  20%|##        | 1/5 [00:01<00:04,  1.08s/it]\u001b[32m[I 2021-12-30 21:56:27,291]\u001b[0m Trial 60 finished with value: 3.831634458049406 and parameters: {'min_child_samples': 25}. Best is trial 60 with value: 3.831634458049406.\u001b[0m\n",
      "min_data_in_leaf, val_score: 3.758110:  20%|##        | 1/5 [00:01<00:04,  1.08s/it]"
     ]
    },
    {
     "name": "stdout",
     "output_type": "stream",
     "text": [
      "[300]\tcv_agg's rmse: 3.84441 + 0.590248\n"
     ]
    },
    {
     "name": "stderr",
     "output_type": "stream",
     "text": [
      "/home/bi18056/ml/venv/lib/python3.8/site-packages/lightgbm/engine.py:577: UserWarning: 'early_stopping_rounds' argument is deprecated and will be removed in a future release of LightGBM. Pass 'early_stopping()' callback via 'callbacks' argument instead.\n",
      "  _log_warning(\"'early_stopping_rounds' argument is deprecated and will be removed in a future release of LightGBM. \"\n",
      "/home/bi18056/ml/venv/lib/python3.8/site-packages/lightgbm/engine.py:620: UserWarning: 'verbose_eval' argument is deprecated and will be removed in a future release of LightGBM. Pass 'log_evaluation()' callback via 'callbacks' argument instead.\n",
      "  _log_warning(\"'verbose_eval' argument is deprecated and will be removed in a future release of LightGBM. \"\n"
     ]
    },
    {
     "name": "stdout",
     "output_type": "stream",
     "text": [
      "[100]\tcv_agg's rmse: 6.288 + 0.499431\n",
      "[200]\tcv_agg's rmse: 6.28213 + 0.497649\n"
     ]
    },
    {
     "name": "stderr",
     "output_type": "stream",
     "text": [
      "min_data_in_leaf, val_score: 3.758110:  40%|####      | 2/5 [00:01<00:02,  1.10it/s]\u001b[32m[I 2021-12-30 21:56:28,089]\u001b[0m Trial 61 finished with value: 6.226962827235945 and parameters: {'min_child_samples': 100}. Best is trial 60 with value: 3.831634458049406.\u001b[0m\n",
      "min_data_in_leaf, val_score: 3.758110:  40%|####      | 2/5 [00:01<00:02,  1.10it/s]"
     ]
    },
    {
     "name": "stdout",
     "output_type": "stream",
     "text": [
      "[300]\tcv_agg's rmse: 6.25539 + 0.4884\n",
      "[400]\tcv_agg's rmse: 6.23657 + 0.477211\n"
     ]
    },
    {
     "name": "stderr",
     "output_type": "stream",
     "text": [
      "/home/bi18056/ml/venv/lib/python3.8/site-packages/lightgbm/engine.py:577: UserWarning: 'early_stopping_rounds' argument is deprecated and will be removed in a future release of LightGBM. Pass 'early_stopping()' callback via 'callbacks' argument instead.\n",
      "  _log_warning(\"'early_stopping_rounds' argument is deprecated and will be removed in a future release of LightGBM. \"\n",
      "/home/bi18056/ml/venv/lib/python3.8/site-packages/lightgbm/engine.py:620: UserWarning: 'verbose_eval' argument is deprecated and will be removed in a future release of LightGBM. Pass 'log_evaluation()' callback via 'callbacks' argument instead.\n",
      "  _log_warning(\"'verbose_eval' argument is deprecated and will be removed in a future release of LightGBM. \"\n"
     ]
    },
    {
     "name": "stdout",
     "output_type": "stream",
     "text": [
      "[100]\tcv_agg's rmse: 3.77418 + 0.472748\n"
     ]
    },
    {
     "name": "stderr",
     "output_type": "stream",
     "text": [
      "min_data_in_leaf, val_score: 3.745051:  60%|######    | 3/5 [00:02<00:01,  1.06it/s]\u001b[32m[I 2021-12-30 21:56:29,077]\u001b[0m Trial 62 finished with value: 3.74505135521175 and parameters: {'min_child_samples': 10}. Best is trial 62 with value: 3.74505135521175.\u001b[0m\n",
      "min_data_in_leaf, val_score: 3.745051:  60%|######    | 3/5 [00:02<00:01,  1.06it/s]"
     ]
    },
    {
     "name": "stdout",
     "output_type": "stream",
     "text": [
      "[200]\tcv_agg's rmse: 3.80876 + 0.469713\n"
     ]
    },
    {
     "name": "stderr",
     "output_type": "stream",
     "text": [
      "/home/bi18056/ml/venv/lib/python3.8/site-packages/lightgbm/engine.py:577: UserWarning: 'early_stopping_rounds' argument is deprecated and will be removed in a future release of LightGBM. Pass 'early_stopping()' callback via 'callbacks' argument instead.\n",
      "  _log_warning(\"'early_stopping_rounds' argument is deprecated and will be removed in a future release of LightGBM. \"\n",
      "/home/bi18056/ml/venv/lib/python3.8/site-packages/lightgbm/engine.py:620: UserWarning: 'verbose_eval' argument is deprecated and will be removed in a future release of LightGBM. Pass 'log_evaluation()' callback via 'callbacks' argument instead.\n",
      "  _log_warning(\"'verbose_eval' argument is deprecated and will be removed in a future release of LightGBM. \"\n"
     ]
    },
    {
     "name": "stdout",
     "output_type": "stream",
     "text": [
      "[100]\tcv_agg's rmse: 3.87261 + 0.444554\n"
     ]
    },
    {
     "name": "stderr",
     "output_type": "stream",
     "text": [
      "min_data_in_leaf, val_score: 3.745051:  80%|########  | 4/5 [00:03<00:00,  1.06it/s]\u001b[32m[I 2021-12-30 21:56:30,016]\u001b[0m Trial 63 finished with value: 3.8393076165530955 and parameters: {'min_child_samples': 5}. Best is trial 62 with value: 3.74505135521175.\u001b[0m\n",
      "min_data_in_leaf, val_score: 3.745051:  80%|########  | 4/5 [00:03<00:00,  1.06it/s]/home/bi18056/ml/venv/lib/python3.8/site-packages/lightgbm/engine.py:577: UserWarning: 'early_stopping_rounds' argument is deprecated and will be removed in a future release of LightGBM. Pass 'early_stopping()' callback via 'callbacks' argument instead.\n",
      "  _log_warning(\"'early_stopping_rounds' argument is deprecated and will be removed in a future release of LightGBM. \"\n",
      "/home/bi18056/ml/venv/lib/python3.8/site-packages/lightgbm/engine.py:620: UserWarning: 'verbose_eval' argument is deprecated and will be removed in a future release of LightGBM. Pass 'log_evaluation()' callback via 'callbacks' argument instead.\n",
      "  _log_warning(\"'verbose_eval' argument is deprecated and will be removed in a future release of LightGBM. \"\n"
     ]
    },
    {
     "name": "stdout",
     "output_type": "stream",
     "text": [
      "[100]\tcv_agg's rmse: 4.91372 + 0.45545\n",
      "[200]\tcv_agg's rmse: 4.74367 + 0.462594\n",
      "[300]\tcv_agg's rmse: 4.6469 + 0.441924\n",
      "[400]\tcv_agg's rmse: 4.56992 + 0.417832\n",
      "[500]\tcv_agg's rmse: 4.53881 + 0.423919\n",
      "[600]\tcv_agg's rmse: 4.48926 + 0.384294\n",
      "[700]\tcv_agg's rmse: 4.48542 + 0.343205\n"
     ]
    },
    {
     "name": "stderr",
     "output_type": "stream",
     "text": [
      "min_data_in_leaf, val_score: 3.745051: 100%|##########| 5/5 [00:19<00:00,  6.38s/it]\u001b[32m[I 2021-12-30 21:56:46,033]\u001b[0m Trial 64 finished with value: 4.4682301346922015 and parameters: {'min_child_samples': 50}. Best is trial 62 with value: 3.74505135521175.\u001b[0m\n",
      "min_data_in_leaf, val_score: 3.745051: 100%|##########| 5/5 [00:19<00:00,  3.96s/it]"
     ]
    },
    {
     "name": "stdout",
     "output_type": "stream",
     "text": [
      "[800]\tcv_agg's rmse: 4.49427 + 0.352493\n"
     ]
    },
    {
     "name": "stderr",
     "output_type": "stream",
     "text": [
      "\n"
     ]
    }
   ],
   "source": [
    "dtrain = lgb.Dataset(X_train, label=y_train)\n",
    "\n",
    "tuner = ilgbm.LightGBMTunerCV(\n",
    "    params,\n",
    "    dtrain,\n",
    "    folds=KFold(n_splits=5),\n",
    "    verbose_eval=100,\n",
    "    early_stopping_rounds=100,\n",
    ")\n",
    "\n",
    "# ハイパーパラメータ探索の実行\n",
    "tuner.run()"
   ]
  },
  {
   "cell_type": "code",
   "execution_count": null,
   "metadata": {},
   "outputs": [
    {
     "data": {
      "text/plain": [
       "{'objective': 'regression',\n",
       " 'metric': 'rmse',\n",
       " 'verbosity': -1,\n",
       " 'random_seed': 0,\n",
       " 'boosting_type': 'gbdt',\n",
       " 'feature_pre_filter': False,\n",
       " 'lambda_l1': 0.821964022476991,\n",
       " 'lambda_l2': 0.0004011295898825152,\n",
       " 'num_leaves': 31,\n",
       " 'feature_fraction': 0.4,\n",
       " 'bagging_fraction': 0.7260348407611517,\n",
       " 'bagging_freq': 5,\n",
       " 'min_child_samples': 10}"
      ]
     },
     "execution_count": 14,
     "metadata": {},
     "output_type": "execute_result"
    }
   ],
   "source": [
    "best_params = tuner.best_params\n",
    "best_params"
   ]
  }
 ],
 "metadata": {
  "interpreter": {
   "hash": "a61bd2720834dd329ca1f08f343e4b43379463694b512f8d9daa0ff91d8c30fd"
  },
  "kernelspec": {
   "display_name": "Python 3.8.10 64-bit ('venv': venv)",
   "language": "python",
   "name": "python3"
  },
  "language_info": {
   "codemirror_mode": {
    "name": "ipython",
    "version": 3
   },
   "file_extension": ".py",
   "mimetype": "text/x-python",
   "name": "python",
   "nbconvert_exporter": "python",
   "pygments_lexer": "ipython3",
   "version": "3.8.10"
  },
  "orig_nbformat": 4
 },
 "nbformat": 4,
 "nbformat_minor": 2
}
