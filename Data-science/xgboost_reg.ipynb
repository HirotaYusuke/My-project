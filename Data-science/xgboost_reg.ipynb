{
 "cells": [
  {
   "cell_type": "markdown",
   "metadata": {},
   "source": [
    "# XGBoostの使い方"
   ]
  },
  {
   "cell_type": "code",
   "execution_count": 1,
   "metadata": {},
   "outputs": [],
   "source": [
    "import numpy as np\n",
    "import matplotlib.pyplot as plt\n",
    "import pandas as pd\n",
    "import pickle\n",
    "\n",
    "from sklearn.model_selection import train_test_split\n",
    "\n",
    "import xgboost as xgb\n",
    "from sklearn.metrics import mean_squared_error"
   ]
  },
  {
   "cell_type": "code",
   "execution_count": 2,
   "metadata": {},
   "outputs": [
    {
     "data": {
      "text/html": [
       "<div>\n",
       "<style scoped>\n",
       "    .dataframe tbody tr th:only-of-type {\n",
       "        vertical-align: middle;\n",
       "    }\n",
       "\n",
       "    .dataframe tbody tr th {\n",
       "        vertical-align: top;\n",
       "    }\n",
       "\n",
       "    .dataframe thead th {\n",
       "        text-align: right;\n",
       "    }\n",
       "</style>\n",
       "<table border=\"1\" class=\"dataframe\">\n",
       "  <thead>\n",
       "    <tr style=\"text-align: right;\">\n",
       "      <th></th>\n",
       "      <th>CRIM</th>\n",
       "      <th>ZN</th>\n",
       "      <th>INDUS</th>\n",
       "      <th>CHAS</th>\n",
       "      <th>NOX</th>\n",
       "      <th>RM</th>\n",
       "      <th>AGE</th>\n",
       "      <th>DIS</th>\n",
       "      <th>RAD</th>\n",
       "      <th>TAX</th>\n",
       "      <th>PTRATIO</th>\n",
       "      <th>B</th>\n",
       "      <th>LSTAT</th>\n",
       "      <th>house prices</th>\n",
       "    </tr>\n",
       "  </thead>\n",
       "  <tbody>\n",
       "    <tr>\n",
       "      <th>0</th>\n",
       "      <td>0.0</td>\n",
       "      <td>18.0</td>\n",
       "      <td>2.3</td>\n",
       "      <td>0.0</td>\n",
       "      <td>0.5</td>\n",
       "      <td>6.6</td>\n",
       "      <td>65.2</td>\n",
       "      <td>4.1</td>\n",
       "      <td>1.0</td>\n",
       "      <td>296.0</td>\n",
       "      <td>15.3</td>\n",
       "      <td>396.9</td>\n",
       "      <td>5.0</td>\n",
       "      <td>24.0</td>\n",
       "    </tr>\n",
       "    <tr>\n",
       "      <th>1</th>\n",
       "      <td>0.0</td>\n",
       "      <td>0.0</td>\n",
       "      <td>7.1</td>\n",
       "      <td>0.0</td>\n",
       "      <td>0.5</td>\n",
       "      <td>6.4</td>\n",
       "      <td>78.9</td>\n",
       "      <td>5.0</td>\n",
       "      <td>2.0</td>\n",
       "      <td>242.0</td>\n",
       "      <td>17.8</td>\n",
       "      <td>396.9</td>\n",
       "      <td>9.1</td>\n",
       "      <td>21.6</td>\n",
       "    </tr>\n",
       "    <tr>\n",
       "      <th>2</th>\n",
       "      <td>0.0</td>\n",
       "      <td>0.0</td>\n",
       "      <td>7.1</td>\n",
       "      <td>0.0</td>\n",
       "      <td>0.5</td>\n",
       "      <td>7.2</td>\n",
       "      <td>61.1</td>\n",
       "      <td>5.0</td>\n",
       "      <td>2.0</td>\n",
       "      <td>242.0</td>\n",
       "      <td>17.8</td>\n",
       "      <td>392.8</td>\n",
       "      <td>4.0</td>\n",
       "      <td>34.7</td>\n",
       "    </tr>\n",
       "    <tr>\n",
       "      <th>3</th>\n",
       "      <td>0.0</td>\n",
       "      <td>0.0</td>\n",
       "      <td>2.2</td>\n",
       "      <td>0.0</td>\n",
       "      <td>0.5</td>\n",
       "      <td>7.0</td>\n",
       "      <td>45.8</td>\n",
       "      <td>6.1</td>\n",
       "      <td>3.0</td>\n",
       "      <td>222.0</td>\n",
       "      <td>18.7</td>\n",
       "      <td>394.6</td>\n",
       "      <td>2.9</td>\n",
       "      <td>33.4</td>\n",
       "    </tr>\n",
       "    <tr>\n",
       "      <th>4</th>\n",
       "      <td>0.1</td>\n",
       "      <td>0.0</td>\n",
       "      <td>2.2</td>\n",
       "      <td>0.0</td>\n",
       "      <td>0.5</td>\n",
       "      <td>7.1</td>\n",
       "      <td>54.2</td>\n",
       "      <td>6.1</td>\n",
       "      <td>3.0</td>\n",
       "      <td>222.0</td>\n",
       "      <td>18.7</td>\n",
       "      <td>396.9</td>\n",
       "      <td>5.3</td>\n",
       "      <td>36.2</td>\n",
       "    </tr>\n",
       "    <tr>\n",
       "      <th>5</th>\n",
       "      <td>0.0</td>\n",
       "      <td>0.0</td>\n",
       "      <td>2.2</td>\n",
       "      <td>0.0</td>\n",
       "      <td>0.5</td>\n",
       "      <td>6.4</td>\n",
       "      <td>58.7</td>\n",
       "      <td>6.1</td>\n",
       "      <td>3.0</td>\n",
       "      <td>222.0</td>\n",
       "      <td>18.7</td>\n",
       "      <td>394.1</td>\n",
       "      <td>5.2</td>\n",
       "      <td>28.7</td>\n",
       "    </tr>\n",
       "    <tr>\n",
       "      <th>6</th>\n",
       "      <td>0.1</td>\n",
       "      <td>12.5</td>\n",
       "      <td>7.9</td>\n",
       "      <td>0.0</td>\n",
       "      <td>0.5</td>\n",
       "      <td>6.0</td>\n",
       "      <td>66.6</td>\n",
       "      <td>5.6</td>\n",
       "      <td>5.0</td>\n",
       "      <td>311.0</td>\n",
       "      <td>15.2</td>\n",
       "      <td>395.6</td>\n",
       "      <td>12.4</td>\n",
       "      <td>22.9</td>\n",
       "    </tr>\n",
       "    <tr>\n",
       "      <th>7</th>\n",
       "      <td>0.1</td>\n",
       "      <td>12.5</td>\n",
       "      <td>7.9</td>\n",
       "      <td>0.0</td>\n",
       "      <td>0.5</td>\n",
       "      <td>6.2</td>\n",
       "      <td>96.1</td>\n",
       "      <td>6.0</td>\n",
       "      <td>5.0</td>\n",
       "      <td>311.0</td>\n",
       "      <td>15.2</td>\n",
       "      <td>396.9</td>\n",
       "      <td>19.1</td>\n",
       "      <td>27.1</td>\n",
       "    </tr>\n",
       "    <tr>\n",
       "      <th>8</th>\n",
       "      <td>0.2</td>\n",
       "      <td>12.5</td>\n",
       "      <td>7.9</td>\n",
       "      <td>0.0</td>\n",
       "      <td>0.5</td>\n",
       "      <td>5.6</td>\n",
       "      <td>100.0</td>\n",
       "      <td>6.1</td>\n",
       "      <td>5.0</td>\n",
       "      <td>311.0</td>\n",
       "      <td>15.2</td>\n",
       "      <td>386.6</td>\n",
       "      <td>29.9</td>\n",
       "      <td>16.5</td>\n",
       "    </tr>\n",
       "    <tr>\n",
       "      <th>9</th>\n",
       "      <td>0.2</td>\n",
       "      <td>12.5</td>\n",
       "      <td>7.9</td>\n",
       "      <td>0.0</td>\n",
       "      <td>0.5</td>\n",
       "      <td>6.0</td>\n",
       "      <td>85.9</td>\n",
       "      <td>6.6</td>\n",
       "      <td>5.0</td>\n",
       "      <td>311.0</td>\n",
       "      <td>15.2</td>\n",
       "      <td>386.7</td>\n",
       "      <td>17.1</td>\n",
       "      <td>18.9</td>\n",
       "    </tr>\n",
       "  </tbody>\n",
       "</table>\n",
       "</div>"
      ],
      "text/plain": [
       "   CRIM    ZN  INDUS  CHAS  NOX   RM    AGE  DIS  RAD    TAX  PTRATIO      B  \\\n",
       "0   0.0  18.0    2.3   0.0  0.5  6.6   65.2  4.1  1.0  296.0     15.3  396.9   \n",
       "1   0.0   0.0    7.1   0.0  0.5  6.4   78.9  5.0  2.0  242.0     17.8  396.9   \n",
       "2   0.0   0.0    7.1   0.0  0.5  7.2   61.1  5.0  2.0  242.0     17.8  392.8   \n",
       "3   0.0   0.0    2.2   0.0  0.5  7.0   45.8  6.1  3.0  222.0     18.7  394.6   \n",
       "4   0.1   0.0    2.2   0.0  0.5  7.1   54.2  6.1  3.0  222.0     18.7  396.9   \n",
       "5   0.0   0.0    2.2   0.0  0.5  6.4   58.7  6.1  3.0  222.0     18.7  394.1   \n",
       "6   0.1  12.5    7.9   0.0  0.5  6.0   66.6  5.6  5.0  311.0     15.2  395.6   \n",
       "7   0.1  12.5    7.9   0.0  0.5  6.2   96.1  6.0  5.0  311.0     15.2  396.9   \n",
       "8   0.2  12.5    7.9   0.0  0.5  5.6  100.0  6.1  5.0  311.0     15.2  386.6   \n",
       "9   0.2  12.5    7.9   0.0  0.5  6.0   85.9  6.6  5.0  311.0     15.2  386.7   \n",
       "\n",
       "   LSTAT  house prices  \n",
       "0    5.0          24.0  \n",
       "1    9.1          21.6  \n",
       "2    4.0          34.7  \n",
       "3    2.9          33.4  \n",
       "4    5.3          36.2  \n",
       "5    5.2          28.7  \n",
       "6   12.4          22.9  \n",
       "7   19.1          27.1  \n",
       "8   29.9          16.5  \n",
       "9   17.1          18.9  "
      ]
     },
     "execution_count": 2,
     "metadata": {},
     "output_type": "execute_result"
    }
   ],
   "source": [
    "df = pd.read_csv(\"..//Data-science//data//boston.csv\")\n",
    "\n",
    "X = df.drop(\"house prices\", axis=1)\n",
    "y = df[\"house prices\"]\n",
    "df.head(10)"
   ]
  },
  {
   "cell_type": "code",
   "execution_count": 3,
   "metadata": {},
   "outputs": [],
   "source": [
    "X_train, X_test, y_train, y_test = np.sqrt(train_test_split(X, y, random_state = 0))"
   ]
  },
  {
   "cell_type": "code",
   "execution_count": 4,
   "metadata": {},
   "outputs": [],
   "source": [
    "# データをXGBoost専用のDMatrix形式に変換する\n",
    "dtrain = xgb.DMatrix(X_train, y_train)\n",
    "dtest = xgb.DMatrix(X_test, y_test)"
   ]
  },
  {
   "cell_type": "code",
   "execution_count": 8,
   "metadata": {},
   "outputs": [],
   "source": [
    "params = {\n",
    "    \"objective\" : \"reg:squarederror\",\n",
    "    \"eval_metric\" : \"rmse\"\n",
    "}"
   ]
  },
  {
   "cell_type": "code",
   "execution_count": 9,
   "metadata": {},
   "outputs": [
    {
     "name": "stdout",
     "output_type": "stream",
     "text": [
      "[0]\ttrain-rmse:17.15951\ttest-rmse:17.13836\n",
      "[1]\ttrain-rmse:12.39330\ttest-rmse:12.77661\n",
      "[2]\ttrain-rmse:9.02103\ttest-rmse:9.80016\n",
      "[3]\ttrain-rmse:6.66028\ttest-rmse:7.85169\n",
      "[4]\ttrain-rmse:4.96651\ttest-rmse:6.58953\n",
      "[5]\ttrain-rmse:3.78155\ttest-rmse:5.85422\n",
      "[6]\ttrain-rmse:2.92537\ttest-rmse:5.39617\n",
      "[7]\ttrain-rmse:2.32086\ttest-rmse:5.14601\n",
      "[8]\ttrain-rmse:1.88814\ttest-rmse:4.82794\n",
      "[9]\ttrain-rmse:1.59359\ttest-rmse:4.72814\n",
      "[10]\ttrain-rmse:1.40156\ttest-rmse:4.63851\n",
      "[11]\ttrain-rmse:1.25247\ttest-rmse:4.59736\n",
      "[12]\ttrain-rmse:1.12606\ttest-rmse:4.50309\n",
      "[13]\ttrain-rmse:1.02220\ttest-rmse:4.49432\n",
      "[14]\ttrain-rmse:0.94710\ttest-rmse:4.43870\n",
      "[15]\ttrain-rmse:0.87972\ttest-rmse:4.39740\n",
      "[16]\ttrain-rmse:0.80694\ttest-rmse:4.35603\n",
      "[17]\ttrain-rmse:0.73778\ttest-rmse:4.33797\n",
      "[18]\ttrain-rmse:0.68549\ttest-rmse:4.33460\n",
      "[19]\ttrain-rmse:0.65692\ttest-rmse:4.32283\n",
      "[20]\ttrain-rmse:0.63766\ttest-rmse:4.31378\n",
      "[21]\ttrain-rmse:0.61265\ttest-rmse:4.31120\n",
      "[22]\ttrain-rmse:0.57449\ttest-rmse:4.31849\n",
      "[23]\ttrain-rmse:0.55321\ttest-rmse:4.32050\n",
      "[24]\ttrain-rmse:0.54010\ttest-rmse:4.32162\n",
      "[25]\ttrain-rmse:0.51616\ttest-rmse:4.31569\n",
      "[26]\ttrain-rmse:0.49028\ttest-rmse:4.31241\n",
      "[27]\ttrain-rmse:0.47169\ttest-rmse:4.30587\n",
      "[28]\ttrain-rmse:0.45014\ttest-rmse:4.29140\n",
      "[29]\ttrain-rmse:0.41741\ttest-rmse:4.28453\n",
      "[30]\ttrain-rmse:0.39352\ttest-rmse:4.28079\n",
      "[31]\ttrain-rmse:0.37647\ttest-rmse:4.28394\n",
      "[32]\ttrain-rmse:0.36163\ttest-rmse:4.28833\n",
      "[33]\ttrain-rmse:0.34674\ttest-rmse:4.29192\n",
      "[34]\ttrain-rmse:0.33441\ttest-rmse:4.29064\n",
      "[35]\ttrain-rmse:0.32499\ttest-rmse:4.28694\n",
      "[36]\ttrain-rmse:0.30590\ttest-rmse:4.28486\n",
      "[37]\ttrain-rmse:0.28609\ttest-rmse:4.28043\n",
      "[38]\ttrain-rmse:0.27132\ttest-rmse:4.28216\n",
      "[39]\ttrain-rmse:0.26284\ttest-rmse:4.28194\n",
      "[40]\ttrain-rmse:0.25475\ttest-rmse:4.28470\n",
      "[41]\ttrain-rmse:0.24345\ttest-rmse:4.28350\n",
      "[42]\ttrain-rmse:0.23378\ttest-rmse:4.29139\n",
      "[43]\ttrain-rmse:0.23032\ttest-rmse:4.29194\n",
      "[44]\ttrain-rmse:0.21331\ttest-rmse:4.29180\n",
      "[45]\ttrain-rmse:0.20724\ttest-rmse:4.29314\n",
      "[46]\ttrain-rmse:0.19094\ttest-rmse:4.29333\n",
      "CPU times: user 17.5 s, sys: 599 ms, total: 18.1 s\n",
      "Wall time: 2.75 s\n"
     ]
    },
    {
     "data": {
      "text/plain": [
       "' \\nparams：作成したパラメータのリスト\\ndtrain：学習データ\\nevals：”eval_metric”で評価するデータ\\nearly_stopping_rounds：指定した回数学習を行い，性能がほとんど同じ場合に学習を自動で止める\\nnum_boost_round：モデルを作り直す回数\\nevals_result：学習過を程保するため，存辞書型データを渡す\\n'"
      ]
     },
     "execution_count": 9,
     "metadata": {},
     "output_type": "execute_result"
    }
   ],
   "source": [
    "%%time\n",
    "\n",
    "results_dict = {} #学習過程を保存するためのdict型\n",
    "model = xgb.train(\n",
    "    params= params,\n",
    "    dtrain= dtrain,\n",
    "    evals= [(dtrain, \"train\"), (dtest, \"test\")],\n",
    "    num_boost_round= 100,\n",
    "    early_stopping_rounds = 10,\n",
    "    evals_result = results_dict\n",
    ")\n",
    "\n",
    "\"\"\" \n",
    "params：作成したパラメータのリスト\n",
    "dtrain：学習データ\n",
    "evals：”eval_metric”で評価するデータ\n",
    "early_stopping_rounds：指定した回数学習を行い，性能がほとんど同じ場合に学習を自動で止める\n",
    "num_boost_round：モデルを作り直す回数\n",
    "evals_result：学習過を程保するため，存辞書型データを渡す\n",
    "\"\"\""
   ]
  },
  {
   "cell_type": "code",
   "execution_count": 10,
   "metadata": {},
   "outputs": [
    {
     "name": "stdout",
     "output_type": "stream",
     "text": [
      "[24.260868  25.959583  23.439667  10.079211  21.164799  20.967133\n",
      " 21.140055  20.016285  21.439995  17.047716   6.3470054 13.238259\n",
      " 15.093881   8.700357  48.4336    34.681274  21.624352  35.42634\n",
      " 27.37303   22.203077  22.933146  21.092955  19.614748  25.922867\n",
      " 20.06116   18.96829   17.391155  14.710673  41.563698  19.221775\n",
      " 16.520683  19.18075   20.471706  21.257109  24.960009  19.948687\n",
      "  9.218968  23.750652  14.359755  13.889597  24.356325  21.04931\n",
      " 22.475927  15.683422  22.765669  22.069681  19.756723  15.156637\n",
      " 14.703606  23.883615  15.224558  20.917034  21.341131  40.382786\n",
      " 15.581041  17.912039  16.608515  17.222538  13.113998  21.039349\n",
      " 20.514917  21.812933  34.539024  30.807833  19.935455  27.67515\n",
      " 16.771126  18.475239  16.681755  23.938578  19.788828  21.719204\n",
      " 23.596533  29.649519  26.164343   8.570015  43.49862   23.317747\n",
      " 22.237513  20.803293  24.356695  18.846003  19.707602  42.493866\n",
      " 39.30518   23.903934  22.928843  14.464733  23.987736  17.61829\n",
      " 15.494927  12.5776415 23.156385  28.216516  20.91944   22.416862\n",
      " 11.1264105 23.878443  14.852142  18.31698   25.832373  20.125967\n",
      " 25.552795  19.79123   24.703697  18.82207    9.825185  20.192184\n",
      " 19.98125   21.10306   40.86446   14.402539  18.103487  17.769678\n",
      " 16.647226  23.142038  10.250881  19.783615  10.440591  46.137547\n",
      " 30.55323   10.689852  18.002539  22.337599  19.130667  19.253939\n",
      " 33.581738 ]\n"
     ]
    }
   ],
   "source": [
    "# ここでもDMatrixの変換が必要\n",
    "pred = model.predict(xgb.DMatrix(X_test))\n",
    "print(pred)"
   ]
  },
  {
   "cell_type": "code",
   "execution_count": 11,
   "metadata": {},
   "outputs": [
    {
     "data": {
      "image/png": "[encoded data removed]",
      "text/plain": [
       "<Figure size 432x288 with 1 Axes>"
      ]
     },
     "metadata": {
      "needs_background": "light"
     },
     "output_type": "display_data"
    }
   ],
   "source": [
    "# 可視化\n",
    "\n",
    "plt.scatter(y_test, pred, alpha = 0.5,)\n",
    "plt.xlabel('test')\n",
    "plt.ylabel('predict')\n",
    "plt.plot(np.linspace(0, 60, 100), np.linspace(0, 60, 100), \"red\")\n",
    "plt.show()"
   ]
  },
  {
   "cell_type": "code",
   "execution_count": 12,
   "metadata": {},
   "outputs": [
    {
     "name": "stdout",
     "output_type": "stream",
     "text": [
      "4.293671289612845\n"
     ]
    }
   ],
   "source": [
    "# 学習モデルの評価（RMSEを計算）\n",
    "mse = mean_squared_error(y_test, pred)\n",
    "rmse = np.sqrt(mse)\n",
    "print(rmse)\n"
   ]
  },
  {
   "cell_type": "markdown",
   "metadata": {},
   "source": [
    "#### 勾配ブースティング(グリッドサーチ)の評価\n",
    "\n",
    "- RMSE = 3.1969343197990177"
   ]
  },
  {
   "cell_type": "code",
   "execution_count": 13,
   "metadata": {},
   "outputs": [],
   "source": [
    "# モデルの保存\n",
    "with open('xgb_boston.model', 'wb') as f:\n",
    "  pickle.dump(model, f)"
   ]
  },
  {
   "cell_type": "code",
   "execution_count": 14,
   "metadata": {},
   "outputs": [
    {
     "data": {
      "image/png": "[encoded data removed]",
      "text/plain": [
       "<Figure size 432x288 with 1 Axes>"
      ]
     },
     "metadata": {
      "needs_background": "light"
     },
     "output_type": "display_data"
    }
   ],
   "source": [
    "plt.plot(results_dict[\"train\"][\"rmse\"], color = \"red\", label = \"train\")\n",
    "plt.plot(results_dict[\"test\"][\"rmse\"], color = \"blue\", label = \"test\")\n",
    "plt.legend()\n",
    "plt.show()"
   ]
  },
  {
   "cell_type": "code",
   "execution_count": 15,
   "metadata": {},
   "outputs": [
    {
     "data": {
      "image/png": "[encoded data removed]",
      "text/plain": [
       "<Figure size 432x288 with 1 Axes>"
      ]
     },
     "metadata": {
      "needs_background": "light"
     },
     "output_type": "display_data"
    }
   ],
   "source": [
    "# 特徴量重要度のプロット\n",
    "xgb.plot_importance(model, importance_type = \"gain\")\n",
    "plt.show()"
   ]
  },
  {
   "cell_type": "markdown",
   "metadata": {},
   "source": [
    "## グリッドサーチを行う"
   ]
  },
  {
   "cell_type": "code",
   "execution_count": 16,
   "metadata": {},
   "outputs": [],
   "source": [
    "from sklearn.model_selection import GridSearchCV\n",
    "from sklearn.metrics import make_scorer"
   ]
  },
  {
   "cell_type": "code",
   "execution_count": 18,
   "metadata": {},
   "outputs": [
    {
     "name": "stdout",
     "output_type": "stream",
     "text": [
      "CPU times: user 8.41 s, sys: 165 ms, total: 8.57 s\n",
      "Wall time: 28min 30s\n"
     ]
    },
    {
     "data": {
      "text/plain": [
       "GridSearchCV(cv=5,\n",
       "             estimator=XGBRegressor(base_score=None, booster=None,\n",
       "                                    colsample_bylevel=None,\n",
       "                                    colsample_bynode=None,\n",
       "                                    colsample_bytree=None,\n",
       "                                    enable_categorical=False, gamma=None,\n",
       "                                    gpu_id=None, importance_type=None,\n",
       "                                    interaction_constraints=None,\n",
       "                                    learning_rate=None, max_delta_step=None,\n",
       "                                    max_depth=None, min_child_weight=None,\n",
       "                                    missing=nan, monotone_constraints=None,\n",
       "                                    n_estimators=100, n_jobs=None,\n",
       "                                    num_parallel_tree=None, predictor=None,\n",
       "                                    random_state=None, reg_alpha=None,\n",
       "                                    reg_lambda=None, scale_pos_weight=None,\n",
       "                                    subsample=None, tree_method=None,\n",
       "                                    validate_parameters=None, verbosity=None),\n",
       "             n_jobs=-1,\n",
       "             param_grid=[{'max_depth': [3, 4, 5, 6],\n",
       "                          'n_estimators': [100, 300, 500]}],\n",
       "             scoring=make_scorer(mean_squared_error))"
      ]
     },
     "execution_count": 18,
     "metadata": {},
     "output_type": "execute_result"
    }
   ],
   "source": [
    "%%time\n",
    "xgb_reg = xgb.XGBRegressor()\n",
    "\n",
    "params=[{'max_depth':[3,4,5,6],\n",
    "        'n_estimators':[100,300,500]\n",
    "       }]\n",
    "\n",
    "scorer=make_scorer(mean_squared_error)\n",
    "\n",
    "grid_xgb_reg=GridSearchCV(xgb_reg,\n",
    "                          param_grid=params,\n",
    "                          scoring=scorer,\n",
    "                          cv=5,\n",
    "                          n_jobs=-1)\n",
    "\n",
    "grid_xgb_reg.fit(X_train, y_train)"
   ]
  },
  {
   "cell_type": "code",
   "execution_count": 19,
   "metadata": {},
   "outputs": [
    {
     "name": "stdout",
     "output_type": "stream",
     "text": [
      "{'max_depth': 6, 'n_estimators': 300}\n"
     ]
    }
   ],
   "source": [
    "y_train_pred = grid_xgb_reg.predict(X_train)\n",
    "y_test_pred = grid_xgb_reg.predict(X_test)\n",
    "\n",
    "# 裁量スコアとなるパラメータ値を出力\n",
    "print(grid_xgb_reg.best_params_)"
   ]
  },
  {
   "cell_type": "code",
   "execution_count": 20,
   "metadata": {},
   "outputs": [
    {
     "data": {
      "image/png": "[encoded data removed]",
      "text/plain": [
       "<Figure size 432x288 with 1 Axes>"
      ]
     },
     "metadata": {
      "needs_background": "light"
     },
     "output_type": "display_data"
    }
   ],
   "source": [
    "plt.scatter(y_test, y_test_pred)\n",
    "plt.plot(np.linspace(0, 60, 100), np.linspace(0, 60, 100), \"red\")\n",
    "plt.xlabel('test')\n",
    "plt.ylabel('predict')\n",
    "plt.show()"
   ]
  },
  {
   "cell_type": "code",
   "execution_count": 21,
   "metadata": {},
   "outputs": [
    {
     "name": "stdout",
     "output_type": "stream",
     "text": [
      "MSE   train: 0.000,  test: 18.442\n",
      "RMSE  train: 0.001,  test: 4.294\n",
      "R^2   train: 1.000,  test: 0.774\n"
     ]
    }
   ],
   "source": [
    "from sklearn.metrics import r2_score\n",
    "from sklearn.metrics import mean_squared_error\n",
    "\n",
    "print('MSE   train: %.3f,  test: %.3f' % (\n",
    "        mean_squared_error(y_train, y_train_pred),\n",
    "        mean_squared_error(y_test, y_test_pred)))\n",
    "print('RMSE  train: %.3f,  test: %.3f' %(\n",
    "        np.sqrt(mean_squared_error(y_train, y_train_pred)),\n",
    "        np.sqrt(mean_squared_error(y_test, y_test_pred))))\n",
    "print('R^2   train: %.3f,  test: %.3f' % (\n",
    "        r2_score(y_train, y_train_pred),\n",
    "        r2_score(y_test, y_test_pred)))"
   ]
  },
  {
   "cell_type": "code",
   "execution_count": 29,
   "metadata": {},
   "outputs": [],
   "source": [
    "list = X_train.columns"
   ]
  },
  {
   "cell_type": "code",
   "execution_count": 31,
   "metadata": {},
   "outputs": [
    {
     "name": "stderr",
     "output_type": "stream",
     "text": [
      "/home/bi18056/ml/venv/lib/python3.8/site-packages/matplotlib/backends/backend_agg.py:240: RuntimeWarning: Glyph 12398 missing from current font.\n",
      "  font.set_text(s, 0.0, flags=flags)\n",
      "/home/bi18056/ml/venv/lib/python3.8/site-packages/matplotlib/backends/backend_agg.py:240: RuntimeWarning: Glyph 37325 missing from current font.\n",
      "  font.set_text(s, 0.0, flags=flags)\n",
      "/home/bi18056/ml/venv/lib/python3.8/site-packages/matplotlib/backends/backend_agg.py:240: RuntimeWarning: Glyph 35201 missing from current font.\n",
      "  font.set_text(s, 0.0, flags=flags)\n",
      "/home/bi18056/ml/venv/lib/python3.8/site-packages/matplotlib/backends/backend_agg.py:240: RuntimeWarning: Glyph 24230 missing from current font.\n",
      "  font.set_text(s, 0.0, flags=flags)\n",
      "/home/bi18056/ml/venv/lib/python3.8/site-packages/matplotlib/backends/backend_agg.py:203: RuntimeWarning: Glyph 12398 missing from current font.\n",
      "  font.set_text(s, 0, flags=flags)\n",
      "/home/bi18056/ml/venv/lib/python3.8/site-packages/matplotlib/backends/backend_agg.py:203: RuntimeWarning: Glyph 37325 missing from current font.\n",
      "  font.set_text(s, 0, flags=flags)\n",
      "/home/bi18056/ml/venv/lib/python3.8/site-packages/matplotlib/backends/backend_agg.py:203: RuntimeWarning: Glyph 35201 missing from current font.\n",
      "  font.set_text(s, 0, flags=flags)\n",
      "/home/bi18056/ml/venv/lib/python3.8/site-packages/matplotlib/backends/backend_agg.py:203: RuntimeWarning: Glyph 24230 missing from current font.\n",
      "  font.set_text(s, 0, flags=flags)\n"
     ]
    },
    {
     "data": {
      "image/png": "[encoded data removed]",
      "text/plain": [
       "<Figure size 432x288 with 1 Axes>"
      ]
     },
     "metadata": {
      "needs_background": "light"
     },
     "output_type": "display_data"
    }
   ],
   "source": [
    "# 各説明変数の重要度\n",
    "xgb_reg1=xgb.XGBRegressor(**grid_xgb_reg.best_params_)\n",
    "xgb_reg1.fit(X_train,y_train)\n",
    "\n",
    "# feature importance のプロット\n",
    "import pandas as pd\n",
    "import matplotlib.pyplot as plt\n",
    "importances = pd.Series(xgb_reg1.feature_importances_, index = list)\n",
    "importances = importances.sort_values()\n",
    "importances.plot(kind = 'barh')\n",
    "plt.title('XGBRegressorの重要度')\n",
    "plt.show()"
   ]
  },
  {
   "cell_type": "code",
   "execution_count": null,
   "metadata": {},
   "outputs": [],
   "source": []
  }
 ],
 "metadata": {
  "interpreter": {
   "hash": "a61bd2720834dd329ca1f08f343e4b43379463694b512f8d9daa0ff91d8c30fd"
  },
  "kernelspec": {
   "display_name": "Python 3.8.10 64-bit ('venv': venv)",
   "language": "python",
   "name": "python3"
  },
  "language_info": {
   "codemirror_mode": {
    "name": "ipython",
    "version": 3
   },
   "file_extension": ".py",
   "mimetype": "text/x-python",
   "name": "python",
   "nbconvert_exporter": "python",
   "pygments_lexer": "ipython3",
   "version": "3.8.10"
  },
  "orig_nbformat": 4
 },
 "nbformat": 4,
 "nbformat_minor": 2
}
