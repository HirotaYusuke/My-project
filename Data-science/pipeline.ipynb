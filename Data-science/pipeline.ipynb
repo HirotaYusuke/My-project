{
  "cells": [
    {
      "cell_type": "markdown",
      "metadata": {
        "id": "aStR4myD5jMD"
      },
      "source": [
        "## パイプライン\n",
        "\n",
        "### パイプラインとは\n",
        "#### 変換器(特徴量の生成と選択)と予測気を直列に繋げ，一連の処理をまとめて実行できるようにする仕組みのことをパイプラインと言う．\n",
        "### メリット\n",
        "1. いくつかの前処理を実行している場合でも，fit や predict をパイプラインに対して1度だけ呼ぶだけで良い\n",
        "2. パイプラインに対して，グリッドサーチを行う際，パラメータを1度に指定できる．fit を読んだ後の変換器をキャッシュでき，性能向上が期待できる．\n",
        "3. transformer と estimatorに同じデータが使われるため，交差検証の際にデータがリークされることを防げる"
      ]
    },
    {
      "cell_type": "code",
      "source": [
        "from google.colab import drive\n",
        "drive.mount('/content/drive')"
      ],
      "metadata": {
        "colab": {
          "base_uri": "https://localhost:8080/"
        },
        "id": "Q03cZ1Wa5qPw",
        "outputId": "0597f805-f829-4710-930f-a3d9fc7e7ffe"
      },
      "execution_count": null,
      "outputs": [
        {
          "output_type": "stream",
          "name": "stdout",
          "text": [
            "Mounted at /content/drive\n"
          ]
        }
      ]
    },
    {
      "cell_type": "markdown",
      "metadata": {
        "id": "LU-4-YtI5jMM"
      },
      "source": [
        "### 実装\n",
        "\n",
        "1. GridSearchCV\n",
        "2. クロスバリデーションをしながらパラメータチューニング\n",
        "3. 評価指標の平均値を計算\n",
        "4. パイプライン構築\n",
        "    - グリッドサーチによる出力されたハイパーパラメータを使う\n",
        "    - 前処理は，標準化，主成分分析による次元削除\n",
        "    - 推定器には，重回帰，ランダムフォレストを使用\n",
        "    - クロスバリデーションをしながら学習"
      ]
    },
    {
      "cell_type": "code",
      "execution_count": null,
      "metadata": {
        "id": "tdSfpLN55jMO"
      },
      "outputs": [],
      "source": [
        "import numpy as np\n",
        "import matplotlib.pyplot as plt\n",
        "import pandas as pd\n",
        "import scipy\n",
        "import pickle\n",
        "from sklearn.model_selection import train_test_split, KFold, cross_val_score\n",
        "\n",
        "# パラメーター調整\n",
        "from sklearn.model_selection import GridSearchCV\n",
        "\n",
        "# 変換器\n",
        "from sklearn.preprocessing import StandardScaler\n",
        "from sklearn.decomposition import PCA\n",
        "\n",
        "# 予測器\n",
        "from sklearn.ensemble import ExtraTreesRegressor,  GradientBoostingRegressor, RandomForestRegressor \n",
        "\n",
        "\n",
        "# パイプライン\n",
        "from sklearn.pipeline import Pipeline\n",
        "from sklearn.compose import ColumnTransformer\n",
        "\n",
        "# 評価関数\n",
        "from sklearn.metrics import mean_squared_error, r2_score\n",
        "\n",
        "# パイプラインの過程\n",
        "from sklearn import set_config"
      ]
    },
    {
      "cell_type": "markdown",
      "metadata": {
        "id": "57cBqy4f5jMQ"
      },
      "source": [
        "### データの読み込み"
      ]
    },
    {
      "cell_type": "code",
      "execution_count": null,
      "metadata": {
        "id": "_ZxW4QQd5jMR"
      },
      "outputs": [],
      "source": [
        "df = pd.read_csv('/content/drive/MyDrive/Colab Notebooks/data/boston.csv')\n",
        "\n",
        "X = df.drop(\"house prices\", axis=1)\n",
        "y = df['house prices']\n",
        "\n",
        "X_train, X_test, y_train, y_test = train_test_split(X, y, random_state=53)"
      ]
    },
    {
      "cell_type": "markdown",
      "metadata": {
        "id": "7xjtOZSE5jMl"
      },
      "source": [
        "### 前処理"
      ]
    },
    {
      "cell_type": "markdown",
      "source": [
        "#### 特徴量選択"
      ],
      "metadata": {
        "id": "dHoK8nxXDTeH"
      }
    },
    {
      "cell_type": "code",
      "source": [
        "features = [\n",
        "            'INDUS',\n",
        "            'RM',\n",
        "            'TAX',\n",
        "            'PTRATIO',\n",
        "            'LSTAT'\n",
        "]"
      ],
      "metadata": {
        "id": "OpFFQxJxDXfh"
      },
      "execution_count": null,
      "outputs": []
    },
    {
      "cell_type": "markdown",
      "metadata": {
        "id": "uS4b3XUG5jMl"
      },
      "source": [
        "#### 標準化"
      ]
    },
    {
      "cell_type": "code",
      "execution_count": null,
      "metadata": {
        "id": "PMEP8xDb5jMm"
      },
      "outputs": [],
      "source": [
        "scaler = StandardScaler()"
      ]
    },
    {
      "cell_type": "markdown",
      "metadata": {
        "id": "AkE_PPRC5jMp"
      },
      "source": [
        "#### 次元削除\n",
        "\n",
        "次元削減にはPCAを使う．"
      ]
    },
    {
      "cell_type": "code",
      "execution_count": null,
      "metadata": {
        "id": "ZTnV8qBQ5jMp"
      },
      "outputs": [],
      "source": [
        "pca = PCA()"
      ]
    },
    {
      "cell_type": "markdown",
      "metadata": {
        "id": "jKKPFjbY5jMr"
      },
      "source": [
        "### パイプライン構築"
      ]
    },
    {
      "cell_type": "code",
      "execution_count": null,
      "metadata": {
        "id": "QckMA_zQ5jMq"
      },
      "outputs": [],
      "source": [
        "# 変換器パイプライン(前処理パイプライン)\n",
        "## 前処理を行う\n",
        "transformer = Pipeline(steps=[\n",
        "                              ('StandScaler', scaler),\n",
        "                              ('pca', pca),\n",
        "])\n",
        "\n",
        "# 特徴量 -> 変換器\n",
        "preprocessor = ColumnTransformer(\n",
        "    transformers=[('transform', transformer, features)]\n",
        ")\n"
      ]
    },
    {
      "cell_type": "code",
      "source": [
        "# 推定器の定義\n",
        "\n",
        "gbr = GradientBoostingRegressor(\n",
        "  random_state=53,\n",
        "  min_samples_split = 5, \n",
        "  min_samples_leaf = 50,\n",
        "  max_depth = 5,\n",
        "  subsample = 0.8\n",
        ")\n",
        "\n",
        "etr = ExtraTreesRegressor(\n",
        "    random_state=53,\n",
        "    min_samples_split = 5,\n",
        "    min_samples_leaf = 50,\n",
        "    max_depth = 5,\n",
        "    n_jobs=-1\n",
        ")\n",
        "\n",
        "rfr = RandomForestRegressor(\n",
        "    max_depth=None,\n",
        "    max_features='auto',\n",
        "    max_leaf_nodes=None,\n",
        "    min_samples_leaf=1,\n",
        "    min_samples_split=2,\n",
        "    n_jobs=-1,\n",
        "    random_state=53,\n",
        "    verbose=0\n",
        ")"
      ],
      "metadata": {
        "id": "IQ59tVdB3Vcn"
      },
      "execution_count": null,
      "outputs": []
    },
    {
      "cell_type": "code",
      "source": [
        "## パイプライン全体：変換器パイプライン‐＞予測器（推定器）\n",
        "pipe = Pipeline(\n",
        "    steps=[\n",
        "           ('preprocessor', preprocessor),\n",
        "           ('regressor', gbr)\n",
        "    ]\n",
        ")"
      ],
      "metadata": {
        "id": "A5ZC_E8JFGT0"
      },
      "execution_count": null,
      "outputs": []
    },
    {
      "cell_type": "markdown",
      "source": [
        "#### パラメータチューニング\n",
        "\n",
        "グリッドサーチを行い，パラメータチューニングを行う\n",
        "\n",
        "Scikit-Learnオブジェクトと GridSearchCVを組み合わせる場合，パラメータ名のみで良いが，Pipelineには複数のオブジェクトが含まれるため，それらを識別するための名前を追加する必要がある．\n",
        "\n",
        "パラメータ名の前に，パイプラインを定義した際に推定器の’key+__’を付ける．今回の場合はregressor．"
      ],
      "metadata": {
        "id": "XvyA6OOSCYEc"
      }
    },
    {
      "cell_type": "code",
      "source": [
        "# パラメータ\n",
        "## 推定器は3つ\n",
        "\n",
        "params_grid = [{'regressor':[gbr],\n",
        "                'regressor__n_estimators': list(range(20, 101, 10)),\n",
        "                'regressor__max_depth': [2, 3, 4, 6],\n",
        "                'regressor__learning_rate': list(np.arange(0.05, 0.20, 0.01))},\n",
        "               {'regressor': [etr],\n",
        "                'regressor__n_estimators': [50, 75, 100, 125, 150],\n",
        "                'regressor__max_depth': [2, 3, 4, 6]},    \n",
        "               {'regressor': [rfr],\n",
        "                'regressor__n_estimators': [50, 75, 100, 125, 150],\n",
        "                'regressor__max_depth': [2, 3, 4, 6]}\n",
        "]\n",
        "\n",
        "gs = GridSearchCV(\n",
        "    estimator=pipe,\n",
        "    param_grid=params_grid,\n",
        "    scoring='neg_root_mean_squared_error',\n",
        "    cv=7,\n",
        "    n_jobs = -1,\n",
        "    refit=True,\n",
        "    verbose=10\n",
        ")\n"
      ],
      "metadata": {
        "id": "dAA6jBJDlDiN"
      },
      "execution_count": null,
      "outputs": []
    },
    {
      "cell_type": "code",
      "source": [
        "gs.fit(X_train, y_train)"
      ],
      "metadata": {
        "colab": {
          "base_uri": "https://localhost:8080/",
          "height": 246
        },
        "id": "lFq6IwUfaIHT",
        "outputId": "01423263-b83c-49af-9dae-f479747e41a0"
      },
      "execution_count": null,
      "outputs": [
        {
          "output_type": "stream",
          "name": "stdout",
          "text": [
            "Fitting 7 folds for each of 616 candidates, totalling 4312 fits\n"
          ]
        },
        {
          "output_type": "execute_result",
          "data": {
            "text/html": [
              "<style>#sk-c9221c14-8132-4d07-bd95-af2d65bcee77 {color: black;background-color: white;}#sk-c9221c14-8132-4d07-bd95-af2d65bcee77 pre{padding: 0;}#sk-c9221c14-8132-4d07-bd95-af2d65bcee77 div.sk-toggleable {background-color: white;}#sk-c9221c14-8132-4d07-bd95-af2d65bcee77 label.sk-toggleable__label {cursor: pointer;display: block;width: 100%;margin-bottom: 0;padding: 0.3em;box-sizing: border-box;text-align: center;}#sk-c9221c14-8132-4d07-bd95-af2d65bcee77 label.sk-toggleable__label-arrow:before {content: \"▸\";float: left;margin-right: 0.25em;color: #696969;}#sk-c9221c14-8132-4d07-bd95-af2d65bcee77 label.sk-toggleable__label-arrow:hover:before {color: black;}#sk-c9221c14-8132-4d07-bd95-af2d65bcee77 div.sk-estimator:hover label.sk-toggleable__label-arrow:before {color: black;}#sk-c9221c14-8132-4d07-bd95-af2d65bcee77 div.sk-toggleable__content {max-height: 0;max-width: 0;overflow: hidden;text-align: left;background-color: #f0f8ff;}#sk-c9221c14-8132-4d07-bd95-af2d65bcee77 div.sk-toggleable__content pre {margin: 0.2em;color: black;border-radius: 0.25em;background-color: #f0f8ff;}#sk-c9221c14-8132-4d07-bd95-af2d65bcee77 input.sk-toggleable__control:checked~div.sk-toggleable__content {max-height: 200px;max-width: 100%;overflow: auto;}#sk-c9221c14-8132-4d07-bd95-af2d65bcee77 input.sk-toggleable__control:checked~label.sk-toggleable__label-arrow:before {content: \"▾\";}#sk-c9221c14-8132-4d07-bd95-af2d65bcee77 div.sk-estimator input.sk-toggleable__control:checked~label.sk-toggleable__label {background-color: #d4ebff;}#sk-c9221c14-8132-4d07-bd95-af2d65bcee77 div.sk-label input.sk-toggleable__control:checked~label.sk-toggleable__label {background-color: #d4ebff;}#sk-c9221c14-8132-4d07-bd95-af2d65bcee77 input.sk-hidden--visually {border: 0;clip: rect(1px 1px 1px 1px);clip: rect(1px, 1px, 1px, 1px);height: 1px;margin: -1px;overflow: hidden;padding: 0;position: absolute;width: 1px;}#sk-c9221c14-8132-4d07-bd95-af2d65bcee77 div.sk-estimator {font-family: monospace;background-color: #f0f8ff;border: 1px dotted black;border-radius: 0.25em;box-sizing: border-box;margin-bottom: 0.5em;}#sk-c9221c14-8132-4d07-bd95-af2d65bcee77 div.sk-estimator:hover {background-color: #d4ebff;}#sk-c9221c14-8132-4d07-bd95-af2d65bcee77 div.sk-parallel-item::after {content: \"\";width: 100%;border-bottom: 1px solid gray;flex-grow: 1;}#sk-c9221c14-8132-4d07-bd95-af2d65bcee77 div.sk-label:hover label.sk-toggleable__label {background-color: #d4ebff;}#sk-c9221c14-8132-4d07-bd95-af2d65bcee77 div.sk-serial::before {content: \"\";position: absolute;border-left: 1px solid gray;box-sizing: border-box;top: 2em;bottom: 0;left: 50%;}#sk-c9221c14-8132-4d07-bd95-af2d65bcee77 div.sk-serial {display: flex;flex-direction: column;align-items: center;background-color: white;padding-right: 0.2em;padding-left: 0.2em;}#sk-c9221c14-8132-4d07-bd95-af2d65bcee77 div.sk-item {z-index: 1;}#sk-c9221c14-8132-4d07-bd95-af2d65bcee77 div.sk-parallel {display: flex;align-items: stretch;justify-content: center;background-color: white;}#sk-c9221c14-8132-4d07-bd95-af2d65bcee77 div.sk-parallel::before {content: \"\";position: absolute;border-left: 1px solid gray;box-sizing: border-box;top: 2em;bottom: 0;left: 50%;}#sk-c9221c14-8132-4d07-bd95-af2d65bcee77 div.sk-parallel-item {display: flex;flex-direction: column;position: relative;background-color: white;}#sk-c9221c14-8132-4d07-bd95-af2d65bcee77 div.sk-parallel-item:first-child::after {align-self: flex-end;width: 50%;}#sk-c9221c14-8132-4d07-bd95-af2d65bcee77 div.sk-parallel-item:last-child::after {align-self: flex-start;width: 50%;}#sk-c9221c14-8132-4d07-bd95-af2d65bcee77 div.sk-parallel-item:only-child::after {width: 0;}#sk-c9221c14-8132-4d07-bd95-af2d65bcee77 div.sk-dashed-wrapped {border: 1px dashed gray;margin: 0 0.4em 0.5em 0.4em;box-sizing: border-box;padding-bottom: 0.4em;background-color: white;position: relative;}#sk-c9221c14-8132-4d07-bd95-af2d65bcee77 div.sk-label label {font-family: monospace;font-weight: bold;background-color: white;display: inline-block;line-height: 1.2em;}#sk-c9221c14-8132-4d07-bd95-af2d65bcee77 div.sk-label-container {position: relative;z-index: 2;text-align: center;}#sk-c9221c14-8132-4d07-bd95-af2d65bcee77 div.sk-container {/* jupyter's `normalize.less` sets `[hidden] { display: none; }` but bootstrap.min.css set `[hidden] { display: none !important; }` so we also need the `!important` here to be able to override the default hidden behavior on the sphinx rendered scikit-learn.org. See: https://github.com/scikit-learn/scikit-learn/issues/21755 */display: inline-block !important;position: relative;}#sk-c9221c14-8132-4d07-bd95-af2d65bcee77 div.sk-text-repr-fallback {display: none;}</style><div id=\"sk-c9221c14-8132-4d07-bd95-af2d65bcee77\" class=\"sk-top-container\"><div class=\"sk-text-repr-fallback\"><pre>GridSearchCV(cv=7,\n",
              "             estimator=Pipeline(steps=[(&#x27;preprocessor&#x27;,\n",
              "                                        ColumnTransformer(transformers=[(&#x27;transform&#x27;,\n",
              "                                                                         Pipeline(steps=[(&#x27;StandScaler&#x27;,\n",
              "                                                                                          StandardScaler()),\n",
              "                                                                                         (&#x27;pca&#x27;,\n",
              "                                                                                          PCA())]),\n",
              "                                                                         [&#x27;INDUS&#x27;,\n",
              "                                                                          &#x27;RM&#x27;,\n",
              "                                                                          &#x27;TAX&#x27;,\n",
              "                                                                          &#x27;PTRATIO&#x27;,\n",
              "                                                                          &#x27;LSTAT&#x27;])])),\n",
              "                                       (&#x27;regressor&#x27;,\n",
              "                                        GradientBoostingRegressor(max_depth=5,\n",
              "                                                                  min_samples_leaf=50,\n",
              "                                                                  min_samples_split=5,\n",
              "                                                                  random_state=53,\n",
              "                                                                  subsample=0.8))]),\n",
              "             n_jobs=-1,\n",
              "             pa...\n",
              "                                                            min_samples_split=5,\n",
              "                                                            n_jobs=-1,\n",
              "                                                            random_state=53)],\n",
              "                          &#x27;regressor__max_depth&#x27;: [2, 3, 4, 6],\n",
              "                          &#x27;regressor__n_estimators&#x27;: [50, 75, 100, 125, 150]},\n",
              "                         {&#x27;regressor&#x27;: [RandomForestRegressor(max_depth=6,\n",
              "                                                              n_estimators=75,\n",
              "                                                              n_jobs=-1,\n",
              "                                                              random_state=53)],\n",
              "                          &#x27;regressor__max_depth&#x27;: [2, 3, 4, 6],\n",
              "                          &#x27;regressor__n_estimators&#x27;: [50, 75, 100, 125, 150]}],\n",
              "             scoring=&#x27;neg_root_mean_squared_error&#x27;, verbose=10)</pre><b>Please rerun this cell to show the HTML repr or trust the notebook.</b></div><div class=\"sk-container\" hidden><div class=\"sk-item sk-dashed-wrapped\"><div class=\"sk-label-container\"><div class=\"sk-label sk-toggleable\"><input class=\"sk-toggleable__control sk-hidden--visually\" id=\"e1dd43fc-48cb-4d05-9e01-fb8db53def92\" type=\"checkbox\" ><label for=\"e1dd43fc-48cb-4d05-9e01-fb8db53def92\" class=\"sk-toggleable__label sk-toggleable__label-arrow\">GridSearchCV</label><div class=\"sk-toggleable__content\"><pre>GridSearchCV(cv=7,\n",
              "             estimator=Pipeline(steps=[(&#x27;preprocessor&#x27;,\n",
              "                                        ColumnTransformer(transformers=[(&#x27;transform&#x27;,\n",
              "                                                                         Pipeline(steps=[(&#x27;StandScaler&#x27;,\n",
              "                                                                                          StandardScaler()),\n",
              "                                                                                         (&#x27;pca&#x27;,\n",
              "                                                                                          PCA())]),\n",
              "                                                                         [&#x27;INDUS&#x27;,\n",
              "                                                                          &#x27;RM&#x27;,\n",
              "                                                                          &#x27;TAX&#x27;,\n",
              "                                                                          &#x27;PTRATIO&#x27;,\n",
              "                                                                          &#x27;LSTAT&#x27;])])),\n",
              "                                       (&#x27;regressor&#x27;,\n",
              "                                        GradientBoostingRegressor(max_depth=5,\n",
              "                                                                  min_samples_leaf=50,\n",
              "                                                                  min_samples_split=5,\n",
              "                                                                  random_state=53,\n",
              "                                                                  subsample=0.8))]),\n",
              "             n_jobs=-1,\n",
              "             pa...\n",
              "                                                            min_samples_split=5,\n",
              "                                                            n_jobs=-1,\n",
              "                                                            random_state=53)],\n",
              "                          &#x27;regressor__max_depth&#x27;: [2, 3, 4, 6],\n",
              "                          &#x27;regressor__n_estimators&#x27;: [50, 75, 100, 125, 150]},\n",
              "                         {&#x27;regressor&#x27;: [RandomForestRegressor(max_depth=6,\n",
              "                                                              n_estimators=75,\n",
              "                                                              n_jobs=-1,\n",
              "                                                              random_state=53)],\n",
              "                          &#x27;regressor__max_depth&#x27;: [2, 3, 4, 6],\n",
              "                          &#x27;regressor__n_estimators&#x27;: [50, 75, 100, 125, 150]}],\n",
              "             scoring=&#x27;neg_root_mean_squared_error&#x27;, verbose=10)</pre></div></div></div><div class=\"sk-parallel\"><div class=\"sk-parallel-item\"><div class=\"sk-item\"><div class=\"sk-serial\"><div class=\"sk-item\"><div class=\"sk-serial\"><div class=\"sk-item sk-dashed-wrapped\"><div class=\"sk-label-container\"><div class=\"sk-label sk-toggleable\"><input class=\"sk-toggleable__control sk-hidden--visually\" id=\"e0aaf7f5-ab60-4205-baf4-c3f4637f4701\" type=\"checkbox\" ><label for=\"e0aaf7f5-ab60-4205-baf4-c3f4637f4701\" class=\"sk-toggleable__label sk-toggleable__label-arrow\">preprocessor: ColumnTransformer</label><div class=\"sk-toggleable__content\"><pre>ColumnTransformer(transformers=[(&#x27;transform&#x27;,\n",
              "                                 Pipeline(steps=[(&#x27;StandScaler&#x27;,\n",
              "                                                  StandardScaler()),\n",
              "                                                 (&#x27;pca&#x27;, PCA())]),\n",
              "                                 [&#x27;INDUS&#x27;, &#x27;RM&#x27;, &#x27;TAX&#x27;, &#x27;PTRATIO&#x27;, &#x27;LSTAT&#x27;])])</pre></div></div></div><div class=\"sk-parallel\"><div class=\"sk-parallel-item\"><div class=\"sk-item\"><div class=\"sk-label-container\"><div class=\"sk-label sk-toggleable\"><input class=\"sk-toggleable__control sk-hidden--visually\" id=\"2e13ac58-0132-400c-a951-f2f25fa86bfe\" type=\"checkbox\" ><label for=\"2e13ac58-0132-400c-a951-f2f25fa86bfe\" class=\"sk-toggleable__label sk-toggleable__label-arrow\">transform</label><div class=\"sk-toggleable__content\"><pre>[&#x27;INDUS&#x27;, &#x27;RM&#x27;, &#x27;TAX&#x27;, &#x27;PTRATIO&#x27;, &#x27;LSTAT&#x27;]</pre></div></div></div><div class=\"sk-serial\"><div class=\"sk-item\"><div class=\"sk-serial\"><div class=\"sk-item\"><div class=\"sk-estimator sk-toggleable\"><input class=\"sk-toggleable__control sk-hidden--visually\" id=\"163cf939-41d2-49c4-bfb7-1fddb6059c43\" type=\"checkbox\" ><label for=\"163cf939-41d2-49c4-bfb7-1fddb6059c43\" class=\"sk-toggleable__label sk-toggleable__label-arrow\">StandardScaler</label><div class=\"sk-toggleable__content\"><pre>StandardScaler()</pre></div></div></div><div class=\"sk-item\"><div class=\"sk-estimator sk-toggleable\"><input class=\"sk-toggleable__control sk-hidden--visually\" id=\"10a21e97-b21c-43b4-8b41-842f56840153\" type=\"checkbox\" ><label for=\"10a21e97-b21c-43b4-8b41-842f56840153\" class=\"sk-toggleable__label sk-toggleable__label-arrow\">PCA</label><div class=\"sk-toggleable__content\"><pre>PCA()</pre></div></div></div></div></div></div></div></div></div></div><div class=\"sk-item\"><div class=\"sk-estimator sk-toggleable\"><input class=\"sk-toggleable__control sk-hidden--visually\" id=\"f13c5ea1-a567-401d-a4a0-cca2b9bd993e\" type=\"checkbox\" ><label for=\"f13c5ea1-a567-401d-a4a0-cca2b9bd993e\" class=\"sk-toggleable__label sk-toggleable__label-arrow\">GradientBoostingRegressor</label><div class=\"sk-toggleable__content\"><pre>GradientBoostingRegressor(max_depth=5, min_samples_leaf=50, min_samples_split=5,\n",
              "                          random_state=53, subsample=0.8)</pre></div></div></div></div></div></div></div></div></div></div></div></div>"
            ],
            "text/plain": [
              "GridSearchCV(cv=7,\n",
              "             estimator=Pipeline(steps=[('preprocessor',\n",
              "                                        ColumnTransformer(transformers=[('transform',\n",
              "                                                                         Pipeline(steps=[('StandScaler',\n",
              "                                                                                          StandardScaler()),\n",
              "                                                                                         ('pca',\n",
              "                                                                                          PCA())]),\n",
              "                                                                         ['INDUS',\n",
              "                                                                          'RM',\n",
              "                                                                          'TAX',\n",
              "                                                                          'PTRATIO',\n",
              "                                                                          'LSTAT'])])),\n",
              "                                       ('regressor',\n",
              "                                        GradientBoostingRegressor(max_depth=5,\n",
              "                                                                  min_samples_leaf=50,\n",
              "                                                                  min_samples_split=5,\n",
              "                                                                  random_state=53,\n",
              "                                                                  subsample=0.8))]),\n",
              "             n_jobs=-1,\n",
              "             pa...\n",
              "                                                            min_samples_split=5,\n",
              "                                                            n_jobs=-1,\n",
              "                                                            random_state=53)],\n",
              "                          'regressor__max_depth': [2, 3, 4, 6],\n",
              "                          'regressor__n_estimators': [50, 75, 100, 125, 150]},\n",
              "                         {'regressor': [RandomForestRegressor(max_depth=6,\n",
              "                                                              n_estimators=75,\n",
              "                                                              n_jobs=-1,\n",
              "                                                              random_state=53)],\n",
              "                          'regressor__max_depth': [2, 3, 4, 6],\n",
              "                          'regressor__n_estimators': [50, 75, 100, 125, 150]}],\n",
              "             scoring='neg_root_mean_squared_error', verbose=10)"
            ]
          },
          "metadata": {},
          "execution_count": 31
        }
      ]
    },
    {
      "cell_type": "markdown",
      "source": [
        "#### cv_results_ で列ヘッダーとしてのキーと列としての値を持つdictを呼び出せる．これは DataFrame インポートできる．今回は最も精度が良かったインデックスを表示．"
      ],
      "metadata": {
        "id": "Fn-ZBMIFSCuO"
      }
    },
    {
      "cell_type": "code",
      "source": [
        "cv_result = pd.DataFrame(gs.cv_results_)\n",
        "cv_result.loc[gs.best_index_]"
      ],
      "metadata": {
        "colab": {
          "base_uri": "https://localhost:8080/"
        },
        "id": "vkkYUrLbO3hR",
        "outputId": "99cd0985-b12e-4416-b753-f3be0849f2f6"
      },
      "execution_count": null,
      "outputs": [
        {
          "output_type": "execute_result",
          "data": {
            "text/plain": [
              "mean_fit_time                                                              0.249776\n",
              "std_fit_time                                                               0.010163\n",
              "mean_score_time                                                            0.106824\n",
              "std_score_time                                                             0.001683\n",
              "param_regressor                   RandomForestRegressor(max_depth=6, n_estimator...\n",
              "param_regressor__learning_rate                                                  NaN\n",
              "param_regressor__max_depth                                                        6\n",
              "param_regressor__n_estimators                                                    75\n",
              "params                            {'regressor': RandomForestRegressor(max_depth=...\n",
              "split0_test_score                                                         -3.785683\n",
              "split1_test_score                                                         -3.548322\n",
              "split2_test_score                                                         -4.361951\n",
              "split3_test_score                                                         -3.771994\n",
              "split4_test_score                                                          -5.16776\n",
              "split5_test_score                                                         -4.277585\n",
              "split6_test_score                                                          -3.05836\n",
              "mean_test_score                                                           -3.995951\n",
              "std_test_score                                                             0.627948\n",
              "rank_test_score                                                                   1\n",
              "Name: 612, dtype: object"
            ]
          },
          "metadata": {},
          "execution_count": 32
        }
      ]
    },
    {
      "cell_type": "code",
      "source": [
        "# 最も精度が高かった組合せのPipelineの過程\n",
        "gs.best_estimator_"
      ],
      "metadata": {
        "id": "ZSzYbXLzPTHl"
      },
      "execution_count": null,
      "outputs": []
    },
    {
      "cell_type": "code",
      "source": [
        " best_params = gs.best_params_\n",
        " best_params"
      ],
      "metadata": {
        "id": "XSfe0QFaTudK",
        "colab": {
          "base_uri": "https://localhost:8080/"
        },
        "outputId": "b49b6f7c-e3f7-41c3-b4e0-07b3873575a2"
      },
      "execution_count": null,
      "outputs": [
        {
          "output_type": "execute_result",
          "data": {
            "text/plain": [
              "{'regressor': RandomForestRegressor(max_depth=6, n_estimators=75, n_jobs=-1, random_state=53),\n",
              " 'regressor__max_depth': 6,\n",
              " 'regressor__n_estimators': 75}"
            ]
          },
          "metadata": {},
          "execution_count": 34
        }
      ]
    },
    {
      "cell_type": "code",
      "source": [
        "gs.best_score_"
      ],
      "metadata": {
        "id": "0tq3kt5ZTyot",
        "colab": {
          "base_uri": "https://localhost:8080/"
        },
        "outputId": "359088b1-9526-4bd4-ab8b-dced67ee2b34"
      },
      "execution_count": null,
      "outputs": [
        {
          "output_type": "execute_result",
          "data": {
            "text/plain": [
              "-3.9959508549034686"
            ]
          },
          "metadata": {},
          "execution_count": 35
        }
      ]
    },
    {
      "cell_type": "code",
      "source": [
        "gs.score(X_test, y_test)"
      ],
      "metadata": {
        "colab": {
          "base_uri": "https://localhost:8080/"
        },
        "id": "Q-_nOZCRWc7j",
        "outputId": "875737cd-8ea4-4cfc-85db-6f8fd43ab769"
      },
      "execution_count": null,
      "outputs": [
        {
          "output_type": "execute_result",
          "data": {
            "text/plain": [
              "-4.5398853523667935"
            ]
          },
          "metadata": {},
          "execution_count": 40
        }
      ]
    },
    {
      "cell_type": "code",
      "source": [
        "pred = gs.predict(X_test)\n",
        "rmse = mean_squared_error(y_test, pred, squared=False)\n",
        "r2 = r2_score(y_test, pred)"
      ],
      "metadata": {
        "id": "8vVXo2qz8WfC"
      },
      "execution_count": null,
      "outputs": []
    },
    {
      "cell_type": "code",
      "source": [
        "print(f'RMSE: {rmse}')\n",
        "print(f'R2: {r2}')"
      ],
      "metadata": {
        "id": "vQ7mmfDZRUHn",
        "colab": {
          "base_uri": "https://localhost:8080/"
        },
        "outputId": "45d915c0-da00-44bc-d0dd-f656a22d7f27"
      },
      "execution_count": null,
      "outputs": [
        {
          "output_type": "stream",
          "name": "stdout",
          "text": [
            "RMSE: 4.5398853523667935\n",
            "R2: 0.7737368412361636\n"
          ]
        }
      ]
    },
    {
      "cell_type": "markdown",
      "source": [
        "### GridSearchCV結果の可視化\n",
        "ヒートマップを使って結果の可視化を行う．"
      ],
      "metadata": {
        "id": "Td3R9KBDUgz-"
      }
    },
    {
      "cell_type": "code",
      "source": [
        "import seaborn as sns\n",
        "\n",
        "cv_result = cv_result[['param_regressor__max_depth', 'param_regressor__n_estimators', 'mean_test_score']]\n",
        "cv_result_pivot = cv_result.pivot_table('mean_test_score', 'param_regressor__max_depth', 'param_regressor__n_estimators')\n",
        "\n",
        "heat_map = sns.heatmap(cv_result_pivot, annot=True);"
      ],
      "metadata": {
        "colab": {
          "base_uri": "https://localhost:8080/",
          "height": 280
        },
        "id": "7Qo1DaatR0YV",
        "outputId": "5473b260-0876-40fd-c92a-5c81f2c009fe"
      },
      "execution_count": null,
      "outputs": [
        {
          "output_type": "display_data",
          "data": {
            "image/png": "[encoded data removed]",
            "text/plain": [
              "<Figure size 432x288 with 2 Axes>"
            ]
          },
          "metadata": {
            "needs_background": "light"
          }
        }
      ]
    }
  ],
  "metadata": {
    "interpreter": {
      "hash": "a61bd2720834dd329ca1f08f343e4b43379463694b512f8d9daa0ff91d8c30fd"
    },
    "kernelspec": {
      "display_name": "Python 3.8.10 64-bit ('venv': venv)",
      "language": "python",
      "name": "python3"
    },
    "language_info": {
      "codemirror_mode": {
        "name": "ipython",
        "version": 3
      },
      "file_extension": ".py",
      "mimetype": "text/x-python",
      "name": "python",
      "nbconvert_exporter": "python",
      "pygments_lexer": "ipython3",
      "version": "3.8.10"
    },
    "orig_nbformat": 4,
    "colab": {
      "name": "pipeline.ipynb",
      "provenance": []
    }
  },
  "nbformat": 4,
  "nbformat_minor": 0
}